{
 "cells": [
  {
   "cell_type": "code",
   "execution_count": 28,
   "id": "0434e645",
   "metadata": {},
   "outputs": [],
   "source": [
    "import pandas as pd\n",
    "from sklearn.ensemble import RandomForestRegressor\n",
    "import numpy as np\n",
    "import seaborn as sns\n",
    "import matplotlib.pyplot as plt"
   ]
  },
  {
   "cell_type": "code",
   "execution_count": 29,
   "id": "7d82cd1d",
   "metadata": {},
   "outputs": [],
   "source": [
    "df = pd.read_csv('Данные.csv', sep=';')"
   ]
  },
  {
   "cell_type": "code",
   "execution_count": 30,
   "id": "776d491e",
   "metadata": {},
   "outputs": [
    {
     "data": {
      "text/html": [
       "<div>\n",
       "<style scoped>\n",
       "    .dataframe tbody tr th:only-of-type {\n",
       "        vertical-align: middle;\n",
       "    }\n",
       "\n",
       "    .dataframe tbody tr th {\n",
       "        vertical-align: top;\n",
       "    }\n",
       "\n",
       "    .dataframe thead th {\n",
       "        text-align: right;\n",
       "    }\n",
       "</style>\n",
       "<table border=\"1\" class=\"dataframe\">\n",
       "  <thead>\n",
       "    <tr style=\"text-align: right;\">\n",
       "      <th></th>\n",
       "      <th>k</th>\n",
       "      <th>lu</th>\n",
       "      <th>P0</th>\n",
       "      <th>I</th>\n",
       "      <th>gamma</th>\n",
       "      <th>sgamma</th>\n",
       "      <th>r</th>\n",
       "      <th>Psat</th>\n",
       "      <th>Lsat</th>\n",
       "      <th>loptim</th>\n",
       "      <th>lres</th>\n",
       "      <th>loptim/lres</th>\n",
       "      <th>Psat/Pall</th>\n",
       "      <th>Lsat/lu</th>\n",
       "      <th>f</th>\n",
       "      <th>rho</th>\n",
       "      <th>P0/Pall</th>\n",
       "    </tr>\n",
       "  </thead>\n",
       "  <tbody>\n",
       "    <tr>\n",
       "      <th>0</th>\n",
       "      <td>3.89</td>\n",
       "      <td>3.69</td>\n",
       "      <td>12800000.0</td>\n",
       "      <td>80.0</td>\n",
       "      <td>2650.0</td>\n",
       "      <td>0.0</td>\n",
       "      <td>0.0001</td>\n",
       "      <td>1.430000e+08</td>\n",
       "      <td>18.5</td>\n",
       "      <td>2.261250e-08</td>\n",
       "      <td>2.257770e-08</td>\n",
       "      <td>0.001542</td>\n",
       "      <td>0.00132</td>\n",
       "      <td>5.01</td>\n",
       "      <td>0.736</td>\n",
       "      <td>0.0208</td>\n",
       "      <td>1.180000e-04</td>\n",
       "    </tr>\n",
       "    <tr>\n",
       "      <th>1</th>\n",
       "      <td>3.89</td>\n",
       "      <td>3.69</td>\n",
       "      <td>12800.0</td>\n",
       "      <td>80.0</td>\n",
       "      <td>1000.0</td>\n",
       "      <td>0.0</td>\n",
       "      <td>0.0001</td>\n",
       "      <td>9.800000e+07</td>\n",
       "      <td>16.7</td>\n",
       "      <td>1.585280e-07</td>\n",
       "      <td>1.580440e-07</td>\n",
       "      <td>0.003065</td>\n",
       "      <td>0.00240</td>\n",
       "      <td>4.52</td>\n",
       "      <td>0.736</td>\n",
       "      <td>0.0550</td>\n",
       "      <td>3.130000e-07</td>\n",
       "    </tr>\n",
       "    <tr>\n",
       "      <th>2</th>\n",
       "      <td>3.98</td>\n",
       "      <td>3.69</td>\n",
       "      <td>150000.0</td>\n",
       "      <td>500.0</td>\n",
       "      <td>2830.0</td>\n",
       "      <td>0.0</td>\n",
       "      <td>0.0001</td>\n",
       "      <td>1.130000e+09</td>\n",
       "      <td>20.3</td>\n",
       "      <td>2.061380e-08</td>\n",
       "      <td>2.057220e-08</td>\n",
       "      <td>0.002024</td>\n",
       "      <td>0.00156</td>\n",
       "      <td>5.49</td>\n",
       "      <td>0.735</td>\n",
       "      <td>0.0363</td>\n",
       "      <td>2.070000e-07</td>\n",
       "    </tr>\n",
       "    <tr>\n",
       "      <th>3</th>\n",
       "      <td>3.98</td>\n",
       "      <td>3.69</td>\n",
       "      <td>1500000.0</td>\n",
       "      <td>500.0</td>\n",
       "      <td>3160.0</td>\n",
       "      <td>0.0</td>\n",
       "      <td>0.0001</td>\n",
       "      <td>1.100000e+09</td>\n",
       "      <td>18.3</td>\n",
       "      <td>1.648760e-08</td>\n",
       "      <td>1.645770e-08</td>\n",
       "      <td>0.001814</td>\n",
       "      <td>0.00136</td>\n",
       "      <td>4.96</td>\n",
       "      <td>0.735</td>\n",
       "      <td>0.0325</td>\n",
       "      <td>1.850000e-06</td>\n",
       "    </tr>\n",
       "    <tr>\n",
       "      <th>4</th>\n",
       "      <td>3.98</td>\n",
       "      <td>3.69</td>\n",
       "      <td>150000.0</td>\n",
       "      <td>500.0</td>\n",
       "      <td>2650.0</td>\n",
       "      <td>0.0</td>\n",
       "      <td>0.0001</td>\n",
       "      <td>1.180000e+09</td>\n",
       "      <td>19.4</td>\n",
       "      <td>2.356200e-08</td>\n",
       "      <td>2.351110e-08</td>\n",
       "      <td>0.002164</td>\n",
       "      <td>0.00175</td>\n",
       "      <td>5.25</td>\n",
       "      <td>0.735</td>\n",
       "      <td>0.0388</td>\n",
       "      <td>2.210000e-07</td>\n",
       "    </tr>\n",
       "  </tbody>\n",
       "</table>\n",
       "</div>"
      ],
      "text/plain": [
       "      k    lu          P0      I   gamma  sgamma       r          Psat  Lsat  \\\n",
       "0  3.89  3.69  12800000.0   80.0  2650.0     0.0  0.0001  1.430000e+08  18.5   \n",
       "1  3.89  3.69     12800.0   80.0  1000.0     0.0  0.0001  9.800000e+07  16.7   \n",
       "2  3.98  3.69    150000.0  500.0  2830.0     0.0  0.0001  1.130000e+09  20.3   \n",
       "3  3.98  3.69   1500000.0  500.0  3160.0     0.0  0.0001  1.100000e+09  18.3   \n",
       "4  3.98  3.69    150000.0  500.0  2650.0     0.0  0.0001  1.180000e+09  19.4   \n",
       "\n",
       "         loptim          lres  loptim/lres  Psat/Pall  Lsat/lu      f     rho  \\\n",
       "0  2.261250e-08  2.257770e-08     0.001542    0.00132     5.01  0.736  0.0208   \n",
       "1  1.585280e-07  1.580440e-07     0.003065    0.00240     4.52  0.736  0.0550   \n",
       "2  2.061380e-08  2.057220e-08     0.002024    0.00156     5.49  0.735  0.0363   \n",
       "3  1.648760e-08  1.645770e-08     0.001814    0.00136     4.96  0.735  0.0325   \n",
       "4  2.356200e-08  2.351110e-08     0.002164    0.00175     5.25  0.735  0.0388   \n",
       "\n",
       "        P0/Pall  \n",
       "0  1.180000e-04  \n",
       "1  3.130000e-07  \n",
       "2  2.070000e-07  \n",
       "3  1.850000e-06  \n",
       "4  2.210000e-07  "
      ]
     },
     "execution_count": 30,
     "metadata": {},
     "output_type": "execute_result"
    }
   ],
   "source": [
    "df.head()"
   ]
  },
  {
   "cell_type": "code",
   "execution_count": 31,
   "id": "ddb4c50f",
   "metadata": {},
   "outputs": [],
   "source": [
    "df = df.dropna()"
   ]
  },
  {
   "cell_type": "markdown",
   "id": "6cde0779",
   "metadata": {},
   "source": [
    "Look at the power distribution. "
   ]
  },
  {
   "cell_type": "code",
   "execution_count": 32,
   "id": "b4778146",
   "metadata": {},
   "outputs": [
    {
     "data": {
      "text/plain": [
       "Text(0.5, 1.0, 'Power hist')"
      ]
     },
     "execution_count": 32,
     "metadata": {},
     "output_type": "execute_result"
    },
    {
     "data": {
      "image/png": "[encoded data removed]",
      "text/plain": [
       "<Figure size 432x288 with 1 Axes>"
      ]
     },
     "metadata": {
      "needs_background": "light"
     },
     "output_type": "display_data"
    }
   ],
   "source": [
    "sns.histplot(df, x='Psat/Pall')\n",
    "plt.title(\"Power hist\")"
   ]
  },
  {
   "cell_type": "markdown",
   "id": "1de6f727",
   "metadata": {},
   "source": [
    "Delete all the blowout(rho>0.012) "
   ]
  },
  {
   "cell_type": "code",
   "execution_count": 33,
   "id": "059124db",
   "metadata": {},
   "outputs": [],
   "source": [
    "df = df[df['Psat/Pall']<0.012]"
   ]
  },
  {
   "cell_type": "code",
   "execution_count": null,
   "id": "0ad64f35",
   "metadata": {},
   "outputs": [],
   "source": [
    "Create a new feature log(Psat/Pall)"
   ]
  },
  {
   "cell_type": "code",
   "execution_count": 34,
   "id": "f346dff6",
   "metadata": {},
   "outputs": [],
   "source": [
    "df['log'] = np.log(df[['Psat/Pall']])"
   ]
  },
  {
   "cell_type": "code",
   "execution_count": 35,
   "id": "8609874f",
   "metadata": {},
   "outputs": [],
   "source": [
    "df['log0'] = np.log(df['P0']/df['I']/df['gamma']/511000)"
   ]
  },
  {
   "cell_type": "code",
   "execution_count": 36,
   "id": "577667aa",
   "metadata": {},
   "outputs": [
    {
     "data": {
      "text/plain": [
       "Text(0.5, 1.0, 'Power hist')"
      ]
     },
     "execution_count": 36,
     "metadata": {},
     "output_type": "execute_result"
    },
    {
     "data": {
      "image/png": "[encoded data removed]",
      "text/plain": [
       "<Figure size 432x288 with 1 Axes>"
      ]
     },
     "metadata": {
      "needs_background": "light"
     },
     "output_type": "display_data"
    }
   ],
   "source": [
    "sns.histplot(df, x='log0')\n",
    "plt.title(\"Power hist\")"
   ]
  },
  {
   "cell_type": "code",
   "execution_count": 37,
   "id": "89986f0c",
   "metadata": {},
   "outputs": [
    {
     "data": {
      "text/plain": [
       "Text(0.5, 1.0, 'Power hist')"
      ]
     },
     "execution_count": 37,
     "metadata": {},
     "output_type": "execute_result"
    },
    {
     "data": {
      "image/png": "[encoded data removed]",
      "text/plain": [
       "<Figure size 432x288 with 1 Axes>"
      ]
     },
     "metadata": {
      "needs_background": "light"
     },
     "output_type": "display_data"
    }
   ],
   "source": [
    "sns.histplot(df, x='log')\n",
    "plt.title(\"Power hist\")"
   ]
  },
  {
   "cell_type": "code",
   "execution_count": 38,
   "id": "076ed995",
   "metadata": {},
   "outputs": [
    {
     "data": {
      "text/plain": [
       "Text(0.5, 1.0, 'L_sat hist')"
      ]
     },
     "execution_count": 38,
     "metadata": {},
     "output_type": "execute_result"
    },
    {
     "data": {
      "image/png": "[encoded data removed]",
      "text/plain": [
       "<Figure size 432x288 with 1 Axes>"
      ]
     },
     "metadata": {
      "needs_background": "light"
     },
     "output_type": "display_data"
    }
   ],
   "source": [
    "sns.histplot(df, x='Lsat')\n",
    "plt.title(\"L_sat hist\")"
   ]
  },
  {
   "cell_type": "code",
   "execution_count": 39,
   "id": "ae2a57a8",
   "metadata": {},
   "outputs": [
    {
     "data": {
      "text/plain": [
       "Text(0.5, 1.0, 'L_sat hist')"
      ]
     },
     "execution_count": 39,
     "metadata": {},
     "output_type": "execute_result"
    },
    {
     "data": {
      "image/png": "[encoded data removed]",
      "text/plain": [
       "<Figure size 432x288 with 1 Axes>"
      ]
     },
     "metadata": {
      "needs_background": "light"
     },
     "output_type": "display_data"
    }
   ],
   "source": [
    "sns.histplot(df, x='Lsat/lu')\n",
    "plt.title(\"L_sat hist\")"
   ]
  },
  {
   "cell_type": "code",
   "execution_count": 40,
   "id": "e13d32a5",
   "metadata": {},
   "outputs": [
    {
     "data": {
      "text/plain": [
       "Text(0.5, 1.0, 'lambda')"
      ]
     },
     "execution_count": 40,
     "metadata": {},
     "output_type": "execute_result"
    },
    {
     "data": {
      "image/png": "[encoded data removed]",
      "text/plain": [
       "<Figure size 432x288 with 1 Axes>"
      ]
     },
     "metadata": {
      "needs_background": "light"
     },
     "output_type": "display_data"
    }
   ],
   "source": [
    "sns.histplot(df, x='loptim/lres')\n",
    "plt.title(\"lambda\")"
   ]
  },
  {
   "cell_type": "code",
   "execution_count": 41,
   "id": "de7b6675",
   "metadata": {},
   "outputs": [],
   "source": [
    "df1 = df.drop(columns=['P0', 'P0/Pall', 'Psat', 'Lsat', 'loptim','lres', 'loptim/lres', 'Psat/Pall', 'Lsat/lu', 'f', 'rho', 'log'])"
   ]
  },
  {
   "cell_type": "code",
   "execution_count": 42,
   "id": "eefd82ea",
   "metadata": {},
   "outputs": [
    {
     "data": {
      "text/html": [
       "<div>\n",
       "<style scoped>\n",
       "    .dataframe tbody tr th:only-of-type {\n",
       "        vertical-align: middle;\n",
       "    }\n",
       "\n",
       "    .dataframe tbody tr th {\n",
       "        vertical-align: top;\n",
       "    }\n",
       "\n",
       "    .dataframe thead th {\n",
       "        text-align: right;\n",
       "    }\n",
       "</style>\n",
       "<table border=\"1\" class=\"dataframe\">\n",
       "  <thead>\n",
       "    <tr style=\"text-align: right;\">\n",
       "      <th></th>\n",
       "      <th>k</th>\n",
       "      <th>lu</th>\n",
       "      <th>I</th>\n",
       "      <th>gamma</th>\n",
       "      <th>sgamma</th>\n",
       "      <th>r</th>\n",
       "      <th>log0</th>\n",
       "    </tr>\n",
       "  </thead>\n",
       "  <tbody>\n",
       "    <tr>\n",
       "      <th>952</th>\n",
       "      <td>1.92</td>\n",
       "      <td>1.24</td>\n",
       "      <td>600.0</td>\n",
       "      <td>2000.0</td>\n",
       "      <td>0.0002</td>\n",
       "      <td>0.00004</td>\n",
       "      <td>-15.589811</td>\n",
       "    </tr>\n",
       "    <tr>\n",
       "      <th>953</th>\n",
       "      <td>1.92</td>\n",
       "      <td>1.24</td>\n",
       "      <td>600.0</td>\n",
       "      <td>4470.0</td>\n",
       "      <td>0.0002</td>\n",
       "      <td>0.00004</td>\n",
       "      <td>-16.394052</td>\n",
       "    </tr>\n",
       "    <tr>\n",
       "      <th>954</th>\n",
       "      <td>1.92</td>\n",
       "      <td>1.24</td>\n",
       "      <td>600.0</td>\n",
       "      <td>837.0</td>\n",
       "      <td>0.0002</td>\n",
       "      <td>0.00004</td>\n",
       "      <td>-10.113562</td>\n",
       "    </tr>\n",
       "    <tr>\n",
       "      <th>955</th>\n",
       "      <td>3.81</td>\n",
       "      <td>1.24</td>\n",
       "      <td>80.0</td>\n",
       "      <td>1000.0</td>\n",
       "      <td>0.0002</td>\n",
       "      <td>0.00004</td>\n",
       "      <td>-10.505068</td>\n",
       "    </tr>\n",
       "    <tr>\n",
       "      <th>956</th>\n",
       "      <td>3.81</td>\n",
       "      <td>1.24</td>\n",
       "      <td>80.0</td>\n",
       "      <td>2830.0</td>\n",
       "      <td>0.0002</td>\n",
       "      <td>0.00004</td>\n",
       "      <td>-16.150514</td>\n",
       "    </tr>\n",
       "  </tbody>\n",
       "</table>\n",
       "</div>"
      ],
      "text/plain": [
       "        k    lu      I   gamma  sgamma        r       log0\n",
       "952  1.92  1.24  600.0  2000.0  0.0002  0.00004 -15.589811\n",
       "953  1.92  1.24  600.0  4470.0  0.0002  0.00004 -16.394052\n",
       "954  1.92  1.24  600.0   837.0  0.0002  0.00004 -10.113562\n",
       "955  3.81  1.24   80.0  1000.0  0.0002  0.00004 -10.505068\n",
       "956  3.81  1.24   80.0  2830.0  0.0002  0.00004 -16.150514"
      ]
     },
     "execution_count": 42,
     "metadata": {},
     "output_type": "execute_result"
    }
   ],
   "source": [
    "df1.tail()"
   ]
  },
  {
   "cell_type": "code",
   "execution_count": 43,
   "id": "46407fb6",
   "metadata": {},
   "outputs": [],
   "source": [
    "from sklearn.model_selection import train_test_split\n",
    "\n",
    "X_train, X_test, y_train, y_test = train_test_split(df1, df['log'], test_size=0.2, random_state=42)"
   ]
  },
  {
   "cell_type": "code",
   "execution_count": 44,
   "id": "06140b34",
   "metadata": {},
   "outputs": [
    {
     "data": {
      "text/plain": [
       "0.22281251689299772"
      ]
     },
     "execution_count": 44,
     "metadata": {},
     "output_type": "execute_result"
    }
   ],
   "source": [
    "from sklearn.metrics import mean_absolute_percentage_error\n",
    "\n",
    "clf1 = RandomForestRegressor(max_depth=20, random_state=0)\n",
    "clf1.fit(X_train, y_train)\n",
    "mean_absolute_percentage_error(np.exp(y_test), np.exp(clf1.predict(X_test)))"
   ]
  },
  {
   "cell_type": "markdown",
   "id": "761603fe",
   "metadata": {},
   "source": [
    "Try to scale the data. It doesn't make sense. "
   ]
  },
  {
   "cell_type": "code",
   "execution_count": 45,
   "id": "5c0a88f6",
   "metadata": {},
   "outputs": [
    {
     "data": {
      "text/plain": [
       "0.22265388841137893"
      ]
     },
     "execution_count": 45,
     "metadata": {},
     "output_type": "execute_result"
    }
   ],
   "source": [
    "from sklearn.preprocessing import MinMaxScaler\n",
    "\n",
    "scaler = MinMaxScaler()\n",
    "scaler.fit(X_train)\n",
    "X_train = scaler.transform(X_train)\n",
    "X_test = scaler.transform(X_test) \n",
    "\n",
    "clf = RandomForestRegressor(max_depth=20, random_state=0)\n",
    "clf.fit(X_train, y_train)\n",
    "mean_absolute_percentage_error(np.exp(y_test), np.exp(clf.predict(X_test)))"
   ]
  },
  {
   "cell_type": "markdown",
   "id": "5efe412f",
   "metadata": {},
   "source": [
    "Train the classificator for the saturation length."
   ]
  },
  {
   "cell_type": "code",
   "execution_count": 46,
   "id": "7665e889",
   "metadata": {
    "scrolled": true
   },
   "outputs": [
    {
     "data": {
      "text/plain": [
       "0.18128338009375258"
      ]
     },
     "execution_count": 46,
     "metadata": {},
     "output_type": "execute_result"
    }
   ],
   "source": [
    "X_train, X_test, y_train, y_test = train_test_split(df1, df['Lsat/lu'], test_size=0.2, random_state=42)\n",
    "\n",
    "\n",
    "clf2 = RandomForestRegressor(max_depth=20, random_state=0)\n",
    "clf2.fit(X_train, y_train)\n",
    "mean_absolute_percentage_error(y_test, clf2.predict(X_test))"
   ]
  },
  {
   "cell_type": "markdown",
   "id": "8a4d619f",
   "metadata": {},
   "source": [
    "The classificator for the optimum wavelength."
   ]
  },
  {
   "cell_type": "code",
   "execution_count": 47,
   "id": "2c558a09",
   "metadata": {},
   "outputs": [
    {
     "data": {
      "text/plain": [
       "0.40904564931280823"
      ]
     },
     "execution_count": 47,
     "metadata": {},
     "output_type": "execute_result"
    }
   ],
   "source": [
    "X_train, X_test, y_train, y_test = train_test_split(df1, df['loptim/lres'], test_size=0.2, random_state=42)\n",
    "\n",
    "\n",
    "\n",
    "clf3 = RandomForestRegressor(max_depth=20, random_state=0)\n",
    "clf3.fit(X_train, y_train)\n",
    "mean_absolute_percentage_error(y_test, clf3.predict(X_test))"
   ]
  },
  {
   "cell_type": "code",
   "execution_count": 59,
   "id": "2494db6b",
   "metadata": {
    "scrolled": true
   },
   "outputs": [
    {
     "name": "stdout",
     "output_type": "stream",
     "text": [
      "P_sat= 18789626753.34721\n",
      "L_sat= 43.04099999999996\n",
      "l_optim= 1.5126632596854863e-10\n",
      "l_res= 1.5104726100966703e-10\n"
     ]
    }
   ],
   "source": [
    "X = pd.DataFrame({'k':[3.5], 'lu':[3], 'I':[3000], 'gamma':[26600], 'sgamma':[0.0001], \n",
    "                  'r':[0.000024], 'log0':[100000]})\n",
    "\n",
    "X['log0'] = np.log(X['log0']/X['I']/X['gamma']/511000)\n",
    "\n",
    "\n",
    "print('P_sat=', (np.exp(clf1.predict(X))*X['gamma']*511000*X['I'])[0])\n",
    "print('L_sat=', (clf2.predict(X)*X['lu'])[0])\n",
    "print('l_optim=', ((clf3.predict(X)+1)*X['lu']/100/2/X['gamma']/X['gamma']*(1+X['k']*X['k']/2))[0])\n",
    "print('l_res=', (X['lu']/100/2/X['gamma']/X['gamma']*(1+X['k']*X['k']/2))[0])"
   ]
  },
  {
   "cell_type": "code",
   "execution_count": 49,
   "id": "46b8f196",
   "metadata": {},
   "outputs": [
    {
     "data": {
      "text/plain": [
       "128    0.000086\n",
       "567    0.000164\n",
       "887    0.000249\n",
       "830    0.000285\n",
       "273    0.000292\n",
       "         ...   \n",
       "209    0.805956\n",
       "766    0.811923\n",
       "547    0.851010\n",
       "571    0.925494\n",
       "898    1.432376\n",
       "Name: Psat/Pall, Length: 953, dtype: float64"
      ]
     },
     "execution_count": 49,
     "metadata": {},
     "output_type": "execute_result"
    }
   ],
   "source": [
    "y_pred = clf1.predict(df1)\n",
    "err = abs(2*(np.exp(y_pred)-df['Psat/Pall'])/(np.exp(y_pred)+df['Psat/Pall']))\n",
    "err.sort_values()"
   ]
  },
  {
   "cell_type": "code",
   "execution_count": 50,
   "id": "74aef67b",
   "metadata": {},
   "outputs": [
    {
     "data": {
      "text/plain": [
       "26     0.001101\n",
       "948    0.002956\n",
       "771    0.003155\n",
       "949    0.004679\n",
       "773    0.006006\n",
       "         ...   \n",
       "250    1.252041\n",
       "496    1.252097\n",
       "365    1.252715\n",
       "436    1.256430\n",
       "439    1.292628\n",
       "Name: Lsat, Length: 953, dtype: float64"
      ]
     },
     "execution_count": 50,
     "metadata": {},
     "output_type": "execute_result"
    }
   ],
   "source": [
    "y_pred = clf2.predict(df1)\n",
    "err = abs(2*(y_pred-df['Lsat'])/(y_pred+df['Lsat']))\n",
    "err.sort_values()"
   ]
  },
  {
   "cell_type": "code",
   "execution_count": 51,
   "id": "0327f982",
   "metadata": {
    "scrolled": true
   },
   "outputs": [
    {
     "data": {
      "text/plain": [
       "739    0.000087\n",
       "643    0.000098\n",
       "720    0.000197\n",
       "829    0.000491\n",
       "729    0.000529\n",
       "         ...   \n",
       "699    1.103455\n",
       "681    1.144743\n",
       "415    1.533171\n",
       "790    1.646950\n",
       "705    1.748072\n",
       "Name: loptim/lres, Length: 953, dtype: float64"
      ]
     },
     "execution_count": 51,
     "metadata": {},
     "output_type": "execute_result"
    }
   ],
   "source": [
    "y_pred = clf3.predict(df1)\n",
    "err = abs(2*(y_pred-df['loptim/lres'])/(y_pred+df['loptim/lres']))\n",
    "err.sort_values()"
   ]
  },
  {
   "cell_type": "markdown",
   "id": "9a42936a",
   "metadata": {},
   "source": [
    "Do the same with gradient boosting. "
   ]
  },
  {
   "cell_type": "code",
   "execution_count": 52,
   "id": "a74f7750",
   "metadata": {},
   "outputs": [],
   "source": [
    "import optuna\n",
    "import xgboost as xgb\n",
    "from sklearn.metrics import mean_squared_error"
   ]
  },
  {
   "cell_type": "code",
   "execution_count": 53,
   "id": "92450034",
   "metadata": {},
   "outputs": [],
   "source": [
    "def objective(trial):\n",
    "    \"\"\"Define the objective function\"\"\"\n",
    "\n",
    "    params = {\n",
    "        'max_depth': trial.suggest_int('max_depth', 1, 30),\n",
    "        'learning_rate': trial.suggest_loguniform('learning_rate', 0.0001, 1.0),\n",
    "        'n_estimators': trial.suggest_int('n_estimators', 50, 500),\n",
    "        'min_child_weight': trial.suggest_int('min_child_weight', 1, 10),\n",
    "        'gamma': trial.suggest_loguniform('gamma', 1e-8, 1.0),\n",
    "        'subsample': trial.suggest_loguniform('subsample', 0.01, 1.0),\n",
    "        'colsample_bytree': trial.suggest_loguniform('colsample_bytree', 0.01, 1.0),\n",
    "        'reg_alpha': trial.suggest_loguniform('reg_alpha', 1e-8, 1.0),\n",
    "        'reg_lambda': trial.suggest_loguniform('reg_lambda', 1e-8, 1.0),\n",
    "        'eval_metric': 'rmse',\n",
    "        'use_label_encoder': False\n",
    "    }\n",
    "\n",
    "    # Fit the model\n",
    "    optuna_model = xgb.XGBRegressor(**params)\n",
    "    optuna_model.fit(X_train, y_train)\n",
    "\n",
    "    # Make predictions\n",
    "    y_pred = optuna_model.predict(X_test)\n",
    "\n",
    "    # Evaluate predictions\n",
    "    accuracy = mean_squared_error(y_test, y_pred)\n",
    "    return accuracy\n"
   ]
  },
  {
   "cell_type": "code",
   "execution_count": 54,
   "id": "c5a614fb",
   "metadata": {},
   "outputs": [],
   "source": [
    "X_train, X_test, y_train, y_test = train_test_split(df1, df['log'], test_size=0.2, random_state=42)"
   ]
  },
  {
   "cell_type": "code",
   "execution_count": 55,
   "id": "c13697f5",
   "metadata": {},
   "outputs": [
    {
     "name": "stderr",
     "output_type": "stream",
     "text": [
      "\u001b[32m[I 2023-03-05 10:26:07,065]\u001b[0m A new study created in memory with name: no-name-7aaead6e-b938-4ec1-81c4-fc8f760cf4bd\u001b[0m\n"
     ]
    }
   ],
   "source": [
    "study = optuna.create_study(direction='minimize')\n"
   ]
  },
  {
   "cell_type": "code",
   "execution_count": 56,
   "id": "580ceaf4",
   "metadata": {},
   "outputs": [
    {
     "name": "stderr",
     "output_type": "stream",
     "text": [
      "C:\\Users\\user\\AppData\\Local\\Temp\\ipykernel_11240\\3075619752.py:6: FutureWarning: suggest_loguniform has been deprecated in v3.0.0. This feature will be removed in v6.0.0. See https://github.com/optuna/optuna/releases/tag/v3.0.0. Use :func:`~optuna.trial.Trial.suggest_float` instead.\n",
      "  'learning_rate': trial.suggest_loguniform('learning_rate', 0.0001, 1.0),\n",
      "C:\\Users\\user\\AppData\\Local\\Temp\\ipykernel_11240\\3075619752.py:9: FutureWarning: suggest_loguniform has been deprecated in v3.0.0. This feature will be removed in v6.0.0. See https://github.com/optuna/optuna/releases/tag/v3.0.0. Use :func:`~optuna.trial.Trial.suggest_float` instead.\n",
      "  'gamma': trial.suggest_loguniform('gamma', 1e-8, 1.0),\n",
      "C:\\Users\\user\\AppData\\Local\\Temp\\ipykernel_11240\\3075619752.py:10: FutureWarning: suggest_loguniform has been deprecated in v3.0.0. This feature will be removed in v6.0.0. See https://github.com/optuna/optuna/releases/tag/v3.0.0. Use :func:`~optuna.trial.Trial.suggest_float` instead.\n",
      "  'subsample': trial.suggest_loguniform('subsample', 0.01, 1.0),\n",
      "C:\\Users\\user\\AppData\\Local\\Temp\\ipykernel_11240\\3075619752.py:11: FutureWarning: suggest_loguniform has been deprecated in v3.0.0. This feature will be removed in v6.0.0. See https://github.com/optuna/optuna/releases/tag/v3.0.0. Use :func:`~optuna.trial.Trial.suggest_float` instead.\n",
      "  'colsample_bytree': trial.suggest_loguniform('colsample_bytree', 0.01, 1.0),\n",
      "C:\\Users\\user\\AppData\\Local\\Temp\\ipykernel_11240\\3075619752.py:12: FutureWarning: suggest_loguniform has been deprecated in v3.0.0. This feature will be removed in v6.0.0. See https://github.com/optuna/optuna/releases/tag/v3.0.0. Use :func:`~optuna.trial.Trial.suggest_float` instead.\n",
      "  'reg_alpha': trial.suggest_loguniform('reg_alpha', 1e-8, 1.0),\n",
      "C:\\Users\\user\\AppData\\Local\\Temp\\ipykernel_11240\\3075619752.py:13: FutureWarning: suggest_loguniform has been deprecated in v3.0.0. This feature will be removed in v6.0.0. See https://github.com/optuna/optuna/releases/tag/v3.0.0. Use :func:`~optuna.trial.Trial.suggest_float` instead.\n",
      "  'reg_lambda': trial.suggest_loguniform('reg_lambda', 1e-8, 1.0),\n",
      "\u001b[32m[I 2023-03-05 10:26:10,901]\u001b[0m Trial 0 finished with value: 18.612724535743098 and parameters: {'max_depth': 4, 'learning_rate': 0.7107454886018866, 'n_estimators': 258, 'min_child_weight': 5, 'gamma': 5.994953253646663e-07, 'subsample': 0.028789728055309684, 'colsample_bytree': 0.17349305199879006, 'reg_alpha': 3.316441201776575e-05, 'reg_lambda': 6.851523049525958e-06}. Best is trial 0 with value: 18.612724535743098.\u001b[0m\n",
      "C:\\Users\\user\\AppData\\Local\\Temp\\ipykernel_11240\\3075619752.py:6: FutureWarning: suggest_loguniform has been deprecated in v3.0.0. This feature will be removed in v6.0.0. See https://github.com/optuna/optuna/releases/tag/v3.0.0. Use :func:`~optuna.trial.Trial.suggest_float` instead.\n",
      "  'learning_rate': trial.suggest_loguniform('learning_rate', 0.0001, 1.0),\n",
      "C:\\Users\\user\\AppData\\Local\\Temp\\ipykernel_11240\\3075619752.py:9: FutureWarning: suggest_loguniform has been deprecated in v3.0.0. This feature will be removed in v6.0.0. See https://github.com/optuna/optuna/releases/tag/v3.0.0. Use :func:`~optuna.trial.Trial.suggest_float` instead.\n",
      "  'gamma': trial.suggest_loguniform('gamma', 1e-8, 1.0),\n",
      "C:\\Users\\user\\AppData\\Local\\Temp\\ipykernel_11240\\3075619752.py:10: FutureWarning: suggest_loguniform has been deprecated in v3.0.0. This feature will be removed in v6.0.0. See https://github.com/optuna/optuna/releases/tag/v3.0.0. Use :func:`~optuna.trial.Trial.suggest_float` instead.\n",
      "  'subsample': trial.suggest_loguniform('subsample', 0.01, 1.0),\n",
      "C:\\Users\\user\\AppData\\Local\\Temp\\ipykernel_11240\\3075619752.py:11: FutureWarning: suggest_loguniform has been deprecated in v3.0.0. This feature will be removed in v6.0.0. See https://github.com/optuna/optuna/releases/tag/v3.0.0. Use :func:`~optuna.trial.Trial.suggest_float` instead.\n",
      "  'colsample_bytree': trial.suggest_loguniform('colsample_bytree', 0.01, 1.0),\n",
      "C:\\Users\\user\\AppData\\Local\\Temp\\ipykernel_11240\\3075619752.py:12: FutureWarning: suggest_loguniform has been deprecated in v3.0.0. This feature will be removed in v6.0.0. See https://github.com/optuna/optuna/releases/tag/v3.0.0. Use :func:`~optuna.trial.Trial.suggest_float` instead.\n",
      "  'reg_alpha': trial.suggest_loguniform('reg_alpha', 1e-8, 1.0),\n",
      "C:\\Users\\user\\AppData\\Local\\Temp\\ipykernel_11240\\3075619752.py:13: FutureWarning: suggest_loguniform has been deprecated in v3.0.0. This feature will be removed in v6.0.0. See https://github.com/optuna/optuna/releases/tag/v3.0.0. Use :func:`~optuna.trial.Trial.suggest_float` instead.\n",
      "  'reg_lambda': trial.suggest_loguniform('reg_lambda', 1e-8, 1.0),\n",
      "\u001b[32m[I 2023-03-05 10:26:15,778]\u001b[0m Trial 1 finished with value: 42.378442848303145 and parameters: {'max_depth': 3, 'learning_rate': 0.000121986784254215, 'n_estimators': 363, 'min_child_weight': 4, 'gamma': 5.2134599200944234e-06, 'subsample': 0.16841603570864097, 'colsample_bytree': 0.19300095528004715, 'reg_alpha': 3.684356732035273e-07, 'reg_lambda': 6.780786609664561e-05}. Best is trial 0 with value: 18.612724535743098.\u001b[0m\n",
      "C:\\Users\\user\\AppData\\Local\\Temp\\ipykernel_11240\\3075619752.py:6: FutureWarning: suggest_loguniform has been deprecated in v3.0.0. This feature will be removed in v6.0.0. See https://github.com/optuna/optuna/releases/tag/v3.0.0. Use :func:`~optuna.trial.Trial.suggest_float` instead.\n",
      "  'learning_rate': trial.suggest_loguniform('learning_rate', 0.0001, 1.0),\n",
      "C:\\Users\\user\\AppData\\Local\\Temp\\ipykernel_11240\\3075619752.py:9: FutureWarning: suggest_loguniform has been deprecated in v3.0.0. This feature will be removed in v6.0.0. See https://github.com/optuna/optuna/releases/tag/v3.0.0. Use :func:`~optuna.trial.Trial.suggest_float` instead.\n",
      "  'gamma': trial.suggest_loguniform('gamma', 1e-8, 1.0),\n",
      "C:\\Users\\user\\AppData\\Local\\Temp\\ipykernel_11240\\3075619752.py:10: FutureWarning: suggest_loguniform has been deprecated in v3.0.0. This feature will be removed in v6.0.0. See https://github.com/optuna/optuna/releases/tag/v3.0.0. Use :func:`~optuna.trial.Trial.suggest_float` instead.\n",
      "  'subsample': trial.suggest_loguniform('subsample', 0.01, 1.0),\n",
      "C:\\Users\\user\\AppData\\Local\\Temp\\ipykernel_11240\\3075619752.py:11: FutureWarning: suggest_loguniform has been deprecated in v3.0.0. This feature will be removed in v6.0.0. See https://github.com/optuna/optuna/releases/tag/v3.0.0. Use :func:`~optuna.trial.Trial.suggest_float` instead.\n",
      "  'colsample_bytree': trial.suggest_loguniform('colsample_bytree', 0.01, 1.0),\n",
      "C:\\Users\\user\\AppData\\Local\\Temp\\ipykernel_11240\\3075619752.py:12: FutureWarning: suggest_loguniform has been deprecated in v3.0.0. This feature will be removed in v6.0.0. See https://github.com/optuna/optuna/releases/tag/v3.0.0. Use :func:`~optuna.trial.Trial.suggest_float` instead.\n",
      "  'reg_alpha': trial.suggest_loguniform('reg_alpha', 1e-8, 1.0),\n",
      "C:\\Users\\user\\AppData\\Local\\Temp\\ipykernel_11240\\3075619752.py:13: FutureWarning: suggest_loguniform has been deprecated in v3.0.0. This feature will be removed in v6.0.0. See https://github.com/optuna/optuna/releases/tag/v3.0.0. Use :func:`~optuna.trial.Trial.suggest_float` instead.\n",
      "  'reg_lambda': trial.suggest_loguniform('reg_lambda', 1e-8, 1.0),\n",
      "\u001b[32m[I 2023-03-05 10:26:25,991]\u001b[0m Trial 2 finished with value: 12.889036451924062 and parameters: {'max_depth': 11, 'learning_rate': 0.0022225792245145664, 'n_estimators': 293, 'min_child_weight': 8, 'gamma': 0.0012170188030491782, 'subsample': 0.11840261436555592, 'colsample_bytree': 0.05439692111579624, 'reg_alpha': 1.5380641077041874e-07, 'reg_lambda': 2.5424410933107415e-06}. Best is trial 2 with value: 12.889036451924062.\u001b[0m\n",
      "C:\\Users\\user\\AppData\\Local\\Temp\\ipykernel_11240\\3075619752.py:6: FutureWarning: suggest_loguniform has been deprecated in v3.0.0. This feature will be removed in v6.0.0. See https://github.com/optuna/optuna/releases/tag/v3.0.0. Use :func:`~optuna.trial.Trial.suggest_float` instead.\n",
      "  'learning_rate': trial.suggest_loguniform('learning_rate', 0.0001, 1.0),\n",
      "C:\\Users\\user\\AppData\\Local\\Temp\\ipykernel_11240\\3075619752.py:9: FutureWarning: suggest_loguniform has been deprecated in v3.0.0. This feature will be removed in v6.0.0. See https://github.com/optuna/optuna/releases/tag/v3.0.0. Use :func:`~optuna.trial.Trial.suggest_float` instead.\n",
      "  'gamma': trial.suggest_loguniform('gamma', 1e-8, 1.0),\n",
      "C:\\Users\\user\\AppData\\Local\\Temp\\ipykernel_11240\\3075619752.py:10: FutureWarning: suggest_loguniform has been deprecated in v3.0.0. This feature will be removed in v6.0.0. See https://github.com/optuna/optuna/releases/tag/v3.0.0. Use :func:`~optuna.trial.Trial.suggest_float` instead.\n",
      "  'subsample': trial.suggest_loguniform('subsample', 0.01, 1.0),\n",
      "C:\\Users\\user\\AppData\\Local\\Temp\\ipykernel_11240\\3075619752.py:11: FutureWarning: suggest_loguniform has been deprecated in v3.0.0. This feature will be removed in v6.0.0. See https://github.com/optuna/optuna/releases/tag/v3.0.0. Use :func:`~optuna.trial.Trial.suggest_float` instead.\n",
      "  'colsample_bytree': trial.suggest_loguniform('colsample_bytree', 0.01, 1.0),\n",
      "C:\\Users\\user\\AppData\\Local\\Temp\\ipykernel_11240\\3075619752.py:12: FutureWarning: suggest_loguniform has been deprecated in v3.0.0. This feature will be removed in v6.0.0. See https://github.com/optuna/optuna/releases/tag/v3.0.0. Use :func:`~optuna.trial.Trial.suggest_float` instead.\n",
      "  'reg_alpha': trial.suggest_loguniform('reg_alpha', 1e-8, 1.0),\n",
      "C:\\Users\\user\\AppData\\Local\\Temp\\ipykernel_11240\\3075619752.py:13: FutureWarning: suggest_loguniform has been deprecated in v3.0.0. This feature will be removed in v6.0.0. See https://github.com/optuna/optuna/releases/tag/v3.0.0. Use :func:`~optuna.trial.Trial.suggest_float` instead.\n",
      "  'reg_lambda': trial.suggest_loguniform('reg_lambda', 1e-8, 1.0),\n",
      "\u001b[32m[I 2023-03-05 10:26:30,040]\u001b[0m Trial 3 finished with value: 41.06103193373333 and parameters: {'max_depth': 2, 'learning_rate': 0.00015584353131990527, 'n_estimators': 388, 'min_child_weight': 7, 'gamma': 0.05361271840349555, 'subsample': 0.20662157890137117, 'colsample_bytree': 0.38158764077441726, 'reg_alpha': 0.16147256153928263, 'reg_lambda': 0.3901511656221151}. Best is trial 2 with value: 12.889036451924062.\u001b[0m\n",
      "C:\\Users\\user\\AppData\\Local\\Temp\\ipykernel_11240\\3075619752.py:6: FutureWarning: suggest_loguniform has been deprecated in v3.0.0. This feature will be removed in v6.0.0. See https://github.com/optuna/optuna/releases/tag/v3.0.0. Use :func:`~optuna.trial.Trial.suggest_float` instead.\n",
      "  'learning_rate': trial.suggest_loguniform('learning_rate', 0.0001, 1.0),\n",
      "C:\\Users\\user\\AppData\\Local\\Temp\\ipykernel_11240\\3075619752.py:9: FutureWarning: suggest_loguniform has been deprecated in v3.0.0. This feature will be removed in v6.0.0. See https://github.com/optuna/optuna/releases/tag/v3.0.0. Use :func:`~optuna.trial.Trial.suggest_float` instead.\n",
      "  'gamma': trial.suggest_loguniform('gamma', 1e-8, 1.0),\n",
      "C:\\Users\\user\\AppData\\Local\\Temp\\ipykernel_11240\\3075619752.py:10: FutureWarning: suggest_loguniform has been deprecated in v3.0.0. This feature will be removed in v6.0.0. See https://github.com/optuna/optuna/releases/tag/v3.0.0. Use :func:`~optuna.trial.Trial.suggest_float` instead.\n",
      "  'subsample': trial.suggest_loguniform('subsample', 0.01, 1.0),\n",
      "C:\\Users\\user\\AppData\\Local\\Temp\\ipykernel_11240\\3075619752.py:11: FutureWarning: suggest_loguniform has been deprecated in v3.0.0. This feature will be removed in v6.0.0. See https://github.com/optuna/optuna/releases/tag/v3.0.0. Use :func:`~optuna.trial.Trial.suggest_float` instead.\n",
      "  'colsample_bytree': trial.suggest_loguniform('colsample_bytree', 0.01, 1.0),\n",
      "C:\\Users\\user\\AppData\\Local\\Temp\\ipykernel_11240\\3075619752.py:12: FutureWarning: suggest_loguniform has been deprecated in v3.0.0. This feature will be removed in v6.0.0. See https://github.com/optuna/optuna/releases/tag/v3.0.0. Use :func:`~optuna.trial.Trial.suggest_float` instead.\n",
      "  'reg_alpha': trial.suggest_loguniform('reg_alpha', 1e-8, 1.0),\n",
      "C:\\Users\\user\\AppData\\Local\\Temp\\ipykernel_11240\\3075619752.py:13: FutureWarning: suggest_loguniform has been deprecated in v3.0.0. This feature will be removed in v6.0.0. See https://github.com/optuna/optuna/releases/tag/v3.0.0. Use :func:`~optuna.trial.Trial.suggest_float` instead.\n",
      "  'reg_lambda': trial.suggest_loguniform('reg_lambda', 1e-8, 1.0),\n",
      "\u001b[32m[I 2023-03-05 10:26:35,106]\u001b[0m Trial 4 finished with value: 0.3238281849104573 and parameters: {'max_depth': 23, 'learning_rate': 0.08672279298673444, 'n_estimators': 327, 'min_child_weight': 8, 'gamma': 0.7200557755224588, 'subsample': 0.041154268640100064, 'colsample_bytree': 0.09096145824725976, 'reg_alpha': 0.0077257322069835075, 'reg_lambda': 2.4948868731026635e-06}. Best is trial 4 with value: 0.3238281849104573.\u001b[0m\n",
      "C:\\Users\\user\\AppData\\Local\\Temp\\ipykernel_11240\\3075619752.py:6: FutureWarning: suggest_loguniform has been deprecated in v3.0.0. This feature will be removed in v6.0.0. See https://github.com/optuna/optuna/releases/tag/v3.0.0. Use :func:`~optuna.trial.Trial.suggest_float` instead.\n",
      "  'learning_rate': trial.suggest_loguniform('learning_rate', 0.0001, 1.0),\n",
      "C:\\Users\\user\\AppData\\Local\\Temp\\ipykernel_11240\\3075619752.py:9: FutureWarning: suggest_loguniform has been deprecated in v3.0.0. This feature will be removed in v6.0.0. See https://github.com/optuna/optuna/releases/tag/v3.0.0. Use :func:`~optuna.trial.Trial.suggest_float` instead.\n",
      "  'gamma': trial.suggest_loguniform('gamma', 1e-8, 1.0),\n",
      "C:\\Users\\user\\AppData\\Local\\Temp\\ipykernel_11240\\3075619752.py:10: FutureWarning: suggest_loguniform has been deprecated in v3.0.0. This feature will be removed in v6.0.0. See https://github.com/optuna/optuna/releases/tag/v3.0.0. Use :func:`~optuna.trial.Trial.suggest_float` instead.\n",
      "  'subsample': trial.suggest_loguniform('subsample', 0.01, 1.0),\n",
      "C:\\Users\\user\\AppData\\Local\\Temp\\ipykernel_11240\\3075619752.py:11: FutureWarning: suggest_loguniform has been deprecated in v3.0.0. This feature will be removed in v6.0.0. See https://github.com/optuna/optuna/releases/tag/v3.0.0. Use :func:`~optuna.trial.Trial.suggest_float` instead.\n",
      "  'colsample_bytree': trial.suggest_loguniform('colsample_bytree', 0.01, 1.0),\n",
      "C:\\Users\\user\\AppData\\Local\\Temp\\ipykernel_11240\\3075619752.py:12: FutureWarning: suggest_loguniform has been deprecated in v3.0.0. This feature will be removed in v6.0.0. See https://github.com/optuna/optuna/releases/tag/v3.0.0. Use :func:`~optuna.trial.Trial.suggest_float` instead.\n",
      "  'reg_alpha': trial.suggest_loguniform('reg_alpha', 1e-8, 1.0),\n",
      "C:\\Users\\user\\AppData\\Local\\Temp\\ipykernel_11240\\3075619752.py:13: FutureWarning: suggest_loguniform has been deprecated in v3.0.0. This feature will be removed in v6.0.0. See https://github.com/optuna/optuna/releases/tag/v3.0.0. Use :func:`~optuna.trial.Trial.suggest_float` instead.\n",
      "  'reg_lambda': trial.suggest_loguniform('reg_lambda', 1e-8, 1.0),\n",
      "\u001b[32m[I 2023-03-05 10:26:36,452]\u001b[0m Trial 5 finished with value: 35.80680279403827 and parameters: {'max_depth': 1, 'learning_rate': 0.0007598770685022151, 'n_estimators': 171, 'min_child_weight': 8, 'gamma': 0.37397835943329577, 'subsample': 0.09348166901329573, 'colsample_bytree': 0.07253655448930191, 'reg_alpha': 0.2362765822312457, 'reg_lambda': 0.0008273536044142727}. Best is trial 4 with value: 0.3238281849104573.\u001b[0m\n",
      "C:\\Users\\user\\AppData\\Local\\Temp\\ipykernel_11240\\3075619752.py:6: FutureWarning: suggest_loguniform has been deprecated in v3.0.0. This feature will be removed in v6.0.0. See https://github.com/optuna/optuna/releases/tag/v3.0.0. Use :func:`~optuna.trial.Trial.suggest_float` instead.\n",
      "  'learning_rate': trial.suggest_loguniform('learning_rate', 0.0001, 1.0),\n",
      "C:\\Users\\user\\AppData\\Local\\Temp\\ipykernel_11240\\3075619752.py:9: FutureWarning: suggest_loguniform has been deprecated in v3.0.0. This feature will be removed in v6.0.0. See https://github.com/optuna/optuna/releases/tag/v3.0.0. Use :func:`~optuna.trial.Trial.suggest_float` instead.\n",
      "  'gamma': trial.suggest_loguniform('gamma', 1e-8, 1.0),\n",
      "C:\\Users\\user\\AppData\\Local\\Temp\\ipykernel_11240\\3075619752.py:10: FutureWarning: suggest_loguniform has been deprecated in v3.0.0. This feature will be removed in v6.0.0. See https://github.com/optuna/optuna/releases/tag/v3.0.0. Use :func:`~optuna.trial.Trial.suggest_float` instead.\n",
      "  'subsample': trial.suggest_loguniform('subsample', 0.01, 1.0),\n",
      "C:\\Users\\user\\AppData\\Local\\Temp\\ipykernel_11240\\3075619752.py:11: FutureWarning: suggest_loguniform has been deprecated in v3.0.0. This feature will be removed in v6.0.0. See https://github.com/optuna/optuna/releases/tag/v3.0.0. Use :func:`~optuna.trial.Trial.suggest_float` instead.\n",
      "  'colsample_bytree': trial.suggest_loguniform('colsample_bytree', 0.01, 1.0),\n",
      "C:\\Users\\user\\AppData\\Local\\Temp\\ipykernel_11240\\3075619752.py:12: FutureWarning: suggest_loguniform has been deprecated in v3.0.0. This feature will be removed in v6.0.0. See https://github.com/optuna/optuna/releases/tag/v3.0.0. Use :func:`~optuna.trial.Trial.suggest_float` instead.\n",
      "  'reg_alpha': trial.suggest_loguniform('reg_alpha', 1e-8, 1.0),\n",
      "C:\\Users\\user\\AppData\\Local\\Temp\\ipykernel_11240\\3075619752.py:13: FutureWarning: suggest_loguniform has been deprecated in v3.0.0. This feature will be removed in v6.0.0. See https://github.com/optuna/optuna/releases/tag/v3.0.0. Use :func:`~optuna.trial.Trial.suggest_float` instead.\n",
      "  'reg_lambda': trial.suggest_loguniform('reg_lambda', 1e-8, 1.0),\n",
      "\u001b[32m[I 2023-03-05 10:26:45,808]\u001b[0m Trial 6 finished with value: 0.2903896318155727 and parameters: {'max_depth': 19, 'learning_rate': 0.06955377525042622, 'n_estimators': 273, 'min_child_weight': 1, 'gamma': 2.3236529596571972e-06, 'subsample': 0.05764273203162453, 'colsample_bytree': 0.015802109974856166, 'reg_alpha': 0.00010691452512310194, 'reg_lambda': 0.0008057572428758109}. Best is trial 6 with value: 0.2903896318155727.\u001b[0m\n",
      "C:\\Users\\user\\AppData\\Local\\Temp\\ipykernel_11240\\3075619752.py:6: FutureWarning: suggest_loguniform has been deprecated in v3.0.0. This feature will be removed in v6.0.0. See https://github.com/optuna/optuna/releases/tag/v3.0.0. Use :func:`~optuna.trial.Trial.suggest_float` instead.\n",
      "  'learning_rate': trial.suggest_loguniform('learning_rate', 0.0001, 1.0),\n",
      "C:\\Users\\user\\AppData\\Local\\Temp\\ipykernel_11240\\3075619752.py:9: FutureWarning: suggest_loguniform has been deprecated in v3.0.0. This feature will be removed in v6.0.0. See https://github.com/optuna/optuna/releases/tag/v3.0.0. Use :func:`~optuna.trial.Trial.suggest_float` instead.\n",
      "  'gamma': trial.suggest_loguniform('gamma', 1e-8, 1.0),\n",
      "C:\\Users\\user\\AppData\\Local\\Temp\\ipykernel_11240\\3075619752.py:10: FutureWarning: suggest_loguniform has been deprecated in v3.0.0. This feature will be removed in v6.0.0. See https://github.com/optuna/optuna/releases/tag/v3.0.0. Use :func:`~optuna.trial.Trial.suggest_float` instead.\n",
      "  'subsample': trial.suggest_loguniform('subsample', 0.01, 1.0),\n",
      "C:\\Users\\user\\AppData\\Local\\Temp\\ipykernel_11240\\3075619752.py:11: FutureWarning: suggest_loguniform has been deprecated in v3.0.0. This feature will be removed in v6.0.0. See https://github.com/optuna/optuna/releases/tag/v3.0.0. Use :func:`~optuna.trial.Trial.suggest_float` instead.\n",
      "  'colsample_bytree': trial.suggest_loguniform('colsample_bytree', 0.01, 1.0),\n",
      "C:\\Users\\user\\AppData\\Local\\Temp\\ipykernel_11240\\3075619752.py:12: FutureWarning: suggest_loguniform has been deprecated in v3.0.0. This feature will be removed in v6.0.0. See https://github.com/optuna/optuna/releases/tag/v3.0.0. Use :func:`~optuna.trial.Trial.suggest_float` instead.\n",
      "  'reg_alpha': trial.suggest_loguniform('reg_alpha', 1e-8, 1.0),\n",
      "C:\\Users\\user\\AppData\\Local\\Temp\\ipykernel_11240\\3075619752.py:13: FutureWarning: suggest_loguniform has been deprecated in v3.0.0. This feature will be removed in v6.0.0. See https://github.com/optuna/optuna/releases/tag/v3.0.0. Use :func:`~optuna.trial.Trial.suggest_float` instead.\n",
      "  'reg_lambda': trial.suggest_loguniform('reg_lambda', 1e-8, 1.0),\n",
      "\u001b[32m[I 2023-03-05 10:26:56,199]\u001b[0m Trial 7 finished with value: 0.3099998649244034 and parameters: {'max_depth': 8, 'learning_rate': 0.03400153743722126, 'n_estimators': 330, 'min_child_weight': 1, 'gamma': 0.0006216952357872456, 'subsample': 0.15800290914864495, 'colsample_bytree': 0.06546434051066197, 'reg_alpha': 1.8742282310577938e-05, 'reg_lambda': 0.4288221856948213}. Best is trial 6 with value: 0.2903896318155727.\u001b[0m\n",
      "C:\\Users\\user\\AppData\\Local\\Temp\\ipykernel_11240\\3075619752.py:6: FutureWarning: suggest_loguniform has been deprecated in v3.0.0. This feature will be removed in v6.0.0. See https://github.com/optuna/optuna/releases/tag/v3.0.0. Use :func:`~optuna.trial.Trial.suggest_float` instead.\n",
      "  'learning_rate': trial.suggest_loguniform('learning_rate', 0.0001, 1.0),\n",
      "C:\\Users\\user\\AppData\\Local\\Temp\\ipykernel_11240\\3075619752.py:9: FutureWarning: suggest_loguniform has been deprecated in v3.0.0. This feature will be removed in v6.0.0. See https://github.com/optuna/optuna/releases/tag/v3.0.0. Use :func:`~optuna.trial.Trial.suggest_float` instead.\n",
      "  'gamma': trial.suggest_loguniform('gamma', 1e-8, 1.0),\n",
      "C:\\Users\\user\\AppData\\Local\\Temp\\ipykernel_11240\\3075619752.py:10: FutureWarning: suggest_loguniform has been deprecated in v3.0.0. This feature will be removed in v6.0.0. See https://github.com/optuna/optuna/releases/tag/v3.0.0. Use :func:`~optuna.trial.Trial.suggest_float` instead.\n",
      "  'subsample': trial.suggest_loguniform('subsample', 0.01, 1.0),\n",
      "C:\\Users\\user\\AppData\\Local\\Temp\\ipykernel_11240\\3075619752.py:11: FutureWarning: suggest_loguniform has been deprecated in v3.0.0. This feature will be removed in v6.0.0. See https://github.com/optuna/optuna/releases/tag/v3.0.0. Use :func:`~optuna.trial.Trial.suggest_float` instead.\n",
      "  'colsample_bytree': trial.suggest_loguniform('colsample_bytree', 0.01, 1.0),\n",
      "C:\\Users\\user\\AppData\\Local\\Temp\\ipykernel_11240\\3075619752.py:12: FutureWarning: suggest_loguniform has been deprecated in v3.0.0. This feature will be removed in v6.0.0. See https://github.com/optuna/optuna/releases/tag/v3.0.0. Use :func:`~optuna.trial.Trial.suggest_float` instead.\n",
      "  'reg_alpha': trial.suggest_loguniform('reg_alpha', 1e-8, 1.0),\n",
      "C:\\Users\\user\\AppData\\Local\\Temp\\ipykernel_11240\\3075619752.py:13: FutureWarning: suggest_loguniform has been deprecated in v3.0.0. This feature will be removed in v6.0.0. See https://github.com/optuna/optuna/releases/tag/v3.0.0. Use :func:`~optuna.trial.Trial.suggest_float` instead.\n",
      "  'reg_lambda': trial.suggest_loguniform('reg_lambda', 1e-8, 1.0),\n",
      "\u001b[32m[I 2023-03-05 10:26:58,561]\u001b[0m Trial 8 finished with value: 44.85653002737143 and parameters: {'max_depth': 18, 'learning_rate': 0.0001813814143060351, 'n_estimators': 86, 'min_child_weight': 8, 'gamma': 0.17454448136754, 'subsample': 0.09140306609473106, 'colsample_bytree': 0.2610403095081062, 'reg_alpha': 0.0004034364236905454, 'reg_lambda': 4.2090249383608355e-06}. Best is trial 6 with value: 0.2903896318155727.\u001b[0m\n",
      "C:\\Users\\user\\AppData\\Local\\Temp\\ipykernel_11240\\3075619752.py:6: FutureWarning: suggest_loguniform has been deprecated in v3.0.0. This feature will be removed in v6.0.0. See https://github.com/optuna/optuna/releases/tag/v3.0.0. Use :func:`~optuna.trial.Trial.suggest_float` instead.\n",
      "  'learning_rate': trial.suggest_loguniform('learning_rate', 0.0001, 1.0),\n",
      "C:\\Users\\user\\AppData\\Local\\Temp\\ipykernel_11240\\3075619752.py:9: FutureWarning: suggest_loguniform has been deprecated in v3.0.0. This feature will be removed in v6.0.0. See https://github.com/optuna/optuna/releases/tag/v3.0.0. Use :func:`~optuna.trial.Trial.suggest_float` instead.\n",
      "  'gamma': trial.suggest_loguniform('gamma', 1e-8, 1.0),\n",
      "C:\\Users\\user\\AppData\\Local\\Temp\\ipykernel_11240\\3075619752.py:10: FutureWarning: suggest_loguniform has been deprecated in v3.0.0. This feature will be removed in v6.0.0. See https://github.com/optuna/optuna/releases/tag/v3.0.0. Use :func:`~optuna.trial.Trial.suggest_float` instead.\n",
      "  'subsample': trial.suggest_loguniform('subsample', 0.01, 1.0),\n",
      "C:\\Users\\user\\AppData\\Local\\Temp\\ipykernel_11240\\3075619752.py:11: FutureWarning: suggest_loguniform has been deprecated in v3.0.0. This feature will be removed in v6.0.0. See https://github.com/optuna/optuna/releases/tag/v3.0.0. Use :func:`~optuna.trial.Trial.suggest_float` instead.\n",
      "  'colsample_bytree': trial.suggest_loguniform('colsample_bytree', 0.01, 1.0),\n",
      "C:\\Users\\user\\AppData\\Local\\Temp\\ipykernel_11240\\3075619752.py:12: FutureWarning: suggest_loguniform has been deprecated in v3.0.0. This feature will be removed in v6.0.0. See https://github.com/optuna/optuna/releases/tag/v3.0.0. Use :func:`~optuna.trial.Trial.suggest_float` instead.\n",
      "  'reg_alpha': trial.suggest_loguniform('reg_alpha', 1e-8, 1.0),\n",
      "C:\\Users\\user\\AppData\\Local\\Temp\\ipykernel_11240\\3075619752.py:13: FutureWarning: suggest_loguniform has been deprecated in v3.0.0. This feature will be removed in v6.0.0. See https://github.com/optuna/optuna/releases/tag/v3.0.0. Use :func:`~optuna.trial.Trial.suggest_float` instead.\n",
      "  'reg_lambda': trial.suggest_loguniform('reg_lambda', 1e-8, 1.0),\n",
      "\u001b[32m[I 2023-03-05 10:27:08,004]\u001b[0m Trial 9 finished with value: 0.13580016865398525 and parameters: {'max_depth': 14, 'learning_rate': 0.25499605442593837, 'n_estimators': 267, 'min_child_weight': 8, 'gamma': 2.9920136040602746e-06, 'subsample': 0.2576817157213775, 'colsample_bytree': 0.35748696991399664, 'reg_alpha': 0.23187826072254786, 'reg_lambda': 0.0008771127008619308}. Best is trial 9 with value: 0.13580016865398525.\u001b[0m\n",
      "C:\\Users\\user\\AppData\\Local\\Temp\\ipykernel_11240\\3075619752.py:6: FutureWarning: suggest_loguniform has been deprecated in v3.0.0. This feature will be removed in v6.0.0. See https://github.com/optuna/optuna/releases/tag/v3.0.0. Use :func:`~optuna.trial.Trial.suggest_float` instead.\n",
      "  'learning_rate': trial.suggest_loguniform('learning_rate', 0.0001, 1.0),\n",
      "C:\\Users\\user\\AppData\\Local\\Temp\\ipykernel_11240\\3075619752.py:9: FutureWarning: suggest_loguniform has been deprecated in v3.0.0. This feature will be removed in v6.0.0. See https://github.com/optuna/optuna/releases/tag/v3.0.0. Use :func:`~optuna.trial.Trial.suggest_float` instead.\n",
      "  'gamma': trial.suggest_loguniform('gamma', 1e-8, 1.0),\n",
      "C:\\Users\\user\\AppData\\Local\\Temp\\ipykernel_11240\\3075619752.py:10: FutureWarning: suggest_loguniform has been deprecated in v3.0.0. This feature will be removed in v6.0.0. See https://github.com/optuna/optuna/releases/tag/v3.0.0. Use :func:`~optuna.trial.Trial.suggest_float` instead.\n",
      "  'subsample': trial.suggest_loguniform('subsample', 0.01, 1.0),\n",
      "C:\\Users\\user\\AppData\\Local\\Temp\\ipykernel_11240\\3075619752.py:11: FutureWarning: suggest_loguniform has been deprecated in v3.0.0. This feature will be removed in v6.0.0. See https://github.com/optuna/optuna/releases/tag/v3.0.0. Use :func:`~optuna.trial.Trial.suggest_float` instead.\n",
      "  'colsample_bytree': trial.suggest_loguniform('colsample_bytree', 0.01, 1.0),\n",
      "C:\\Users\\user\\AppData\\Local\\Temp\\ipykernel_11240\\3075619752.py:12: FutureWarning: suggest_loguniform has been deprecated in v3.0.0. This feature will be removed in v6.0.0. See https://github.com/optuna/optuna/releases/tag/v3.0.0. Use :func:`~optuna.trial.Trial.suggest_float` instead.\n",
      "  'reg_alpha': trial.suggest_loguniform('reg_alpha', 1e-8, 1.0),\n",
      "C:\\Users\\user\\AppData\\Local\\Temp\\ipykernel_11240\\3075619752.py:13: FutureWarning: suggest_loguniform has been deprecated in v3.0.0. This feature will be removed in v6.0.0. See https://github.com/optuna/optuna/releases/tag/v3.0.0. Use :func:`~optuna.trial.Trial.suggest_float` instead.\n",
      "  'reg_lambda': trial.suggest_loguniform('reg_lambda', 1e-8, 1.0),\n",
      "\u001b[32m[I 2023-03-05 10:27:24,597]\u001b[0m Trial 10 finished with value: 0.1270953939333688 and parameters: {'max_depth': 29, 'learning_rate': 0.5177141567770317, 'n_estimators': 486, 'min_child_weight': 10, 'gamma': 1.1252999770447235e-08, 'subsample': 0.6355825072329213, 'colsample_bytree': 0.9997080022111952, 'reg_alpha': 0.475082160063756, 'reg_lambda': 1.497697982454136e-08}. Best is trial 10 with value: 0.1270953939333688.\u001b[0m\n",
      "C:\\Users\\user\\AppData\\Local\\Temp\\ipykernel_11240\\3075619752.py:6: FutureWarning: suggest_loguniform has been deprecated in v3.0.0. This feature will be removed in v6.0.0. See https://github.com/optuna/optuna/releases/tag/v3.0.0. Use :func:`~optuna.trial.Trial.suggest_float` instead.\n",
      "  'learning_rate': trial.suggest_loguniform('learning_rate', 0.0001, 1.0),\n",
      "C:\\Users\\user\\AppData\\Local\\Temp\\ipykernel_11240\\3075619752.py:9: FutureWarning: suggest_loguniform has been deprecated in v3.0.0. This feature will be removed in v6.0.0. See https://github.com/optuna/optuna/releases/tag/v3.0.0. Use :func:`~optuna.trial.Trial.suggest_float` instead.\n",
      "  'gamma': trial.suggest_loguniform('gamma', 1e-8, 1.0),\n",
      "C:\\Users\\user\\AppData\\Local\\Temp\\ipykernel_11240\\3075619752.py:10: FutureWarning: suggest_loguniform has been deprecated in v3.0.0. This feature will be removed in v6.0.0. See https://github.com/optuna/optuna/releases/tag/v3.0.0. Use :func:`~optuna.trial.Trial.suggest_float` instead.\n",
      "  'subsample': trial.suggest_loguniform('subsample', 0.01, 1.0),\n",
      "C:\\Users\\user\\AppData\\Local\\Temp\\ipykernel_11240\\3075619752.py:11: FutureWarning: suggest_loguniform has been deprecated in v3.0.0. This feature will be removed in v6.0.0. See https://github.com/optuna/optuna/releases/tag/v3.0.0. Use :func:`~optuna.trial.Trial.suggest_float` instead.\n",
      "  'colsample_bytree': trial.suggest_loguniform('colsample_bytree', 0.01, 1.0),\n",
      "C:\\Users\\user\\AppData\\Local\\Temp\\ipykernel_11240\\3075619752.py:12: FutureWarning: suggest_loguniform has been deprecated in v3.0.0. This feature will be removed in v6.0.0. See https://github.com/optuna/optuna/releases/tag/v3.0.0. Use :func:`~optuna.trial.Trial.suggest_float` instead.\n",
      "  'reg_alpha': trial.suggest_loguniform('reg_alpha', 1e-8, 1.0),\n",
      "C:\\Users\\user\\AppData\\Local\\Temp\\ipykernel_11240\\3075619752.py:13: FutureWarning: suggest_loguniform has been deprecated in v3.0.0. This feature will be removed in v6.0.0. See https://github.com/optuna/optuna/releases/tag/v3.0.0. Use :func:`~optuna.trial.Trial.suggest_float` instead.\n",
      "  'reg_lambda': trial.suggest_loguniform('reg_lambda', 1e-8, 1.0),\n",
      "\u001b[32m[I 2023-03-05 10:27:38,523]\u001b[0m Trial 11 finished with value: 0.16190787419005606 and parameters: {'max_depth': 30, 'learning_rate': 0.8571372986286185, 'n_estimators': 490, 'min_child_weight': 10, 'gamma': 1.2793066350444255e-08, 'subsample': 0.8096543546373302, 'colsample_bytree': 0.8335430625158142, 'reg_alpha': 0.8641773628418925, 'reg_lambda': 1.3589069381559443e-08}. Best is trial 10 with value: 0.1270953939333688.\u001b[0m\n",
      "C:\\Users\\user\\AppData\\Local\\Temp\\ipykernel_11240\\3075619752.py:6: FutureWarning: suggest_loguniform has been deprecated in v3.0.0. This feature will be removed in v6.0.0. See https://github.com/optuna/optuna/releases/tag/v3.0.0. Use :func:`~optuna.trial.Trial.suggest_float` instead.\n",
      "  'learning_rate': trial.suggest_loguniform('learning_rate', 0.0001, 1.0),\n",
      "C:\\Users\\user\\AppData\\Local\\Temp\\ipykernel_11240\\3075619752.py:9: FutureWarning: suggest_loguniform has been deprecated in v3.0.0. This feature will be removed in v6.0.0. See https://github.com/optuna/optuna/releases/tag/v3.0.0. Use :func:`~optuna.trial.Trial.suggest_float` instead.\n",
      "  'gamma': trial.suggest_loguniform('gamma', 1e-8, 1.0),\n",
      "C:\\Users\\user\\AppData\\Local\\Temp\\ipykernel_11240\\3075619752.py:10: FutureWarning: suggest_loguniform has been deprecated in v3.0.0. This feature will be removed in v6.0.0. See https://github.com/optuna/optuna/releases/tag/v3.0.0. Use :func:`~optuna.trial.Trial.suggest_float` instead.\n",
      "  'subsample': trial.suggest_loguniform('subsample', 0.01, 1.0),\n",
      "C:\\Users\\user\\AppData\\Local\\Temp\\ipykernel_11240\\3075619752.py:11: FutureWarning: suggest_loguniform has been deprecated in v3.0.0. This feature will be removed in v6.0.0. See https://github.com/optuna/optuna/releases/tag/v3.0.0. Use :func:`~optuna.trial.Trial.suggest_float` instead.\n",
      "  'colsample_bytree': trial.suggest_loguniform('colsample_bytree', 0.01, 1.0),\n",
      "C:\\Users\\user\\AppData\\Local\\Temp\\ipykernel_11240\\3075619752.py:12: FutureWarning: suggest_loguniform has been deprecated in v3.0.0. This feature will be removed in v6.0.0. See https://github.com/optuna/optuna/releases/tag/v3.0.0. Use :func:`~optuna.trial.Trial.suggest_float` instead.\n",
      "  'reg_alpha': trial.suggest_loguniform('reg_alpha', 1e-8, 1.0),\n",
      "C:\\Users\\user\\AppData\\Local\\Temp\\ipykernel_11240\\3075619752.py:13: FutureWarning: suggest_loguniform has been deprecated in v3.0.0. This feature will be removed in v6.0.0. See https://github.com/optuna/optuna/releases/tag/v3.0.0. Use :func:`~optuna.trial.Trial.suggest_float` instead.\n",
      "  'reg_lambda': trial.suggest_loguniform('reg_lambda', 1e-8, 1.0),\n",
      "\u001b[32m[I 2023-03-05 10:28:08,358]\u001b[0m Trial 12 finished with value: 0.09080129601030158 and parameters: {'max_depth': 30, 'learning_rate': 0.25993104390319005, 'n_estimators': 485, 'min_child_weight': 10, 'gamma': 1.5497636231216232e-08, 'subsample': 0.47079119401960356, 'colsample_bytree': 0.8581270195154146, 'reg_alpha': 0.0036929364303183066, 'reg_lambda': 2.4548807360028226e-08}. Best is trial 12 with value: 0.09080129601030158.\u001b[0m\n",
      "C:\\Users\\user\\AppData\\Local\\Temp\\ipykernel_11240\\3075619752.py:6: FutureWarning: suggest_loguniform has been deprecated in v3.0.0. This feature will be removed in v6.0.0. See https://github.com/optuna/optuna/releases/tag/v3.0.0. Use :func:`~optuna.trial.Trial.suggest_float` instead.\n",
      "  'learning_rate': trial.suggest_loguniform('learning_rate', 0.0001, 1.0),\n",
      "C:\\Users\\user\\AppData\\Local\\Temp\\ipykernel_11240\\3075619752.py:9: FutureWarning: suggest_loguniform has been deprecated in v3.0.0. This feature will be removed in v6.0.0. See https://github.com/optuna/optuna/releases/tag/v3.0.0. Use :func:`~optuna.trial.Trial.suggest_float` instead.\n",
      "  'gamma': trial.suggest_loguniform('gamma', 1e-8, 1.0),\n",
      "C:\\Users\\user\\AppData\\Local\\Temp\\ipykernel_11240\\3075619752.py:10: FutureWarning: suggest_loguniform has been deprecated in v3.0.0. This feature will be removed in v6.0.0. See https://github.com/optuna/optuna/releases/tag/v3.0.0. Use :func:`~optuna.trial.Trial.suggest_float` instead.\n",
      "  'subsample': trial.suggest_loguniform('subsample', 0.01, 1.0),\n",
      "C:\\Users\\user\\AppData\\Local\\Temp\\ipykernel_11240\\3075619752.py:11: FutureWarning: suggest_loguniform has been deprecated in v3.0.0. This feature will be removed in v6.0.0. See https://github.com/optuna/optuna/releases/tag/v3.0.0. Use :func:`~optuna.trial.Trial.suggest_float` instead.\n",
      "  'colsample_bytree': trial.suggest_loguniform('colsample_bytree', 0.01, 1.0),\n",
      "C:\\Users\\user\\AppData\\Local\\Temp\\ipykernel_11240\\3075619752.py:12: FutureWarning: suggest_loguniform has been deprecated in v3.0.0. This feature will be removed in v6.0.0. See https://github.com/optuna/optuna/releases/tag/v3.0.0. Use :func:`~optuna.trial.Trial.suggest_float` instead.\n",
      "  'reg_alpha': trial.suggest_loguniform('reg_alpha', 1e-8, 1.0),\n",
      "C:\\Users\\user\\AppData\\Local\\Temp\\ipykernel_11240\\3075619752.py:13: FutureWarning: suggest_loguniform has been deprecated in v3.0.0. This feature will be removed in v6.0.0. See https://github.com/optuna/optuna/releases/tag/v3.0.0. Use :func:`~optuna.trial.Trial.suggest_float` instead.\n",
      "  'reg_lambda': trial.suggest_loguniform('reg_lambda', 1e-8, 1.0),\n",
      "\u001b[32m[I 2023-03-05 10:28:40,565]\u001b[0m Trial 13 finished with value: 0.07800435201382307 and parameters: {'max_depth': 30, 'learning_rate': 0.012415602113834827, 'n_estimators': 492, 'min_child_weight': 10, 'gamma': 2.6997802248663096e-08, 'subsample': 0.8222344262895532, 'colsample_bytree': 0.8710329749017282, 'reg_alpha': 0.007955681889797929, 'reg_lambda': 1.1949600142192734e-08}. Best is trial 13 with value: 0.07800435201382307.\u001b[0m\n",
      "C:\\Users\\user\\AppData\\Local\\Temp\\ipykernel_11240\\3075619752.py:6: FutureWarning: suggest_loguniform has been deprecated in v3.0.0. This feature will be removed in v6.0.0. See https://github.com/optuna/optuna/releases/tag/v3.0.0. Use :func:`~optuna.trial.Trial.suggest_float` instead.\n",
      "  'learning_rate': trial.suggest_loguniform('learning_rate', 0.0001, 1.0),\n",
      "C:\\Users\\user\\AppData\\Local\\Temp\\ipykernel_11240\\3075619752.py:9: FutureWarning: suggest_loguniform has been deprecated in v3.0.0. This feature will be removed in v6.0.0. See https://github.com/optuna/optuna/releases/tag/v3.0.0. Use :func:`~optuna.trial.Trial.suggest_float` instead.\n",
      "  'gamma': trial.suggest_loguniform('gamma', 1e-8, 1.0),\n",
      "C:\\Users\\user\\AppData\\Local\\Temp\\ipykernel_11240\\3075619752.py:10: FutureWarning: suggest_loguniform has been deprecated in v3.0.0. This feature will be removed in v6.0.0. See https://github.com/optuna/optuna/releases/tag/v3.0.0. Use :func:`~optuna.trial.Trial.suggest_float` instead.\n",
      "  'subsample': trial.suggest_loguniform('subsample', 0.01, 1.0),\n",
      "C:\\Users\\user\\AppData\\Local\\Temp\\ipykernel_11240\\3075619752.py:11: FutureWarning: suggest_loguniform has been deprecated in v3.0.0. This feature will be removed in v6.0.0. See https://github.com/optuna/optuna/releases/tag/v3.0.0. Use :func:`~optuna.trial.Trial.suggest_float` instead.\n",
      "  'colsample_bytree': trial.suggest_loguniform('colsample_bytree', 0.01, 1.0),\n",
      "C:\\Users\\user\\AppData\\Local\\Temp\\ipykernel_11240\\3075619752.py:12: FutureWarning: suggest_loguniform has been deprecated in v3.0.0. This feature will be removed in v6.0.0. See https://github.com/optuna/optuna/releases/tag/v3.0.0. Use :func:`~optuna.trial.Trial.suggest_float` instead.\n",
      "  'reg_alpha': trial.suggest_loguniform('reg_alpha', 1e-8, 1.0),\n",
      "C:\\Users\\user\\AppData\\Local\\Temp\\ipykernel_11240\\3075619752.py:13: FutureWarning: suggest_loguniform has been deprecated in v3.0.0. This feature will be removed in v6.0.0. See https://github.com/optuna/optuna/releases/tag/v3.0.0. Use :func:`~optuna.trial.Trial.suggest_float` instead.\n",
      "  'reg_lambda': trial.suggest_loguniform('reg_lambda', 1e-8, 1.0),\n",
      "\u001b[32m[I 2023-03-05 10:29:01,376]\u001b[0m Trial 14 finished with value: 0.13394839898014227 and parameters: {'max_depth': 24, 'learning_rate': 0.011720358116771764, 'n_estimators': 431, 'min_child_weight': 10, 'gamma': 1.3025006221489692e-07, 'subsample': 0.4452801673267457, 'colsample_bytree': 0.6678297332119817, 'reg_alpha': 0.003524318276061521, 'reg_lambda': 9.525489406324818e-08}. Best is trial 13 with value: 0.07800435201382307.\u001b[0m\n",
      "C:\\Users\\user\\AppData\\Local\\Temp\\ipykernel_11240\\3075619752.py:6: FutureWarning: suggest_loguniform has been deprecated in v3.0.0. This feature will be removed in v6.0.0. See https://github.com/optuna/optuna/releases/tag/v3.0.0. Use :func:`~optuna.trial.Trial.suggest_float` instead.\n",
      "  'learning_rate': trial.suggest_loguniform('learning_rate', 0.0001, 1.0),\n",
      "C:\\Users\\user\\AppData\\Local\\Temp\\ipykernel_11240\\3075619752.py:9: FutureWarning: suggest_loguniform has been deprecated in v3.0.0. This feature will be removed in v6.0.0. See https://github.com/optuna/optuna/releases/tag/v3.0.0. Use :func:`~optuna.trial.Trial.suggest_float` instead.\n",
      "  'gamma': trial.suggest_loguniform('gamma', 1e-8, 1.0),\n",
      "C:\\Users\\user\\AppData\\Local\\Temp\\ipykernel_11240\\3075619752.py:10: FutureWarning: suggest_loguniform has been deprecated in v3.0.0. This feature will be removed in v6.0.0. See https://github.com/optuna/optuna/releases/tag/v3.0.0. Use :func:`~optuna.trial.Trial.suggest_float` instead.\n",
      "  'subsample': trial.suggest_loguniform('subsample', 0.01, 1.0),\n",
      "C:\\Users\\user\\AppData\\Local\\Temp\\ipykernel_11240\\3075619752.py:11: FutureWarning: suggest_loguniform has been deprecated in v3.0.0. This feature will be removed in v6.0.0. See https://github.com/optuna/optuna/releases/tag/v3.0.0. Use :func:`~optuna.trial.Trial.suggest_float` instead.\n",
      "  'colsample_bytree': trial.suggest_loguniform('colsample_bytree', 0.01, 1.0),\n",
      "C:\\Users\\user\\AppData\\Local\\Temp\\ipykernel_11240\\3075619752.py:12: FutureWarning: suggest_loguniform has been deprecated in v3.0.0. This feature will be removed in v6.0.0. See https://github.com/optuna/optuna/releases/tag/v3.0.0. Use :func:`~optuna.trial.Trial.suggest_float` instead.\n",
      "  'reg_alpha': trial.suggest_loguniform('reg_alpha', 1e-8, 1.0),\n",
      "C:\\Users\\user\\AppData\\Local\\Temp\\ipykernel_11240\\3075619752.py:13: FutureWarning: suggest_loguniform has been deprecated in v3.0.0. This feature will be removed in v6.0.0. See https://github.com/optuna/optuna/releases/tag/v3.0.0. Use :func:`~optuna.trial.Trial.suggest_float` instead.\n",
      "  'reg_lambda': trial.suggest_loguniform('reg_lambda', 1e-8, 1.0),\n",
      "\u001b[32m[I 2023-03-05 10:29:22,560]\u001b[0m Trial 15 finished with value: 0.20041933158973418 and parameters: {'max_depth': 26, 'learning_rate': 0.01697701054422795, 'n_estimators': 431, 'min_child_weight': 3, 'gamma': 9.714068075308843e-08, 'subsample': 0.9991123718679175, 'colsample_bytree': 0.541899687378567, 'reg_alpha': 0.008785019648806994, 'reg_lambda': 1.59520412826201e-07}. Best is trial 13 with value: 0.07800435201382307.\u001b[0m\n",
      "C:\\Users\\user\\AppData\\Local\\Temp\\ipykernel_11240\\3075619752.py:6: FutureWarning: suggest_loguniform has been deprecated in v3.0.0. This feature will be removed in v6.0.0. See https://github.com/optuna/optuna/releases/tag/v3.0.0. Use :func:`~optuna.trial.Trial.suggest_float` instead.\n",
      "  'learning_rate': trial.suggest_loguniform('learning_rate', 0.0001, 1.0),\n",
      "C:\\Users\\user\\AppData\\Local\\Temp\\ipykernel_11240\\3075619752.py:9: FutureWarning: suggest_loguniform has been deprecated in v3.0.0. This feature will be removed in v6.0.0. See https://github.com/optuna/optuna/releases/tag/v3.0.0. Use :func:`~optuna.trial.Trial.suggest_float` instead.\n",
      "  'gamma': trial.suggest_loguniform('gamma', 1e-8, 1.0),\n",
      "C:\\Users\\user\\AppData\\Local\\Temp\\ipykernel_11240\\3075619752.py:10: FutureWarning: suggest_loguniform has been deprecated in v3.0.0. This feature will be removed in v6.0.0. See https://github.com/optuna/optuna/releases/tag/v3.0.0. Use :func:`~optuna.trial.Trial.suggest_float` instead.\n",
      "  'subsample': trial.suggest_loguniform('subsample', 0.01, 1.0),\n",
      "C:\\Users\\user\\AppData\\Local\\Temp\\ipykernel_11240\\3075619752.py:11: FutureWarning: suggest_loguniform has been deprecated in v3.0.0. This feature will be removed in v6.0.0. See https://github.com/optuna/optuna/releases/tag/v3.0.0. Use :func:`~optuna.trial.Trial.suggest_float` instead.\n",
      "  'colsample_bytree': trial.suggest_loguniform('colsample_bytree', 0.01, 1.0),\n",
      "C:\\Users\\user\\AppData\\Local\\Temp\\ipykernel_11240\\3075619752.py:12: FutureWarning: suggest_loguniform has been deprecated in v3.0.0. This feature will be removed in v6.0.0. See https://github.com/optuna/optuna/releases/tag/v3.0.0. Use :func:`~optuna.trial.Trial.suggest_float` instead.\n",
      "  'reg_alpha': trial.suggest_loguniform('reg_alpha', 1e-8, 1.0),\n",
      "C:\\Users\\user\\AppData\\Local\\Temp\\ipykernel_11240\\3075619752.py:13: FutureWarning: suggest_loguniform has been deprecated in v3.0.0. This feature will be removed in v6.0.0. See https://github.com/optuna/optuna/releases/tag/v3.0.0. Use :func:`~optuna.trial.Trial.suggest_float` instead.\n",
      "  'reg_lambda': trial.suggest_loguniform('reg_lambda', 1e-8, 1.0),\n",
      "\u001b[32m[I 2023-03-05 10:29:50,786]\u001b[0m Trial 16 finished with value: 0.19360491204375316 and parameters: {'max_depth': 27, 'learning_rate': 0.007088658590349827, 'n_estimators': 433, 'min_child_weight': 6, 'gamma': 1.910618792958037e-05, 'subsample': 0.4461644935918783, 'colsample_bytree': 0.9946859423769417, 'reg_alpha': 0.0015209084158097708, 'reg_lambda': 1.3255592690947493e-07}. Best is trial 13 with value: 0.07800435201382307.\u001b[0m\n",
      "C:\\Users\\user\\AppData\\Local\\Temp\\ipykernel_11240\\3075619752.py:6: FutureWarning: suggest_loguniform has been deprecated in v3.0.0. This feature will be removed in v6.0.0. See https://github.com/optuna/optuna/releases/tag/v3.0.0. Use :func:`~optuna.trial.Trial.suggest_float` instead.\n",
      "  'learning_rate': trial.suggest_loguniform('learning_rate', 0.0001, 1.0),\n",
      "C:\\Users\\user\\AppData\\Local\\Temp\\ipykernel_11240\\3075619752.py:9: FutureWarning: suggest_loguniform has been deprecated in v3.0.0. This feature will be removed in v6.0.0. See https://github.com/optuna/optuna/releases/tag/v3.0.0. Use :func:`~optuna.trial.Trial.suggest_float` instead.\n",
      "  'gamma': trial.suggest_loguniform('gamma', 1e-8, 1.0),\n",
      "C:\\Users\\user\\AppData\\Local\\Temp\\ipykernel_11240\\3075619752.py:10: FutureWarning: suggest_loguniform has been deprecated in v3.0.0. This feature will be removed in v6.0.0. See https://github.com/optuna/optuna/releases/tag/v3.0.0. Use :func:`~optuna.trial.Trial.suggest_float` instead.\n",
      "  'subsample': trial.suggest_loguniform('subsample', 0.01, 1.0),\n",
      "C:\\Users\\user\\AppData\\Local\\Temp\\ipykernel_11240\\3075619752.py:11: FutureWarning: suggest_loguniform has been deprecated in v3.0.0. This feature will be removed in v6.0.0. See https://github.com/optuna/optuna/releases/tag/v3.0.0. Use :func:`~optuna.trial.Trial.suggest_float` instead.\n",
      "  'colsample_bytree': trial.suggest_loguniform('colsample_bytree', 0.01, 1.0),\n",
      "C:\\Users\\user\\AppData\\Local\\Temp\\ipykernel_11240\\3075619752.py:12: FutureWarning: suggest_loguniform has been deprecated in v3.0.0. This feature will be removed in v6.0.0. See https://github.com/optuna/optuna/releases/tag/v3.0.0. Use :func:`~optuna.trial.Trial.suggest_float` instead.\n",
      "  'reg_alpha': trial.suggest_loguniform('reg_alpha', 1e-8, 1.0),\n",
      "C:\\Users\\user\\AppData\\Local\\Temp\\ipykernel_11240\\3075619752.py:13: FutureWarning: suggest_loguniform has been deprecated in v3.0.0. This feature will be removed in v6.0.0. See https://github.com/optuna/optuna/releases/tag/v3.0.0. Use :func:`~optuna.trial.Trial.suggest_float` instead.\n",
      "  'reg_lambda': trial.suggest_loguniform('reg_lambda', 1e-8, 1.0),\n",
      "\u001b[32m[I 2023-03-05 10:30:08,832]\u001b[0m Trial 17 finished with value: 0.11647877756851738 and parameters: {'max_depth': 21, 'learning_rate': 0.22998528889792347, 'n_estimators': 492, 'min_child_weight': 9, 'gamma': 1.513140439464378e-07, 'subsample': 0.3544580014942868, 'colsample_bytree': 0.4656846847137646, 'reg_alpha': 0.027383147943674902, 'reg_lambda': 1.0060921945885457e-08}. Best is trial 13 with value: 0.07800435201382307.\u001b[0m\n",
      "C:\\Users\\user\\AppData\\Local\\Temp\\ipykernel_11240\\3075619752.py:6: FutureWarning: suggest_loguniform has been deprecated in v3.0.0. This feature will be removed in v6.0.0. See https://github.com/optuna/optuna/releases/tag/v3.0.0. Use :func:`~optuna.trial.Trial.suggest_float` instead.\n",
      "  'learning_rate': trial.suggest_loguniform('learning_rate', 0.0001, 1.0),\n",
      "C:\\Users\\user\\AppData\\Local\\Temp\\ipykernel_11240\\3075619752.py:9: FutureWarning: suggest_loguniform has been deprecated in v3.0.0. This feature will be removed in v6.0.0. See https://github.com/optuna/optuna/releases/tag/v3.0.0. Use :func:`~optuna.trial.Trial.suggest_float` instead.\n",
      "  'gamma': trial.suggest_loguniform('gamma', 1e-8, 1.0),\n",
      "C:\\Users\\user\\AppData\\Local\\Temp\\ipykernel_11240\\3075619752.py:10: FutureWarning: suggest_loguniform has been deprecated in v3.0.0. This feature will be removed in v6.0.0. See https://github.com/optuna/optuna/releases/tag/v3.0.0. Use :func:`~optuna.trial.Trial.suggest_float` instead.\n",
      "  'subsample': trial.suggest_loguniform('subsample', 0.01, 1.0),\n",
      "C:\\Users\\user\\AppData\\Local\\Temp\\ipykernel_11240\\3075619752.py:11: FutureWarning: suggest_loguniform has been deprecated in v3.0.0. This feature will be removed in v6.0.0. See https://github.com/optuna/optuna/releases/tag/v3.0.0. Use :func:`~optuna.trial.Trial.suggest_float` instead.\n",
      "  'colsample_bytree': trial.suggest_loguniform('colsample_bytree', 0.01, 1.0),\n",
      "C:\\Users\\user\\AppData\\Local\\Temp\\ipykernel_11240\\3075619752.py:12: FutureWarning: suggest_loguniform has been deprecated in v3.0.0. This feature will be removed in v6.0.0. See https://github.com/optuna/optuna/releases/tag/v3.0.0. Use :func:`~optuna.trial.Trial.suggest_float` instead.\n",
      "  'reg_alpha': trial.suggest_loguniform('reg_alpha', 1e-8, 1.0),\n",
      "C:\\Users\\user\\AppData\\Local\\Temp\\ipykernel_11240\\3075619752.py:13: FutureWarning: suggest_loguniform has been deprecated in v3.0.0. This feature will be removed in v6.0.0. See https://github.com/optuna/optuna/releases/tag/v3.0.0. Use :func:`~optuna.trial.Trial.suggest_float` instead.\n",
      "  'reg_lambda': trial.suggest_loguniform('reg_lambda', 1e-8, 1.0),\n",
      "\u001b[32m[I 2023-03-05 10:30:09,477]\u001b[0m Trial 18 finished with value: 8.966487482783156 and parameters: {'max_depth': 30, 'learning_rate': 0.005115598019428726, 'n_estimators': 200, 'min_child_weight': 6, 'gamma': 1.272478852220128e-08, 'subsample': 0.010529241767933802, 'colsample_bytree': 0.5652597092799927, 'reg_alpha': 0.024853468787767792, 'reg_lambda': 8.088049738704671e-08}. Best is trial 13 with value: 0.07800435201382307.\u001b[0m\n",
      "C:\\Users\\user\\AppData\\Local\\Temp\\ipykernel_11240\\3075619752.py:6: FutureWarning: suggest_loguniform has been deprecated in v3.0.0. This feature will be removed in v6.0.0. See https://github.com/optuna/optuna/releases/tag/v3.0.0. Use :func:`~optuna.trial.Trial.suggest_float` instead.\n",
      "  'learning_rate': trial.suggest_loguniform('learning_rate', 0.0001, 1.0),\n",
      "C:\\Users\\user\\AppData\\Local\\Temp\\ipykernel_11240\\3075619752.py:9: FutureWarning: suggest_loguniform has been deprecated in v3.0.0. This feature will be removed in v6.0.0. See https://github.com/optuna/optuna/releases/tag/v3.0.0. Use :func:`~optuna.trial.Trial.suggest_float` instead.\n",
      "  'gamma': trial.suggest_loguniform('gamma', 1e-8, 1.0),\n",
      "C:\\Users\\user\\AppData\\Local\\Temp\\ipykernel_11240\\3075619752.py:10: FutureWarning: suggest_loguniform has been deprecated in v3.0.0. This feature will be removed in v6.0.0. See https://github.com/optuna/optuna/releases/tag/v3.0.0. Use :func:`~optuna.trial.Trial.suggest_float` instead.\n",
      "  'subsample': trial.suggest_loguniform('subsample', 0.01, 1.0),\n",
      "C:\\Users\\user\\AppData\\Local\\Temp\\ipykernel_11240\\3075619752.py:11: FutureWarning: suggest_loguniform has been deprecated in v3.0.0. This feature will be removed in v6.0.0. See https://github.com/optuna/optuna/releases/tag/v3.0.0. Use :func:`~optuna.trial.Trial.suggest_float` instead.\n",
      "  'colsample_bytree': trial.suggest_loguniform('colsample_bytree', 0.01, 1.0),\n",
      "C:\\Users\\user\\AppData\\Local\\Temp\\ipykernel_11240\\3075619752.py:12: FutureWarning: suggest_loguniform has been deprecated in v3.0.0. This feature will be removed in v6.0.0. See https://github.com/optuna/optuna/releases/tag/v3.0.0. Use :func:`~optuna.trial.Trial.suggest_float` instead.\n",
      "  'reg_alpha': trial.suggest_loguniform('reg_alpha', 1e-8, 1.0),\n",
      "C:\\Users\\user\\AppData\\Local\\Temp\\ipykernel_11240\\3075619752.py:13: FutureWarning: suggest_loguniform has been deprecated in v3.0.0. This feature will be removed in v6.0.0. See https://github.com/optuna/optuna/releases/tag/v3.0.0. Use :func:`~optuna.trial.Trial.suggest_float` instead.\n",
      "  'reg_lambda': trial.suggest_loguniform('reg_lambda', 1e-8, 1.0),\n",
      "\u001b[32m[I 2023-03-05 10:30:25,896]\u001b[0m Trial 19 finished with value: 0.2580028165296628 and parameters: {'max_depth': 26, 'learning_rate': 0.054218904275331506, 'n_estimators': 399, 'min_child_weight': 9, 'gamma': 4.1736943685642015e-05, 'subsample': 0.6184091275357835, 'colsample_bytree': 0.26286885304554813, 'reg_alpha': 0.0008042016454997394, 'reg_lambda': 6.332466079323619e-07}. Best is trial 13 with value: 0.07800435201382307.\u001b[0m\n",
      "C:\\Users\\user\\AppData\\Local\\Temp\\ipykernel_11240\\3075619752.py:6: FutureWarning: suggest_loguniform has been deprecated in v3.0.0. This feature will be removed in v6.0.0. See https://github.com/optuna/optuna/releases/tag/v3.0.0. Use :func:`~optuna.trial.Trial.suggest_float` instead.\n",
      "  'learning_rate': trial.suggest_loguniform('learning_rate', 0.0001, 1.0),\n",
      "C:\\Users\\user\\AppData\\Local\\Temp\\ipykernel_11240\\3075619752.py:9: FutureWarning: suggest_loguniform has been deprecated in v3.0.0. This feature will be removed in v6.0.0. See https://github.com/optuna/optuna/releases/tag/v3.0.0. Use :func:`~optuna.trial.Trial.suggest_float` instead.\n",
      "  'gamma': trial.suggest_loguniform('gamma', 1e-8, 1.0),\n",
      "C:\\Users\\user\\AppData\\Local\\Temp\\ipykernel_11240\\3075619752.py:10: FutureWarning: suggest_loguniform has been deprecated in v3.0.0. This feature will be removed in v6.0.0. See https://github.com/optuna/optuna/releases/tag/v3.0.0. Use :func:`~optuna.trial.Trial.suggest_float` instead.\n",
      "  'subsample': trial.suggest_loguniform('subsample', 0.01, 1.0),\n",
      "C:\\Users\\user\\AppData\\Local\\Temp\\ipykernel_11240\\3075619752.py:11: FutureWarning: suggest_loguniform has been deprecated in v3.0.0. This feature will be removed in v6.0.0. See https://github.com/optuna/optuna/releases/tag/v3.0.0. Use :func:`~optuna.trial.Trial.suggest_float` instead.\n",
      "  'colsample_bytree': trial.suggest_loguniform('colsample_bytree', 0.01, 1.0),\n",
      "C:\\Users\\user\\AppData\\Local\\Temp\\ipykernel_11240\\3075619752.py:12: FutureWarning: suggest_loguniform has been deprecated in v3.0.0. This feature will be removed in v6.0.0. See https://github.com/optuna/optuna/releases/tag/v3.0.0. Use :func:`~optuna.trial.Trial.suggest_float` instead.\n",
      "  'reg_alpha': trial.suggest_loguniform('reg_alpha', 1e-8, 1.0),\n",
      "C:\\Users\\user\\AppData\\Local\\Temp\\ipykernel_11240\\3075619752.py:13: FutureWarning: suggest_loguniform has been deprecated in v3.0.0. This feature will be removed in v6.0.0. See https://github.com/optuna/optuna/releases/tag/v3.0.0. Use :func:`~optuna.trial.Trial.suggest_float` instead.\n",
      "  'reg_lambda': trial.suggest_loguniform('reg_lambda', 1e-8, 1.0),\n",
      "\u001b[32m[I 2023-03-05 10:30:42,946]\u001b[0m Trial 20 finished with value: 0.097194094415623 and parameters: {'max_depth': 14, 'learning_rate': 0.028108843210265695, 'n_estimators': 451, 'min_child_weight': 9, 'gamma': 5.87715639338184e-07, 'subsample': 0.3250723811006288, 'colsample_bytree': 0.6498464801057215, 'reg_alpha': 0.032547217445389125, 'reg_lambda': 5.036219087825275e-07}. Best is trial 13 with value: 0.07800435201382307.\u001b[0m\n",
      "C:\\Users\\user\\AppData\\Local\\Temp\\ipykernel_11240\\3075619752.py:6: FutureWarning: suggest_loguniform has been deprecated in v3.0.0. This feature will be removed in v6.0.0. See https://github.com/optuna/optuna/releases/tag/v3.0.0. Use :func:`~optuna.trial.Trial.suggest_float` instead.\n",
      "  'learning_rate': trial.suggest_loguniform('learning_rate', 0.0001, 1.0),\n",
      "C:\\Users\\user\\AppData\\Local\\Temp\\ipykernel_11240\\3075619752.py:9: FutureWarning: suggest_loguniform has been deprecated in v3.0.0. This feature will be removed in v6.0.0. See https://github.com/optuna/optuna/releases/tag/v3.0.0. Use :func:`~optuna.trial.Trial.suggest_float` instead.\n",
      "  'gamma': trial.suggest_loguniform('gamma', 1e-8, 1.0),\n",
      "C:\\Users\\user\\AppData\\Local\\Temp\\ipykernel_11240\\3075619752.py:10: FutureWarning: suggest_loguniform has been deprecated in v3.0.0. This feature will be removed in v6.0.0. See https://github.com/optuna/optuna/releases/tag/v3.0.0. Use :func:`~optuna.trial.Trial.suggest_float` instead.\n",
      "  'subsample': trial.suggest_loguniform('subsample', 0.01, 1.0),\n",
      "C:\\Users\\user\\AppData\\Local\\Temp\\ipykernel_11240\\3075619752.py:11: FutureWarning: suggest_loguniform has been deprecated in v3.0.0. This feature will be removed in v6.0.0. See https://github.com/optuna/optuna/releases/tag/v3.0.0. Use :func:`~optuna.trial.Trial.suggest_float` instead.\n",
      "  'colsample_bytree': trial.suggest_loguniform('colsample_bytree', 0.01, 1.0),\n",
      "C:\\Users\\user\\AppData\\Local\\Temp\\ipykernel_11240\\3075619752.py:12: FutureWarning: suggest_loguniform has been deprecated in v3.0.0. This feature will be removed in v6.0.0. See https://github.com/optuna/optuna/releases/tag/v3.0.0. Use :func:`~optuna.trial.Trial.suggest_float` instead.\n",
      "  'reg_alpha': trial.suggest_loguniform('reg_alpha', 1e-8, 1.0),\n",
      "C:\\Users\\user\\AppData\\Local\\Temp\\ipykernel_11240\\3075619752.py:13: FutureWarning: suggest_loguniform has been deprecated in v3.0.0. This feature will be removed in v6.0.0. See https://github.com/optuna/optuna/releases/tag/v3.0.0. Use :func:`~optuna.trial.Trial.suggest_float` instead.\n",
      "  'reg_lambda': trial.suggest_loguniform('reg_lambda', 1e-8, 1.0),\n",
      "\u001b[32m[I 2023-03-05 10:31:04,281]\u001b[0m Trial 21 finished with value: 0.1067305136514555 and parameters: {'max_depth': 14, 'learning_rate': 0.019941786222997138, 'n_estimators': 457, 'min_child_weight': 9, 'gamma': 7.601988157986628e-08, 'subsample': 0.34226188792081425, 'colsample_bytree': 0.6744081136488213, 'reg_alpha': 0.025369414125479155, 'reg_lambda': 5.266884507140288e-08}. Best is trial 13 with value: 0.07800435201382307.\u001b[0m\n",
      "C:\\Users\\user\\AppData\\Local\\Temp\\ipykernel_11240\\3075619752.py:6: FutureWarning: suggest_loguniform has been deprecated in v3.0.0. This feature will be removed in v6.0.0. See https://github.com/optuna/optuna/releases/tag/v3.0.0. Use :func:`~optuna.trial.Trial.suggest_float` instead.\n",
      "  'learning_rate': trial.suggest_loguniform('learning_rate', 0.0001, 1.0),\n",
      "C:\\Users\\user\\AppData\\Local\\Temp\\ipykernel_11240\\3075619752.py:9: FutureWarning: suggest_loguniform has been deprecated in v3.0.0. This feature will be removed in v6.0.0. See https://github.com/optuna/optuna/releases/tag/v3.0.0. Use :func:`~optuna.trial.Trial.suggest_float` instead.\n",
      "  'gamma': trial.suggest_loguniform('gamma', 1e-8, 1.0),\n",
      "C:\\Users\\user\\AppData\\Local\\Temp\\ipykernel_11240\\3075619752.py:10: FutureWarning: suggest_loguniform has been deprecated in v3.0.0. This feature will be removed in v6.0.0. See https://github.com/optuna/optuna/releases/tag/v3.0.0. Use :func:`~optuna.trial.Trial.suggest_float` instead.\n",
      "  'subsample': trial.suggest_loguniform('subsample', 0.01, 1.0),\n",
      "C:\\Users\\user\\AppData\\Local\\Temp\\ipykernel_11240\\3075619752.py:11: FutureWarning: suggest_loguniform has been deprecated in v3.0.0. This feature will be removed in v6.0.0. See https://github.com/optuna/optuna/releases/tag/v3.0.0. Use :func:`~optuna.trial.Trial.suggest_float` instead.\n",
      "  'colsample_bytree': trial.suggest_loguniform('colsample_bytree', 0.01, 1.0),\n",
      "C:\\Users\\user\\AppData\\Local\\Temp\\ipykernel_11240\\3075619752.py:12: FutureWarning: suggest_loguniform has been deprecated in v3.0.0. This feature will be removed in v6.0.0. See https://github.com/optuna/optuna/releases/tag/v3.0.0. Use :func:`~optuna.trial.Trial.suggest_float` instead.\n",
      "  'reg_alpha': trial.suggest_loguniform('reg_alpha', 1e-8, 1.0),\n",
      "C:\\Users\\user\\AppData\\Local\\Temp\\ipykernel_11240\\3075619752.py:13: FutureWarning: suggest_loguniform has been deprecated in v3.0.0. This feature will be removed in v6.0.0. See https://github.com/optuna/optuna/releases/tag/v3.0.0. Use :func:`~optuna.trial.Trial.suggest_float` instead.\n",
      "  'reg_lambda': trial.suggest_loguniform('reg_lambda', 1e-8, 1.0),\n",
      "\u001b[32m[I 2023-03-05 10:31:26,818]\u001b[0m Trial 22 finished with value: 0.08481933150441393 and parameters: {'max_depth': 10, 'learning_rate': 0.13493255688415737, 'n_estimators': 454, 'min_child_weight': 10, 'gamma': 5.978792459274815e-07, 'subsample': 0.9888499869364823, 'colsample_bytree': 0.9944026847059713, 'reg_alpha': 0.04580503223121073, 'reg_lambda': 4.1104246188438476e-07}. Best is trial 13 with value: 0.07800435201382307.\u001b[0m\n",
      "C:\\Users\\user\\AppData\\Local\\Temp\\ipykernel_11240\\3075619752.py:6: FutureWarning: suggest_loguniform has been deprecated in v3.0.0. This feature will be removed in v6.0.0. See https://github.com/optuna/optuna/releases/tag/v3.0.0. Use :func:`~optuna.trial.Trial.suggest_float` instead.\n",
      "  'learning_rate': trial.suggest_loguniform('learning_rate', 0.0001, 1.0),\n",
      "C:\\Users\\user\\AppData\\Local\\Temp\\ipykernel_11240\\3075619752.py:9: FutureWarning: suggest_loguniform has been deprecated in v3.0.0. This feature will be removed in v6.0.0. See https://github.com/optuna/optuna/releases/tag/v3.0.0. Use :func:`~optuna.trial.Trial.suggest_float` instead.\n",
      "  'gamma': trial.suggest_loguniform('gamma', 1e-8, 1.0),\n",
      "C:\\Users\\user\\AppData\\Local\\Temp\\ipykernel_11240\\3075619752.py:10: FutureWarning: suggest_loguniform has been deprecated in v3.0.0. This feature will be removed in v6.0.0. See https://github.com/optuna/optuna/releases/tag/v3.0.0. Use :func:`~optuna.trial.Trial.suggest_float` instead.\n",
      "  'subsample': trial.suggest_loguniform('subsample', 0.01, 1.0),\n",
      "C:\\Users\\user\\AppData\\Local\\Temp\\ipykernel_11240\\3075619752.py:11: FutureWarning: suggest_loguniform has been deprecated in v3.0.0. This feature will be removed in v6.0.0. See https://github.com/optuna/optuna/releases/tag/v3.0.0. Use :func:`~optuna.trial.Trial.suggest_float` instead.\n",
      "  'colsample_bytree': trial.suggest_loguniform('colsample_bytree', 0.01, 1.0),\n",
      "C:\\Users\\user\\AppData\\Local\\Temp\\ipykernel_11240\\3075619752.py:12: FutureWarning: suggest_loguniform has been deprecated in v3.0.0. This feature will be removed in v6.0.0. See https://github.com/optuna/optuna/releases/tag/v3.0.0. Use :func:`~optuna.trial.Trial.suggest_float` instead.\n",
      "  'reg_alpha': trial.suggest_loguniform('reg_alpha', 1e-8, 1.0),\n",
      "C:\\Users\\user\\AppData\\Local\\Temp\\ipykernel_11240\\3075619752.py:13: FutureWarning: suggest_loguniform has been deprecated in v3.0.0. This feature will be removed in v6.0.0. See https://github.com/optuna/optuna/releases/tag/v3.0.0. Use :func:`~optuna.trial.Trial.suggest_float` instead.\n",
      "  'reg_lambda': trial.suggest_loguniform('reg_lambda', 1e-8, 1.0),\n",
      "\u001b[32m[I 2023-03-05 10:31:48,154]\u001b[0m Trial 23 finished with value: 0.07794676490482158 and parameters: {'max_depth': 9, 'learning_rate': 0.13179142231355956, 'n_estimators': 386, 'min_child_weight': 10, 'gamma': 3.630401233548142e-08, 'subsample': 0.9658276070246417, 'colsample_bytree': 0.9170596427694868, 'reg_alpha': 0.0031792701696438264, 'reg_lambda': 3.02406053158002e-08}. Best is trial 23 with value: 0.07794676490482158.\u001b[0m\n",
      "C:\\Users\\user\\AppData\\Local\\Temp\\ipykernel_11240\\3075619752.py:6: FutureWarning: suggest_loguniform has been deprecated in v3.0.0. This feature will be removed in v6.0.0. See https://github.com/optuna/optuna/releases/tag/v3.0.0. Use :func:`~optuna.trial.Trial.suggest_float` instead.\n",
      "  'learning_rate': trial.suggest_loguniform('learning_rate', 0.0001, 1.0),\n",
      "C:\\Users\\user\\AppData\\Local\\Temp\\ipykernel_11240\\3075619752.py:9: FutureWarning: suggest_loguniform has been deprecated in v3.0.0. This feature will be removed in v6.0.0. See https://github.com/optuna/optuna/releases/tag/v3.0.0. Use :func:`~optuna.trial.Trial.suggest_float` instead.\n",
      "  'gamma': trial.suggest_loguniform('gamma', 1e-8, 1.0),\n",
      "C:\\Users\\user\\AppData\\Local\\Temp\\ipykernel_11240\\3075619752.py:10: FutureWarning: suggest_loguniform has been deprecated in v3.0.0. This feature will be removed in v6.0.0. See https://github.com/optuna/optuna/releases/tag/v3.0.0. Use :func:`~optuna.trial.Trial.suggest_float` instead.\n",
      "  'subsample': trial.suggest_loguniform('subsample', 0.01, 1.0),\n",
      "C:\\Users\\user\\AppData\\Local\\Temp\\ipykernel_11240\\3075619752.py:11: FutureWarning: suggest_loguniform has been deprecated in v3.0.0. This feature will be removed in v6.0.0. See https://github.com/optuna/optuna/releases/tag/v3.0.0. Use :func:`~optuna.trial.Trial.suggest_float` instead.\n",
      "  'colsample_bytree': trial.suggest_loguniform('colsample_bytree', 0.01, 1.0),\n",
      "C:\\Users\\user\\AppData\\Local\\Temp\\ipykernel_11240\\3075619752.py:12: FutureWarning: suggest_loguniform has been deprecated in v3.0.0. This feature will be removed in v6.0.0. See https://github.com/optuna/optuna/releases/tag/v3.0.0. Use :func:`~optuna.trial.Trial.suggest_float` instead.\n",
      "  'reg_alpha': trial.suggest_loguniform('reg_alpha', 1e-8, 1.0),\n",
      "C:\\Users\\user\\AppData\\Local\\Temp\\ipykernel_11240\\3075619752.py:13: FutureWarning: suggest_loguniform has been deprecated in v3.0.0. This feature will be removed in v6.0.0. See https://github.com/optuna/optuna/releases/tag/v3.0.0. Use :func:`~optuna.trial.Trial.suggest_float` instead.\n",
      "  'reg_lambda': trial.suggest_loguniform('reg_lambda', 1e-8, 1.0),\n",
      "\u001b[32m[I 2023-03-05 10:32:04,713]\u001b[0m Trial 24 finished with value: 0.13267835973532782 and parameters: {'max_depth': 7, 'learning_rate': 0.11385510237979984, 'n_estimators': 390, 'min_child_weight': 7, 'gamma': 6.239391309907952e-07, 'subsample': 0.9972731883494149, 'colsample_bytree': 0.462469430357582, 'reg_alpha': 0.0006112633221476916, 'reg_lambda': 3.0684622226065134e-07}. Best is trial 23 with value: 0.07794676490482158.\u001b[0m\n",
      "C:\\Users\\user\\AppData\\Local\\Temp\\ipykernel_11240\\3075619752.py:6: FutureWarning: suggest_loguniform has been deprecated in v3.0.0. This feature will be removed in v6.0.0. See https://github.com/optuna/optuna/releases/tag/v3.0.0. Use :func:`~optuna.trial.Trial.suggest_float` instead.\n",
      "  'learning_rate': trial.suggest_loguniform('learning_rate', 0.0001, 1.0),\n",
      "C:\\Users\\user\\AppData\\Local\\Temp\\ipykernel_11240\\3075619752.py:9: FutureWarning: suggest_loguniform has been deprecated in v3.0.0. This feature will be removed in v6.0.0. See https://github.com/optuna/optuna/releases/tag/v3.0.0. Use :func:`~optuna.trial.Trial.suggest_float` instead.\n",
      "  'gamma': trial.suggest_loguniform('gamma', 1e-8, 1.0),\n",
      "C:\\Users\\user\\AppData\\Local\\Temp\\ipykernel_11240\\3075619752.py:10: FutureWarning: suggest_loguniform has been deprecated in v3.0.0. This feature will be removed in v6.0.0. See https://github.com/optuna/optuna/releases/tag/v3.0.0. Use :func:`~optuna.trial.Trial.suggest_float` instead.\n",
      "  'subsample': trial.suggest_loguniform('subsample', 0.01, 1.0),\n",
      "C:\\Users\\user\\AppData\\Local\\Temp\\ipykernel_11240\\3075619752.py:11: FutureWarning: suggest_loguniform has been deprecated in v3.0.0. This feature will be removed in v6.0.0. See https://github.com/optuna/optuna/releases/tag/v3.0.0. Use :func:`~optuna.trial.Trial.suggest_float` instead.\n",
      "  'colsample_bytree': trial.suggest_loguniform('colsample_bytree', 0.01, 1.0),\n",
      "C:\\Users\\user\\AppData\\Local\\Temp\\ipykernel_11240\\3075619752.py:12: FutureWarning: suggest_loguniform has been deprecated in v3.0.0. This feature will be removed in v6.0.0. See https://github.com/optuna/optuna/releases/tag/v3.0.0. Use :func:`~optuna.trial.Trial.suggest_float` instead.\n",
      "  'reg_alpha': trial.suggest_loguniform('reg_alpha', 1e-8, 1.0),\n",
      "C:\\Users\\user\\AppData\\Local\\Temp\\ipykernel_11240\\3075619752.py:13: FutureWarning: suggest_loguniform has been deprecated in v3.0.0. This feature will be removed in v6.0.0. See https://github.com/optuna/optuna/releases/tag/v3.0.0. Use :func:`~optuna.trial.Trial.suggest_float` instead.\n",
      "  'reg_lambda': trial.suggest_loguniform('reg_lambda', 1e-8, 1.0),\n",
      "\u001b[32m[I 2023-03-05 10:32:29,086]\u001b[0m Trial 25 finished with value: 0.08217919646540266 and parameters: {'max_depth': 10, 'learning_rate': 0.12373266328686652, 'n_estimators': 357, 'min_child_weight': 10, 'gamma': 7.18964906080719e-08, 'subsample': 0.6514231518474058, 'colsample_bytree': 0.996432277390436, 'reg_alpha': 0.05534184169058595, 'reg_lambda': 3.847509859133099e-08}. Best is trial 23 with value: 0.07794676490482158.\u001b[0m\n",
      "C:\\Users\\user\\AppData\\Local\\Temp\\ipykernel_11240\\3075619752.py:6: FutureWarning: suggest_loguniform has been deprecated in v3.0.0. This feature will be removed in v6.0.0. See https://github.com/optuna/optuna/releases/tag/v3.0.0. Use :func:`~optuna.trial.Trial.suggest_float` instead.\n",
      "  'learning_rate': trial.suggest_loguniform('learning_rate', 0.0001, 1.0),\n",
      "C:\\Users\\user\\AppData\\Local\\Temp\\ipykernel_11240\\3075619752.py:9: FutureWarning: suggest_loguniform has been deprecated in v3.0.0. This feature will be removed in v6.0.0. See https://github.com/optuna/optuna/releases/tag/v3.0.0. Use :func:`~optuna.trial.Trial.suggest_float` instead.\n",
      "  'gamma': trial.suggest_loguniform('gamma', 1e-8, 1.0),\n",
      "C:\\Users\\user\\AppData\\Local\\Temp\\ipykernel_11240\\3075619752.py:10: FutureWarning: suggest_loguniform has been deprecated in v3.0.0. This feature will be removed in v6.0.0. See https://github.com/optuna/optuna/releases/tag/v3.0.0. Use :func:`~optuna.trial.Trial.suggest_float` instead.\n",
      "  'subsample': trial.suggest_loguniform('subsample', 0.01, 1.0),\n",
      "C:\\Users\\user\\AppData\\Local\\Temp\\ipykernel_11240\\3075619752.py:11: FutureWarning: suggest_loguniform has been deprecated in v3.0.0. This feature will be removed in v6.0.0. See https://github.com/optuna/optuna/releases/tag/v3.0.0. Use :func:`~optuna.trial.Trial.suggest_float` instead.\n",
      "  'colsample_bytree': trial.suggest_loguniform('colsample_bytree', 0.01, 1.0),\n",
      "C:\\Users\\user\\AppData\\Local\\Temp\\ipykernel_11240\\3075619752.py:12: FutureWarning: suggest_loguniform has been deprecated in v3.0.0. This feature will be removed in v6.0.0. See https://github.com/optuna/optuna/releases/tag/v3.0.0. Use :func:`~optuna.trial.Trial.suggest_float` instead.\n",
      "  'reg_alpha': trial.suggest_loguniform('reg_alpha', 1e-8, 1.0),\n",
      "C:\\Users\\user\\AppData\\Local\\Temp\\ipykernel_11240\\3075619752.py:13: FutureWarning: suggest_loguniform has been deprecated in v3.0.0. This feature will be removed in v6.0.0. See https://github.com/optuna/optuna/releases/tag/v3.0.0. Use :func:`~optuna.trial.Trial.suggest_float` instead.\n",
      "  'reg_lambda': trial.suggest_loguniform('reg_lambda', 1e-8, 1.0),\n",
      "\u001b[32m[I 2023-03-05 10:32:44,260]\u001b[0m Trial 26 finished with value: 0.08905154342316438 and parameters: {'max_depth': 6, 'learning_rate': 0.04587544669464027, 'n_estimators': 350, 'min_child_weight': 9, 'gamma': 1.400922907262756e-07, 'subsample': 0.6234467158520554, 'colsample_bytree': 0.6533543319383998, 'reg_alpha': 0.09094583971878904, 'reg_lambda': 4.103066335102717e-08}. Best is trial 23 with value: 0.07794676490482158.\u001b[0m\n",
      "C:\\Users\\user\\AppData\\Local\\Temp\\ipykernel_11240\\3075619752.py:6: FutureWarning: suggest_loguniform has been deprecated in v3.0.0. This feature will be removed in v6.0.0. See https://github.com/optuna/optuna/releases/tag/v3.0.0. Use :func:`~optuna.trial.Trial.suggest_float` instead.\n",
      "  'learning_rate': trial.suggest_loguniform('learning_rate', 0.0001, 1.0),\n",
      "C:\\Users\\user\\AppData\\Local\\Temp\\ipykernel_11240\\3075619752.py:9: FutureWarning: suggest_loguniform has been deprecated in v3.0.0. This feature will be removed in v6.0.0. See https://github.com/optuna/optuna/releases/tag/v3.0.0. Use :func:`~optuna.trial.Trial.suggest_float` instead.\n",
      "  'gamma': trial.suggest_loguniform('gamma', 1e-8, 1.0),\n",
      "C:\\Users\\user\\AppData\\Local\\Temp\\ipykernel_11240\\3075619752.py:10: FutureWarning: suggest_loguniform has been deprecated in v3.0.0. This feature will be removed in v6.0.0. See https://github.com/optuna/optuna/releases/tag/v3.0.0. Use :func:`~optuna.trial.Trial.suggest_float` instead.\n",
      "  'subsample': trial.suggest_loguniform('subsample', 0.01, 1.0),\n",
      "C:\\Users\\user\\AppData\\Local\\Temp\\ipykernel_11240\\3075619752.py:11: FutureWarning: suggest_loguniform has been deprecated in v3.0.0. This feature will be removed in v6.0.0. See https://github.com/optuna/optuna/releases/tag/v3.0.0. Use :func:`~optuna.trial.Trial.suggest_float` instead.\n",
      "  'colsample_bytree': trial.suggest_loguniform('colsample_bytree', 0.01, 1.0),\n",
      "C:\\Users\\user\\AppData\\Local\\Temp\\ipykernel_11240\\3075619752.py:12: FutureWarning: suggest_loguniform has been deprecated in v3.0.0. This feature will be removed in v6.0.0. See https://github.com/optuna/optuna/releases/tag/v3.0.0. Use :func:`~optuna.trial.Trial.suggest_float` instead.\n",
      "  'reg_alpha': trial.suggest_loguniform('reg_alpha', 1e-8, 1.0),\n",
      "C:\\Users\\user\\AppData\\Local\\Temp\\ipykernel_11240\\3075619752.py:13: FutureWarning: suggest_loguniform has been deprecated in v3.0.0. This feature will be removed in v6.0.0. See https://github.com/optuna/optuna/releases/tag/v3.0.0. Use :func:`~optuna.trial.Trial.suggest_float` instead.\n",
      "  'reg_lambda': trial.suggest_loguniform('reg_lambda', 1e-8, 1.0),\n",
      "\u001b[32m[I 2023-03-05 10:32:58,658]\u001b[0m Trial 27 finished with value: 0.18967995183760258 and parameters: {'max_depth': 11, 'learning_rate': 0.035536181998102045, 'n_estimators': 304, 'min_child_weight': 7, 'gamma': 4.596196156568943e-08, 'subsample': 0.5688414532593934, 'colsample_bytree': 0.36859991766034095, 'reg_alpha': 0.006635458005652761, 'reg_lambda': 1.2304405817112096e-08}. Best is trial 23 with value: 0.07794676490482158.\u001b[0m\n",
      "C:\\Users\\user\\AppData\\Local\\Temp\\ipykernel_11240\\3075619752.py:6: FutureWarning: suggest_loguniform has been deprecated in v3.0.0. This feature will be removed in v6.0.0. See https://github.com/optuna/optuna/releases/tag/v3.0.0. Use :func:`~optuna.trial.Trial.suggest_float` instead.\n",
      "  'learning_rate': trial.suggest_loguniform('learning_rate', 0.0001, 1.0),\n",
      "C:\\Users\\user\\AppData\\Local\\Temp\\ipykernel_11240\\3075619752.py:9: FutureWarning: suggest_loguniform has been deprecated in v3.0.0. This feature will be removed in v6.0.0. See https://github.com/optuna/optuna/releases/tag/v3.0.0. Use :func:`~optuna.trial.Trial.suggest_float` instead.\n",
      "  'gamma': trial.suggest_loguniform('gamma', 1e-8, 1.0),\n",
      "C:\\Users\\user\\AppData\\Local\\Temp\\ipykernel_11240\\3075619752.py:10: FutureWarning: suggest_loguniform has been deprecated in v3.0.0. This feature will be removed in v6.0.0. See https://github.com/optuna/optuna/releases/tag/v3.0.0. Use :func:`~optuna.trial.Trial.suggest_float` instead.\n",
      "  'subsample': trial.suggest_loguniform('subsample', 0.01, 1.0),\n",
      "C:\\Users\\user\\AppData\\Local\\Temp\\ipykernel_11240\\3075619752.py:11: FutureWarning: suggest_loguniform has been deprecated in v3.0.0. This feature will be removed in v6.0.0. See https://github.com/optuna/optuna/releases/tag/v3.0.0. Use :func:`~optuna.trial.Trial.suggest_float` instead.\n",
      "  'colsample_bytree': trial.suggest_loguniform('colsample_bytree', 0.01, 1.0),\n",
      "C:\\Users\\user\\AppData\\Local\\Temp\\ipykernel_11240\\3075619752.py:12: FutureWarning: suggest_loguniform has been deprecated in v3.0.0. This feature will be removed in v6.0.0. See https://github.com/optuna/optuna/releases/tag/v3.0.0. Use :func:`~optuna.trial.Trial.suggest_float` instead.\n",
      "  'reg_alpha': trial.suggest_loguniform('reg_alpha', 1e-8, 1.0),\n",
      "C:\\Users\\user\\AppData\\Local\\Temp\\ipykernel_11240\\3075619752.py:13: FutureWarning: suggest_loguniform has been deprecated in v3.0.0. This feature will be removed in v6.0.0. See https://github.com/optuna/optuna/releases/tag/v3.0.0. Use :func:`~optuna.trial.Trial.suggest_float` instead.\n",
      "  'reg_lambda': trial.suggest_loguniform('reg_lambda', 1e-8, 1.0),\n",
      "\u001b[32m[I 2023-03-05 10:33:10,650]\u001b[0m Trial 28 finished with value: 0.13476647079761858 and parameters: {'max_depth': 9, 'learning_rate': 0.13001912403114002, 'n_estimators': 207, 'min_child_weight': 3, 'gamma': 3.998994169319533e-08, 'subsample': 0.7072651095059638, 'colsample_bytree': 0.4816075201385855, 'reg_alpha': 0.11281342055305278, 'reg_lambda': 9.153154685747255e-08}. Best is trial 23 with value: 0.07794676490482158.\u001b[0m\n",
      "C:\\Users\\user\\AppData\\Local\\Temp\\ipykernel_11240\\3075619752.py:6: FutureWarning: suggest_loguniform has been deprecated in v3.0.0. This feature will be removed in v6.0.0. See https://github.com/optuna/optuna/releases/tag/v3.0.0. Use :func:`~optuna.trial.Trial.suggest_float` instead.\n",
      "  'learning_rate': trial.suggest_loguniform('learning_rate', 0.0001, 1.0),\n",
      "C:\\Users\\user\\AppData\\Local\\Temp\\ipykernel_11240\\3075619752.py:9: FutureWarning: suggest_loguniform has been deprecated in v3.0.0. This feature will be removed in v6.0.0. See https://github.com/optuna/optuna/releases/tag/v3.0.0. Use :func:`~optuna.trial.Trial.suggest_float` instead.\n",
      "  'gamma': trial.suggest_loguniform('gamma', 1e-8, 1.0),\n",
      "C:\\Users\\user\\AppData\\Local\\Temp\\ipykernel_11240\\3075619752.py:10: FutureWarning: suggest_loguniform has been deprecated in v3.0.0. This feature will be removed in v6.0.0. See https://github.com/optuna/optuna/releases/tag/v3.0.0. Use :func:`~optuna.trial.Trial.suggest_float` instead.\n",
      "  'subsample': trial.suggest_loguniform('subsample', 0.01, 1.0),\n",
      "C:\\Users\\user\\AppData\\Local\\Temp\\ipykernel_11240\\3075619752.py:11: FutureWarning: suggest_loguniform has been deprecated in v3.0.0. This feature will be removed in v6.0.0. See https://github.com/optuna/optuna/releases/tag/v3.0.0. Use :func:`~optuna.trial.Trial.suggest_float` instead.\n",
      "  'colsample_bytree': trial.suggest_loguniform('colsample_bytree', 0.01, 1.0),\n",
      "C:\\Users\\user\\AppData\\Local\\Temp\\ipykernel_11240\\3075619752.py:12: FutureWarning: suggest_loguniform has been deprecated in v3.0.0. This feature will be removed in v6.0.0. See https://github.com/optuna/optuna/releases/tag/v3.0.0. Use :func:`~optuna.trial.Trial.suggest_float` instead.\n",
      "  'reg_alpha': trial.suggest_loguniform('reg_alpha', 1e-8, 1.0),\n",
      "C:\\Users\\user\\AppData\\Local\\Temp\\ipykernel_11240\\3075619752.py:13: FutureWarning: suggest_loguniform has been deprecated in v3.0.0. This feature will be removed in v6.0.0. See https://github.com/optuna/optuna/releases/tag/v3.0.0. Use :func:`~optuna.trial.Trial.suggest_float` instead.\n",
      "  'reg_lambda': trial.suggest_loguniform('reg_lambda', 1e-8, 1.0),\n",
      "\u001b[32m[I 2023-03-05 10:33:26,137]\u001b[0m Trial 29 finished with value: 0.2960929489675396 and parameters: {'max_depth': 17, 'learning_rate': 0.8937737595245496, 'n_estimators': 242, 'min_child_weight': 5, 'gamma': 3.4847691892331123e-07, 'subsample': 0.7542917633882187, 'colsample_bytree': 0.7505891856839708, 'reg_alpha': 0.0018885054458191745, 'reg_lambda': 8.325410334494866e-07}. Best is trial 23 with value: 0.07794676490482158.\u001b[0m\n",
      "C:\\Users\\user\\AppData\\Local\\Temp\\ipykernel_11240\\3075619752.py:6: FutureWarning: suggest_loguniform has been deprecated in v3.0.0. This feature will be removed in v6.0.0. See https://github.com/optuna/optuna/releases/tag/v3.0.0. Use :func:`~optuna.trial.Trial.suggest_float` instead.\n",
      "  'learning_rate': trial.suggest_loguniform('learning_rate', 0.0001, 1.0),\n",
      "C:\\Users\\user\\AppData\\Local\\Temp\\ipykernel_11240\\3075619752.py:9: FutureWarning: suggest_loguniform has been deprecated in v3.0.0. This feature will be removed in v6.0.0. See https://github.com/optuna/optuna/releases/tag/v3.0.0. Use :func:`~optuna.trial.Trial.suggest_float` instead.\n",
      "  'gamma': trial.suggest_loguniform('gamma', 1e-8, 1.0),\n",
      "C:\\Users\\user\\AppData\\Local\\Temp\\ipykernel_11240\\3075619752.py:10: FutureWarning: suggest_loguniform has been deprecated in v3.0.0. This feature will be removed in v6.0.0. See https://github.com/optuna/optuna/releases/tag/v3.0.0. Use :func:`~optuna.trial.Trial.suggest_float` instead.\n",
      "  'subsample': trial.suggest_loguniform('subsample', 0.01, 1.0),\n",
      "C:\\Users\\user\\AppData\\Local\\Temp\\ipykernel_11240\\3075619752.py:11: FutureWarning: suggest_loguniform has been deprecated in v3.0.0. This feature will be removed in v6.0.0. See https://github.com/optuna/optuna/releases/tag/v3.0.0. Use :func:`~optuna.trial.Trial.suggest_float` instead.\n",
      "  'colsample_bytree': trial.suggest_loguniform('colsample_bytree', 0.01, 1.0),\n",
      "C:\\Users\\user\\AppData\\Local\\Temp\\ipykernel_11240\\3075619752.py:12: FutureWarning: suggest_loguniform has been deprecated in v3.0.0. This feature will be removed in v6.0.0. See https://github.com/optuna/optuna/releases/tag/v3.0.0. Use :func:`~optuna.trial.Trial.suggest_float` instead.\n",
      "  'reg_alpha': trial.suggest_loguniform('reg_alpha', 1e-8, 1.0),\n",
      "C:\\Users\\user\\AppData\\Local\\Temp\\ipykernel_11240\\3075619752.py:13: FutureWarning: suggest_loguniform has been deprecated in v3.0.0. This feature will be removed in v6.0.0. See https://github.com/optuna/optuna/releases/tag/v3.0.0. Use :func:`~optuna.trial.Trial.suggest_float` instead.\n",
      "  'reg_lambda': trial.suggest_loguniform('reg_lambda', 1e-8, 1.0),\n",
      "\u001b[32m[I 2023-03-05 10:33:33,219]\u001b[0m Trial 30 finished with value: 0.40079592469742703 and parameters: {'max_depth': 6, 'learning_rate': 0.01458384569141099, 'n_estimators': 368, 'min_child_weight': 10, 'gamma': 3.553510756827246e-08, 'subsample': 0.25067072626257375, 'colsample_bytree': 0.16097261499897778, 'reg_alpha': 0.7810329161816959, 'reg_lambda': 3.9422329708592965e-08}. Best is trial 23 with value: 0.07794676490482158.\u001b[0m\n",
      "C:\\Users\\user\\AppData\\Local\\Temp\\ipykernel_11240\\3075619752.py:6: FutureWarning: suggest_loguniform has been deprecated in v3.0.0. This feature will be removed in v6.0.0. See https://github.com/optuna/optuna/releases/tag/v3.0.0. Use :func:`~optuna.trial.Trial.suggest_float` instead.\n",
      "  'learning_rate': trial.suggest_loguniform('learning_rate', 0.0001, 1.0),\n",
      "C:\\Users\\user\\AppData\\Local\\Temp\\ipykernel_11240\\3075619752.py:9: FutureWarning: suggest_loguniform has been deprecated in v3.0.0. This feature will be removed in v6.0.0. See https://github.com/optuna/optuna/releases/tag/v3.0.0. Use :func:`~optuna.trial.Trial.suggest_float` instead.\n",
      "  'gamma': trial.suggest_loguniform('gamma', 1e-8, 1.0),\n",
      "C:\\Users\\user\\AppData\\Local\\Temp\\ipykernel_11240\\3075619752.py:10: FutureWarning: suggest_loguniform has been deprecated in v3.0.0. This feature will be removed in v6.0.0. See https://github.com/optuna/optuna/releases/tag/v3.0.0. Use :func:`~optuna.trial.Trial.suggest_float` instead.\n",
      "  'subsample': trial.suggest_loguniform('subsample', 0.01, 1.0),\n",
      "C:\\Users\\user\\AppData\\Local\\Temp\\ipykernel_11240\\3075619752.py:11: FutureWarning: suggest_loguniform has been deprecated in v3.0.0. This feature will be removed in v6.0.0. See https://github.com/optuna/optuna/releases/tag/v3.0.0. Use :func:`~optuna.trial.Trial.suggest_float` instead.\n",
      "  'colsample_bytree': trial.suggest_loguniform('colsample_bytree', 0.01, 1.0),\n",
      "C:\\Users\\user\\AppData\\Local\\Temp\\ipykernel_11240\\3075619752.py:12: FutureWarning: suggest_loguniform has been deprecated in v3.0.0. This feature will be removed in v6.0.0. See https://github.com/optuna/optuna/releases/tag/v3.0.0. Use :func:`~optuna.trial.Trial.suggest_float` instead.\n",
      "  'reg_alpha': trial.suggest_loguniform('reg_alpha', 1e-8, 1.0),\n",
      "C:\\Users\\user\\AppData\\Local\\Temp\\ipykernel_11240\\3075619752.py:13: FutureWarning: suggest_loguniform has been deprecated in v3.0.0. This feature will be removed in v6.0.0. See https://github.com/optuna/optuna/releases/tag/v3.0.0. Use :func:`~optuna.trial.Trial.suggest_float` instead.\n",
      "  'reg_lambda': trial.suggest_loguniform('reg_lambda', 1e-8, 1.0),\n",
      "\u001b[33m[W 2023-03-05 10:33:39,187]\u001b[0m Trial 31 failed with parameters: {'max_depth': 11, 'learning_rate': 0.1636218313768335, 'n_estimators': 412, 'min_child_weight': 10, 'gamma': 3.619672566773459e-07, 'subsample': 0.9449773106792104, 'colsample_bytree': 0.8978867075277873, 'reg_alpha': 0.04350481756330468, 'reg_lambda': 2.553011077724689e-07} because of the following error: KeyboardInterrupt().\u001b[0m\n",
      "Traceback (most recent call last):\n",
      "  File \"C:\\Users\\user\\anaconda3\\lib\\site-packages\\optuna\\study\\_optimize.py\", line 200, in _run_trial\n",
      "    value_or_values = func(trial)\n",
      "  File \"C:\\Users\\user\\AppData\\Local\\Temp\\ipykernel_11240\\3075619752.py\", line 20, in objective\n",
      "    optuna_model.fit(X_train, y_train)\n",
      "  File \"C:\\Users\\user\\anaconda3\\lib\\site-packages\\xgboost\\core.py\", line 620, in inner_f\n",
      "    return func(**kwargs)\n",
      "  File \"C:\\Users\\user\\anaconda3\\lib\\site-packages\\xgboost\\sklearn.py\", line 1025, in fit\n",
      "    self._Booster = train(\n",
      "  File \"C:\\Users\\user\\anaconda3\\lib\\site-packages\\xgboost\\core.py\", line 620, in inner_f\n",
      "    return func(**kwargs)\n",
      "  File \"C:\\Users\\user\\anaconda3\\lib\\site-packages\\xgboost\\training.py\", line 185, in train\n",
      "    bst.update(dtrain, i, obj)\n",
      "  File \"C:\\Users\\user\\anaconda3\\lib\\site-packages\\xgboost\\core.py\", line 1918, in update\n",
      "    _check_call(_LIB.XGBoosterUpdateOneIter(self.handle,\n",
      "KeyboardInterrupt\n",
      "\u001b[33m[W 2023-03-05 10:33:39,198]\u001b[0m Trial 31 failed with value None.\u001b[0m\n"
     ]
    },
    {
     "ename": "KeyboardInterrupt",
     "evalue": "",
     "output_type": "error",
     "traceback": [
      "\u001b[1;31m---------------------------------------------------------------------------\u001b[0m",
      "\u001b[1;31mKeyboardInterrupt\u001b[0m                         Traceback (most recent call last)",
      "Cell \u001b[1;32mIn [56], line 1\u001b[0m\n\u001b[1;32m----> 1\u001b[0m \u001b[43mstudy\u001b[49m\u001b[38;5;241;43m.\u001b[39;49m\u001b[43moptimize\u001b[49m\u001b[43m(\u001b[49m\u001b[43mobjective\u001b[49m\u001b[43m,\u001b[49m\u001b[43m \u001b[49m\u001b[43mn_trials\u001b[49m\u001b[38;5;241;43m=\u001b[39;49m\u001b[38;5;241;43m1000\u001b[39;49m\u001b[43m)\u001b[49m\n",
      "File \u001b[1;32m~\\anaconda3\\lib\\site-packages\\optuna\\study\\study.py:425\u001b[0m, in \u001b[0;36mStudy.optimize\u001b[1;34m(self, func, n_trials, timeout, n_jobs, catch, callbacks, gc_after_trial, show_progress_bar)\u001b[0m\n\u001b[0;32m    321\u001b[0m \u001b[38;5;28;01mdef\u001b[39;00m \u001b[38;5;21moptimize\u001b[39m(\n\u001b[0;32m    322\u001b[0m     \u001b[38;5;28mself\u001b[39m,\n\u001b[0;32m    323\u001b[0m     func: ObjectiveFuncType,\n\u001b[1;32m   (...)\u001b[0m\n\u001b[0;32m    330\u001b[0m     show_progress_bar: \u001b[38;5;28mbool\u001b[39m \u001b[38;5;241m=\u001b[39m \u001b[38;5;28;01mFalse\u001b[39;00m,\n\u001b[0;32m    331\u001b[0m ) \u001b[38;5;241m-\u001b[39m\u001b[38;5;241m>\u001b[39m \u001b[38;5;28;01mNone\u001b[39;00m:\n\u001b[0;32m    332\u001b[0m     \u001b[38;5;124;03m\"\"\"Optimize an objective function.\u001b[39;00m\n\u001b[0;32m    333\u001b[0m \n\u001b[0;32m    334\u001b[0m \u001b[38;5;124;03m    Optimization is done by choosing a suitable set of hyperparameter values from a given\u001b[39;00m\n\u001b[1;32m   (...)\u001b[0m\n\u001b[0;32m    422\u001b[0m \u001b[38;5;124;03m            If nested invocation of this method occurs.\u001b[39;00m\n\u001b[0;32m    423\u001b[0m \u001b[38;5;124;03m    \"\"\"\u001b[39;00m\n\u001b[1;32m--> 425\u001b[0m     \u001b[43m_optimize\u001b[49m\u001b[43m(\u001b[49m\n\u001b[0;32m    426\u001b[0m \u001b[43m        \u001b[49m\u001b[43mstudy\u001b[49m\u001b[38;5;241;43m=\u001b[39;49m\u001b[38;5;28;43mself\u001b[39;49m\u001b[43m,\u001b[49m\n\u001b[0;32m    427\u001b[0m \u001b[43m        \u001b[49m\u001b[43mfunc\u001b[49m\u001b[38;5;241;43m=\u001b[39;49m\u001b[43mfunc\u001b[49m\u001b[43m,\u001b[49m\n\u001b[0;32m    428\u001b[0m \u001b[43m        \u001b[49m\u001b[43mn_trials\u001b[49m\u001b[38;5;241;43m=\u001b[39;49m\u001b[43mn_trials\u001b[49m\u001b[43m,\u001b[49m\n\u001b[0;32m    429\u001b[0m \u001b[43m        \u001b[49m\u001b[43mtimeout\u001b[49m\u001b[38;5;241;43m=\u001b[39;49m\u001b[43mtimeout\u001b[49m\u001b[43m,\u001b[49m\n\u001b[0;32m    430\u001b[0m \u001b[43m        \u001b[49m\u001b[43mn_jobs\u001b[49m\u001b[38;5;241;43m=\u001b[39;49m\u001b[43mn_jobs\u001b[49m\u001b[43m,\u001b[49m\n\u001b[0;32m    431\u001b[0m \u001b[43m        \u001b[49m\u001b[43mcatch\u001b[49m\u001b[38;5;241;43m=\u001b[39;49m\u001b[38;5;28;43mtuple\u001b[39;49m\u001b[43m(\u001b[49m\u001b[43mcatch\u001b[49m\u001b[43m)\u001b[49m\u001b[43m \u001b[49m\u001b[38;5;28;43;01mif\u001b[39;49;00m\u001b[43m \u001b[49m\u001b[38;5;28;43misinstance\u001b[39;49m\u001b[43m(\u001b[49m\u001b[43mcatch\u001b[49m\u001b[43m,\u001b[49m\u001b[43m \u001b[49m\u001b[43mIterable\u001b[49m\u001b[43m)\u001b[49m\u001b[43m \u001b[49m\u001b[38;5;28;43;01melse\u001b[39;49;00m\u001b[43m \u001b[49m\u001b[43m(\u001b[49m\u001b[43mcatch\u001b[49m\u001b[43m,\u001b[49m\u001b[43m)\u001b[49m\u001b[43m,\u001b[49m\n\u001b[0;32m    432\u001b[0m \u001b[43m        \u001b[49m\u001b[43mcallbacks\u001b[49m\u001b[38;5;241;43m=\u001b[39;49m\u001b[43mcallbacks\u001b[49m\u001b[43m,\u001b[49m\n\u001b[0;32m    433\u001b[0m \u001b[43m        \u001b[49m\u001b[43mgc_after_trial\u001b[49m\u001b[38;5;241;43m=\u001b[39;49m\u001b[43mgc_after_trial\u001b[49m\u001b[43m,\u001b[49m\n\u001b[0;32m    434\u001b[0m \u001b[43m        \u001b[49m\u001b[43mshow_progress_bar\u001b[49m\u001b[38;5;241;43m=\u001b[39;49m\u001b[43mshow_progress_bar\u001b[49m\u001b[43m,\u001b[49m\n\u001b[0;32m    435\u001b[0m \u001b[43m    \u001b[49m\u001b[43m)\u001b[49m\n",
      "File \u001b[1;32m~\\anaconda3\\lib\\site-packages\\optuna\\study\\_optimize.py:66\u001b[0m, in \u001b[0;36m_optimize\u001b[1;34m(study, func, n_trials, timeout, n_jobs, catch, callbacks, gc_after_trial, show_progress_bar)\u001b[0m\n\u001b[0;32m     64\u001b[0m \u001b[38;5;28;01mtry\u001b[39;00m:\n\u001b[0;32m     65\u001b[0m     \u001b[38;5;28;01mif\u001b[39;00m n_jobs \u001b[38;5;241m==\u001b[39m \u001b[38;5;241m1\u001b[39m:\n\u001b[1;32m---> 66\u001b[0m         \u001b[43m_optimize_sequential\u001b[49m\u001b[43m(\u001b[49m\n\u001b[0;32m     67\u001b[0m \u001b[43m            \u001b[49m\u001b[43mstudy\u001b[49m\u001b[43m,\u001b[49m\n\u001b[0;32m     68\u001b[0m \u001b[43m            \u001b[49m\u001b[43mfunc\u001b[49m\u001b[43m,\u001b[49m\n\u001b[0;32m     69\u001b[0m \u001b[43m            \u001b[49m\u001b[43mn_trials\u001b[49m\u001b[43m,\u001b[49m\n\u001b[0;32m     70\u001b[0m \u001b[43m            \u001b[49m\u001b[43mtimeout\u001b[49m\u001b[43m,\u001b[49m\n\u001b[0;32m     71\u001b[0m \u001b[43m            \u001b[49m\u001b[43mcatch\u001b[49m\u001b[43m,\u001b[49m\n\u001b[0;32m     72\u001b[0m \u001b[43m            \u001b[49m\u001b[43mcallbacks\u001b[49m\u001b[43m,\u001b[49m\n\u001b[0;32m     73\u001b[0m \u001b[43m            \u001b[49m\u001b[43mgc_after_trial\u001b[49m\u001b[43m,\u001b[49m\n\u001b[0;32m     74\u001b[0m \u001b[43m            \u001b[49m\u001b[43mreseed_sampler_rng\u001b[49m\u001b[38;5;241;43m=\u001b[39;49m\u001b[38;5;28;43;01mFalse\u001b[39;49;00m\u001b[43m,\u001b[49m\n\u001b[0;32m     75\u001b[0m \u001b[43m            \u001b[49m\u001b[43mtime_start\u001b[49m\u001b[38;5;241;43m=\u001b[39;49m\u001b[38;5;28;43;01mNone\u001b[39;49;00m\u001b[43m,\u001b[49m\n\u001b[0;32m     76\u001b[0m \u001b[43m            \u001b[49m\u001b[43mprogress_bar\u001b[49m\u001b[38;5;241;43m=\u001b[39;49m\u001b[43mprogress_bar\u001b[49m\u001b[43m,\u001b[49m\n\u001b[0;32m     77\u001b[0m \u001b[43m        \u001b[49m\u001b[43m)\u001b[49m\n\u001b[0;32m     78\u001b[0m     \u001b[38;5;28;01melse\u001b[39;00m:\n\u001b[0;32m     79\u001b[0m         \u001b[38;5;28;01mif\u001b[39;00m n_jobs \u001b[38;5;241m==\u001b[39m \u001b[38;5;241m-\u001b[39m\u001b[38;5;241m1\u001b[39m:\n",
      "File \u001b[1;32m~\\anaconda3\\lib\\site-packages\\optuna\\study\\_optimize.py:163\u001b[0m, in \u001b[0;36m_optimize_sequential\u001b[1;34m(study, func, n_trials, timeout, catch, callbacks, gc_after_trial, reseed_sampler_rng, time_start, progress_bar)\u001b[0m\n\u001b[0;32m    160\u001b[0m         \u001b[38;5;28;01mbreak\u001b[39;00m\n\u001b[0;32m    162\u001b[0m \u001b[38;5;28;01mtry\u001b[39;00m:\n\u001b[1;32m--> 163\u001b[0m     frozen_trial \u001b[38;5;241m=\u001b[39m \u001b[43m_run_trial\u001b[49m\u001b[43m(\u001b[49m\u001b[43mstudy\u001b[49m\u001b[43m,\u001b[49m\u001b[43m \u001b[49m\u001b[43mfunc\u001b[49m\u001b[43m,\u001b[49m\u001b[43m \u001b[49m\u001b[43mcatch\u001b[49m\u001b[43m)\u001b[49m\n\u001b[0;32m    164\u001b[0m \u001b[38;5;28;01mfinally\u001b[39;00m:\n\u001b[0;32m    165\u001b[0m     \u001b[38;5;66;03m# The following line mitigates memory problems that can be occurred in some\u001b[39;00m\n\u001b[0;32m    166\u001b[0m     \u001b[38;5;66;03m# environments (e.g., services that use computing containers such as GitHub Actions).\u001b[39;00m\n\u001b[0;32m    167\u001b[0m     \u001b[38;5;66;03m# Please refer to the following PR for further details:\u001b[39;00m\n\u001b[0;32m    168\u001b[0m     \u001b[38;5;66;03m# https://github.com/optuna/optuna/pull/325.\u001b[39;00m\n\u001b[0;32m    169\u001b[0m     \u001b[38;5;28;01mif\u001b[39;00m gc_after_trial:\n",
      "File \u001b[1;32m~\\anaconda3\\lib\\site-packages\\optuna\\study\\_optimize.py:251\u001b[0m, in \u001b[0;36m_run_trial\u001b[1;34m(study, func, catch)\u001b[0m\n\u001b[0;32m    244\u001b[0m         \u001b[38;5;28;01massert\u001b[39;00m \u001b[38;5;28;01mFalse\u001b[39;00m, \u001b[38;5;124m\"\u001b[39m\u001b[38;5;124mShould not reach.\u001b[39m\u001b[38;5;124m\"\u001b[39m\n\u001b[0;32m    246\u001b[0m \u001b[38;5;28;01mif\u001b[39;00m (\n\u001b[0;32m    247\u001b[0m     frozen_trial\u001b[38;5;241m.\u001b[39mstate \u001b[38;5;241m==\u001b[39m TrialState\u001b[38;5;241m.\u001b[39mFAIL\n\u001b[0;32m    248\u001b[0m     \u001b[38;5;129;01mand\u001b[39;00m func_err \u001b[38;5;129;01mis\u001b[39;00m \u001b[38;5;129;01mnot\u001b[39;00m \u001b[38;5;28;01mNone\u001b[39;00m\n\u001b[0;32m    249\u001b[0m     \u001b[38;5;129;01mand\u001b[39;00m \u001b[38;5;129;01mnot\u001b[39;00m \u001b[38;5;28misinstance\u001b[39m(func_err, catch)\n\u001b[0;32m    250\u001b[0m ):\n\u001b[1;32m--> 251\u001b[0m     \u001b[38;5;28;01mraise\u001b[39;00m func_err\n\u001b[0;32m    252\u001b[0m \u001b[38;5;28;01mreturn\u001b[39;00m frozen_trial\n",
      "File \u001b[1;32m~\\anaconda3\\lib\\site-packages\\optuna\\study\\_optimize.py:200\u001b[0m, in \u001b[0;36m_run_trial\u001b[1;34m(study, func, catch)\u001b[0m\n\u001b[0;32m    198\u001b[0m \u001b[38;5;28;01mwith\u001b[39;00m get_heartbeat_thread(trial\u001b[38;5;241m.\u001b[39m_trial_id, study\u001b[38;5;241m.\u001b[39m_storage):\n\u001b[0;32m    199\u001b[0m     \u001b[38;5;28;01mtry\u001b[39;00m:\n\u001b[1;32m--> 200\u001b[0m         value_or_values \u001b[38;5;241m=\u001b[39m \u001b[43mfunc\u001b[49m\u001b[43m(\u001b[49m\u001b[43mtrial\u001b[49m\u001b[43m)\u001b[49m\n\u001b[0;32m    201\u001b[0m     \u001b[38;5;28;01mexcept\u001b[39;00m exceptions\u001b[38;5;241m.\u001b[39mTrialPruned \u001b[38;5;28;01mas\u001b[39;00m e:\n\u001b[0;32m    202\u001b[0m         \u001b[38;5;66;03m# TODO(mamu): Handle multi-objective cases.\u001b[39;00m\n\u001b[0;32m    203\u001b[0m         state \u001b[38;5;241m=\u001b[39m TrialState\u001b[38;5;241m.\u001b[39mPRUNED\n",
      "Cell \u001b[1;32mIn [53], line 20\u001b[0m, in \u001b[0;36mobjective\u001b[1;34m(trial)\u001b[0m\n\u001b[0;32m     18\u001b[0m \u001b[38;5;66;03m# Fit the model\u001b[39;00m\n\u001b[0;32m     19\u001b[0m optuna_model \u001b[38;5;241m=\u001b[39m xgb\u001b[38;5;241m.\u001b[39mXGBRegressor(\u001b[38;5;241m*\u001b[39m\u001b[38;5;241m*\u001b[39mparams)\n\u001b[1;32m---> 20\u001b[0m \u001b[43moptuna_model\u001b[49m\u001b[38;5;241;43m.\u001b[39;49m\u001b[43mfit\u001b[49m\u001b[43m(\u001b[49m\u001b[43mX_train\u001b[49m\u001b[43m,\u001b[49m\u001b[43m \u001b[49m\u001b[43my_train\u001b[49m\u001b[43m)\u001b[49m\n\u001b[0;32m     22\u001b[0m \u001b[38;5;66;03m# Make predictions\u001b[39;00m\n\u001b[0;32m     23\u001b[0m y_pred \u001b[38;5;241m=\u001b[39m optuna_model\u001b[38;5;241m.\u001b[39mpredict(X_test)\n",
      "File \u001b[1;32m~\\anaconda3\\lib\\site-packages\\xgboost\\core.py:620\u001b[0m, in \u001b[0;36mrequire_keyword_args.<locals>.throw_if.<locals>.inner_f\u001b[1;34m(*args, **kwargs)\u001b[0m\n\u001b[0;32m    618\u001b[0m \u001b[38;5;28;01mfor\u001b[39;00m k, arg \u001b[38;5;129;01min\u001b[39;00m \u001b[38;5;28mzip\u001b[39m(sig\u001b[38;5;241m.\u001b[39mparameters, args):\n\u001b[0;32m    619\u001b[0m     kwargs[k] \u001b[38;5;241m=\u001b[39m arg\n\u001b[1;32m--> 620\u001b[0m \u001b[38;5;28;01mreturn\u001b[39;00m func(\u001b[38;5;241m*\u001b[39m\u001b[38;5;241m*\u001b[39mkwargs)\n",
      "File \u001b[1;32m~\\anaconda3\\lib\\site-packages\\xgboost\\sklearn.py:1025\u001b[0m, in \u001b[0;36mXGBModel.fit\u001b[1;34m(self, X, y, sample_weight, base_margin, eval_set, eval_metric, early_stopping_rounds, verbose, xgb_model, sample_weight_eval_set, base_margin_eval_set, feature_weights, callbacks)\u001b[0m\n\u001b[0;32m   1014\u001b[0m     obj \u001b[38;5;241m=\u001b[39m \u001b[38;5;28;01mNone\u001b[39;00m\n\u001b[0;32m   1016\u001b[0m (\n\u001b[0;32m   1017\u001b[0m     model,\n\u001b[0;32m   1018\u001b[0m     metric,\n\u001b[1;32m   (...)\u001b[0m\n\u001b[0;32m   1023\u001b[0m     xgb_model, eval_metric, params, early_stopping_rounds, callbacks\n\u001b[0;32m   1024\u001b[0m )\n\u001b[1;32m-> 1025\u001b[0m \u001b[38;5;28mself\u001b[39m\u001b[38;5;241m.\u001b[39m_Booster \u001b[38;5;241m=\u001b[39m \u001b[43mtrain\u001b[49m\u001b[43m(\u001b[49m\n\u001b[0;32m   1026\u001b[0m \u001b[43m    \u001b[49m\u001b[43mparams\u001b[49m\u001b[43m,\u001b[49m\n\u001b[0;32m   1027\u001b[0m \u001b[43m    \u001b[49m\u001b[43mtrain_dmatrix\u001b[49m\u001b[43m,\u001b[49m\n\u001b[0;32m   1028\u001b[0m \u001b[43m    \u001b[49m\u001b[38;5;28;43mself\u001b[39;49m\u001b[38;5;241;43m.\u001b[39;49m\u001b[43mget_num_boosting_rounds\u001b[49m\u001b[43m(\u001b[49m\u001b[43m)\u001b[49m\u001b[43m,\u001b[49m\n\u001b[0;32m   1029\u001b[0m \u001b[43m    \u001b[49m\u001b[43mevals\u001b[49m\u001b[38;5;241;43m=\u001b[39;49m\u001b[43mevals\u001b[49m\u001b[43m,\u001b[49m\n\u001b[0;32m   1030\u001b[0m \u001b[43m    \u001b[49m\u001b[43mearly_stopping_rounds\u001b[49m\u001b[38;5;241;43m=\u001b[39;49m\u001b[43mearly_stopping_rounds\u001b[49m\u001b[43m,\u001b[49m\n\u001b[0;32m   1031\u001b[0m \u001b[43m    \u001b[49m\u001b[43mevals_result\u001b[49m\u001b[38;5;241;43m=\u001b[39;49m\u001b[43mevals_result\u001b[49m\u001b[43m,\u001b[49m\n\u001b[0;32m   1032\u001b[0m \u001b[43m    \u001b[49m\u001b[43mobj\u001b[49m\u001b[38;5;241;43m=\u001b[39;49m\u001b[43mobj\u001b[49m\u001b[43m,\u001b[49m\n\u001b[0;32m   1033\u001b[0m \u001b[43m    \u001b[49m\u001b[43mcustom_metric\u001b[49m\u001b[38;5;241;43m=\u001b[39;49m\u001b[43mmetric\u001b[49m\u001b[43m,\u001b[49m\n\u001b[0;32m   1034\u001b[0m \u001b[43m    \u001b[49m\u001b[43mverbose_eval\u001b[49m\u001b[38;5;241;43m=\u001b[39;49m\u001b[43mverbose\u001b[49m\u001b[43m,\u001b[49m\n\u001b[0;32m   1035\u001b[0m \u001b[43m    \u001b[49m\u001b[43mxgb_model\u001b[49m\u001b[38;5;241;43m=\u001b[39;49m\u001b[43mmodel\u001b[49m\u001b[43m,\u001b[49m\n\u001b[0;32m   1036\u001b[0m \u001b[43m    \u001b[49m\u001b[43mcallbacks\u001b[49m\u001b[38;5;241;43m=\u001b[39;49m\u001b[43mcallbacks\u001b[49m\u001b[43m,\u001b[49m\n\u001b[0;32m   1037\u001b[0m \u001b[43m\u001b[49m\u001b[43m)\u001b[49m\n\u001b[0;32m   1039\u001b[0m \u001b[38;5;28mself\u001b[39m\u001b[38;5;241m.\u001b[39m_set_evaluation_result(evals_result)\n\u001b[0;32m   1040\u001b[0m \u001b[38;5;28;01mreturn\u001b[39;00m \u001b[38;5;28mself\u001b[39m\n",
      "File \u001b[1;32m~\\anaconda3\\lib\\site-packages\\xgboost\\core.py:620\u001b[0m, in \u001b[0;36mrequire_keyword_args.<locals>.throw_if.<locals>.inner_f\u001b[1;34m(*args, **kwargs)\u001b[0m\n\u001b[0;32m    618\u001b[0m \u001b[38;5;28;01mfor\u001b[39;00m k, arg \u001b[38;5;129;01min\u001b[39;00m \u001b[38;5;28mzip\u001b[39m(sig\u001b[38;5;241m.\u001b[39mparameters, args):\n\u001b[0;32m    619\u001b[0m     kwargs[k] \u001b[38;5;241m=\u001b[39m arg\n\u001b[1;32m--> 620\u001b[0m \u001b[38;5;28;01mreturn\u001b[39;00m func(\u001b[38;5;241m*\u001b[39m\u001b[38;5;241m*\u001b[39mkwargs)\n",
      "File \u001b[1;32m~\\anaconda3\\lib\\site-packages\\xgboost\\training.py:185\u001b[0m, in \u001b[0;36mtrain\u001b[1;34m(params, dtrain, num_boost_round, evals, obj, feval, maximize, early_stopping_rounds, evals_result, verbose_eval, xgb_model, callbacks, custom_metric)\u001b[0m\n\u001b[0;32m    183\u001b[0m \u001b[38;5;28;01mif\u001b[39;00m cb_container\u001b[38;5;241m.\u001b[39mbefore_iteration(bst, i, dtrain, evals):\n\u001b[0;32m    184\u001b[0m     \u001b[38;5;28;01mbreak\u001b[39;00m\n\u001b[1;32m--> 185\u001b[0m \u001b[43mbst\u001b[49m\u001b[38;5;241;43m.\u001b[39;49m\u001b[43mupdate\u001b[49m\u001b[43m(\u001b[49m\u001b[43mdtrain\u001b[49m\u001b[43m,\u001b[49m\u001b[43m \u001b[49m\u001b[43mi\u001b[49m\u001b[43m,\u001b[49m\u001b[43m \u001b[49m\u001b[43mobj\u001b[49m\u001b[43m)\u001b[49m\n\u001b[0;32m    186\u001b[0m \u001b[38;5;28;01mif\u001b[39;00m cb_container\u001b[38;5;241m.\u001b[39mafter_iteration(bst, i, dtrain, evals):\n\u001b[0;32m    187\u001b[0m     \u001b[38;5;28;01mbreak\u001b[39;00m\n",
      "File \u001b[1;32m~\\anaconda3\\lib\\site-packages\\xgboost\\core.py:1918\u001b[0m, in \u001b[0;36mBooster.update\u001b[1;34m(self, dtrain, iteration, fobj)\u001b[0m\n\u001b[0;32m   1915\u001b[0m \u001b[38;5;28mself\u001b[39m\u001b[38;5;241m.\u001b[39m_validate_dmatrix_features(dtrain)\n\u001b[0;32m   1917\u001b[0m \u001b[38;5;28;01mif\u001b[39;00m fobj \u001b[38;5;129;01mis\u001b[39;00m \u001b[38;5;28;01mNone\u001b[39;00m:\n\u001b[1;32m-> 1918\u001b[0m     _check_call(\u001b[43m_LIB\u001b[49m\u001b[38;5;241;43m.\u001b[39;49m\u001b[43mXGBoosterUpdateOneIter\u001b[49m\u001b[43m(\u001b[49m\u001b[38;5;28;43mself\u001b[39;49m\u001b[38;5;241;43m.\u001b[39;49m\u001b[43mhandle\u001b[49m\u001b[43m,\u001b[49m\n\u001b[0;32m   1919\u001b[0m \u001b[43m                                            \u001b[49m\u001b[43mctypes\u001b[49m\u001b[38;5;241;43m.\u001b[39;49m\u001b[43mc_int\u001b[49m\u001b[43m(\u001b[49m\u001b[43miteration\u001b[49m\u001b[43m)\u001b[49m\u001b[43m,\u001b[49m\n\u001b[0;32m   1920\u001b[0m \u001b[43m                                            \u001b[49m\u001b[43mdtrain\u001b[49m\u001b[38;5;241;43m.\u001b[39;49m\u001b[43mhandle\u001b[49m\u001b[43m)\u001b[49m)\n\u001b[0;32m   1921\u001b[0m \u001b[38;5;28;01melse\u001b[39;00m:\n\u001b[0;32m   1922\u001b[0m     pred \u001b[38;5;241m=\u001b[39m \u001b[38;5;28mself\u001b[39m\u001b[38;5;241m.\u001b[39mpredict(dtrain, output_margin\u001b[38;5;241m=\u001b[39m\u001b[38;5;28;01mTrue\u001b[39;00m, training\u001b[38;5;241m=\u001b[39m\u001b[38;5;28;01mTrue\u001b[39;00m)\n",
      "\u001b[1;31mKeyboardInterrupt\u001b[0m: "
     ]
    }
   ],
   "source": [
    "study.optimize(objective, n_trials=1000)\n"
   ]
  },
  {
   "cell_type": "code",
   "execution_count": null,
   "id": "f878f1f3",
   "metadata": {},
   "outputs": [],
   "source": [
    "print('Number of finished trials: {}'.format(len(study.trials)))\n",
    "print('Best trial:')\n",
    "trial = study.best_trial\n",
    "\n",
    "print('  Value: {}'.format(trial.value))\n",
    "print('  Params: ')\n",
    "\n",
    "for key, value in trial.params.items():\n",
    "    print('    {}: {}'.format(key, value))\n"
   ]
  },
  {
   "cell_type": "code",
   "execution_count": null,
   "id": "b14e7eda",
   "metadata": {},
   "outputs": [],
   "source": [
    "params = trial.params\n",
    "model1 = xgb.XGBRegressor(**params)"
   ]
  },
  {
   "cell_type": "code",
   "execution_count": null,
   "id": "78a8abb9",
   "metadata": {},
   "outputs": [],
   "source": [
    "model1.fit(X_train, y_train)\n",
    "mean_absolute_percentage_error(np.exp(y_test), np.exp(model1.predict(X_test)))"
   ]
  },
  {
   "cell_type": "code",
   "execution_count": null,
   "id": "c2a3c53e",
   "metadata": {},
   "outputs": [],
   "source": [
    "X_train, X_test, y_train, y_test = train_test_split(df1, df['Lsat/lu'], test_size=0.2, random_state=42)\n"
   ]
  },
  {
   "cell_type": "code",
   "execution_count": null,
   "id": "dae407b2",
   "metadata": {},
   "outputs": [],
   "source": [
    "study = optuna.create_study(direction='minimize')"
   ]
  },
  {
   "cell_type": "code",
   "execution_count": null,
   "id": "c6bbc556",
   "metadata": {},
   "outputs": [],
   "source": [
    "study.optimize(objective, n_trials=1000)"
   ]
  },
  {
   "cell_type": "code",
   "execution_count": null,
   "id": "d8f8ed8e",
   "metadata": {},
   "outputs": [],
   "source": [
    "print('Number of finished trials: {}'.format(len(study.trials)))\n",
    "print('Best trial:')\n",
    "trial = study.best_trial\n",
    "\n",
    "print('  Value: {}'.format(trial.value))\n",
    "print('  Params: ')\n",
    "\n",
    "for key, value in trial.params.items():\n",
    "    print('    {}: {}'.format(key, value))"
   ]
  },
  {
   "cell_type": "code",
   "execution_count": null,
   "id": "64871ba6",
   "metadata": {},
   "outputs": [],
   "source": [
    "params = trial.params\n",
    "model2 = xgb.XGBRegressor(**params)"
   ]
  },
  {
   "cell_type": "code",
   "execution_count": null,
   "id": "833ceb33",
   "metadata": {},
   "outputs": [],
   "source": [
    "model2.fit(X_train, y_train)\n",
    "mean_absolute_percentage_error(y_test, model2.predict(X_test))"
   ]
  },
  {
   "cell_type": "code",
   "execution_count": null,
   "id": "5740ad3e",
   "metadata": {},
   "outputs": [],
   "source": [
    "X_train, X_test, y_train, y_test = train_test_split(df1, df['loptim/lres'], test_size=0.2, random_state=42)"
   ]
  },
  {
   "cell_type": "code",
   "execution_count": null,
   "id": "6863b936",
   "metadata": {},
   "outputs": [],
   "source": [
    "study = optuna.create_study(direction='minimize')"
   ]
  },
  {
   "cell_type": "code",
   "execution_count": null,
   "id": "ad48133b",
   "metadata": {},
   "outputs": [],
   "source": [
    "study.optimize(objective, n_trials=1000)"
   ]
  },
  {
   "cell_type": "code",
   "execution_count": null,
   "id": "f3efb1ee",
   "metadata": {},
   "outputs": [],
   "source": [
    "print('Number of finished trials: {}'.format(len(study.trials)))\n",
    "print('Best trial:')\n",
    "trial = study.best_trial\n",
    "\n",
    "print('  Value: {}'.format(trial.value))\n",
    "print('  Params: ')\n",
    "\n",
    "for key, value in trial.params.items():\n",
    "    print('    {}: {}'.format(key, value))"
   ]
  },
  {
   "cell_type": "code",
   "execution_count": null,
   "id": "738b6f7c",
   "metadata": {},
   "outputs": [],
   "source": [
    "params = trial.params\n",
    "model3 = xgb.XGBRegressor(**params)"
   ]
  },
  {
   "cell_type": "code",
   "execution_count": null,
   "id": "9cfd2b32",
   "metadata": {},
   "outputs": [],
   "source": [
    "model3.fit(X_train, y_train)\n",
    "mean_absolute_percentage_error(y_test, model3.predict(X_test))"
   ]
  },
  {
   "cell_type": "code",
   "execution_count": null,
   "id": "5794dbb8",
   "metadata": {},
   "outputs": [],
   "source": [
    "X = pd.DataFrame({'k':[2.13], 'lu':[2.8], 'I':[53], 'gamma':[300], 'sgamma':[0.0002], \n",
    "                  'r':[0.00012], 'log0':[2000]})\n",
    "\n",
    "X['log0'] = np.log(X['log0']/X['I']/X['gamma']/511000)\n",
    "\n",
    "\n",
    "print('P_sat=', (np.exp(model1.predict(X))*X['gamma']*511000*X['I'])[0])\n",
    "print('L_sat=', (model2.predict(X)*X['lu'])[0])\n",
    "print('l_optim=', ((model3.predict(X)+1)*X['lu']/100/2/X['gamma']/X['gamma']*(1+X['k']*X['k']/2))[0])\n",
    "print('l_res=', (X['lu']/100/2/X['gamma']/X['gamma']*(1+X['k']*X['k']/2))[0])"
   ]
  },
  {
   "cell_type": "code",
   "execution_count": null,
   "id": "93c9a2ff",
   "metadata": {},
   "outputs": [],
   "source": []
  }
 ],
 "metadata": {
  "kernelspec": {
   "display_name": "Python 3 (ipykernel)",
   "language": "python",
   "name": "python3"
  },
  "language_info": {
   "codemirror_mode": {
    "name": "ipython",
    "version": 3
   },
   "file_extension": ".py",
   "mimetype": "text/x-python",
   "name": "python",
   "nbconvert_exporter": "python",
   "pygments_lexer": "ipython3",
   "version": "3.9.7"
  }
 },
 "nbformat": 4,
 "nbformat_minor": 5
}
