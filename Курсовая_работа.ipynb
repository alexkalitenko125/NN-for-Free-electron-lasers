{
 "cells": [
  {
   "cell_type": "code",
   "execution_count": 1,
   "id": "0434e645",
   "metadata": {},
   "outputs": [],
   "source": [
    "import pandas as pd\n",
    "from sklearn.ensemble import RandomForestRegressor\n",
    "import numpy as np\n",
    "import seaborn as sns\n",
    "import matplotlib.pyplot as plt"
   ]
  },
  {
   "cell_type": "code",
   "execution_count": 2,
   "id": "44846a8f",
   "metadata": {},
   "outputs": [],
   "source": [
    "np.random.seed(42)\n"
   ]
  },
  {
   "cell_type": "code",
   "execution_count": 3,
   "id": "7d82cd1d",
   "metadata": {},
   "outputs": [],
   "source": [
    "df = pd.read_csv('Данные.csv', sep=';')"
   ]
  },
  {
   "cell_type": "code",
   "execution_count": 4,
   "id": "776d491e",
   "metadata": {},
   "outputs": [
    {
     "data": {
      "text/html": [
       "<div>\n",
       "<style scoped>\n",
       "    .dataframe tbody tr th:only-of-type {\n",
       "        vertical-align: middle;\n",
       "    }\n",
       "\n",
       "    .dataframe tbody tr th {\n",
       "        vertical-align: top;\n",
       "    }\n",
       "\n",
       "    .dataframe thead th {\n",
       "        text-align: right;\n",
       "    }\n",
       "</style>\n",
       "<table border=\"1\" class=\"dataframe\">\n",
       "  <thead>\n",
       "    <tr style=\"text-align: right;\">\n",
       "      <th></th>\n",
       "      <th>k</th>\n",
       "      <th>lu</th>\n",
       "      <th>P0</th>\n",
       "      <th>I</th>\n",
       "      <th>gamma</th>\n",
       "      <th>sgamma</th>\n",
       "      <th>r</th>\n",
       "      <th>Psat</th>\n",
       "      <th>Lsat</th>\n",
       "      <th>loptim</th>\n",
       "      <th>lres</th>\n",
       "      <th>loptim/lres</th>\n",
       "      <th>Psat/Pall</th>\n",
       "      <th>Lsat/lu</th>\n",
       "      <th>f</th>\n",
       "      <th>rho</th>\n",
       "      <th>P0/Pall</th>\n",
       "    </tr>\n",
       "  </thead>\n",
       "  <tbody>\n",
       "    <tr>\n",
       "      <th>0</th>\n",
       "      <td>3.89</td>\n",
       "      <td>3.69</td>\n",
       "      <td>12800000.0</td>\n",
       "      <td>80.0</td>\n",
       "      <td>2650.0</td>\n",
       "      <td>0.0</td>\n",
       "      <td>0.0001</td>\n",
       "      <td>1.430000e+08</td>\n",
       "      <td>18.5</td>\n",
       "      <td>2.261250e-08</td>\n",
       "      <td>2.257770e-08</td>\n",
       "      <td>0.001542</td>\n",
       "      <td>0.00132</td>\n",
       "      <td>5.01</td>\n",
       "      <td>0.736</td>\n",
       "      <td>0.000965</td>\n",
       "      <td>1.180000e-04</td>\n",
       "    </tr>\n",
       "    <tr>\n",
       "      <th>1</th>\n",
       "      <td>3.89</td>\n",
       "      <td>3.69</td>\n",
       "      <td>12800.0</td>\n",
       "      <td>80.0</td>\n",
       "      <td>1000.0</td>\n",
       "      <td>0.0</td>\n",
       "      <td>0.0001</td>\n",
       "      <td>9.800000e+07</td>\n",
       "      <td>16.7</td>\n",
       "      <td>1.585280e-07</td>\n",
       "      <td>1.580440e-07</td>\n",
       "      <td>0.003065</td>\n",
       "      <td>0.00240</td>\n",
       "      <td>4.52</td>\n",
       "      <td>0.736</td>\n",
       "      <td>0.002550</td>\n",
       "      <td>3.130000e-07</td>\n",
       "    </tr>\n",
       "    <tr>\n",
       "      <th>2</th>\n",
       "      <td>3.98</td>\n",
       "      <td>3.69</td>\n",
       "      <td>150000.0</td>\n",
       "      <td>500.0</td>\n",
       "      <td>2830.0</td>\n",
       "      <td>0.0</td>\n",
       "      <td>0.0001</td>\n",
       "      <td>1.130000e+09</td>\n",
       "      <td>20.3</td>\n",
       "      <td>2.061380e-08</td>\n",
       "      <td>2.057220e-08</td>\n",
       "      <td>0.002024</td>\n",
       "      <td>0.00156</td>\n",
       "      <td>5.49</td>\n",
       "      <td>0.735</td>\n",
       "      <td>0.001690</td>\n",
       "      <td>2.070000e-07</td>\n",
       "    </tr>\n",
       "    <tr>\n",
       "      <th>3</th>\n",
       "      <td>3.98</td>\n",
       "      <td>3.69</td>\n",
       "      <td>1500000.0</td>\n",
       "      <td>500.0</td>\n",
       "      <td>3160.0</td>\n",
       "      <td>0.0</td>\n",
       "      <td>0.0001</td>\n",
       "      <td>1.100000e+09</td>\n",
       "      <td>18.3</td>\n",
       "      <td>1.648760e-08</td>\n",
       "      <td>1.645770e-08</td>\n",
       "      <td>0.001814</td>\n",
       "      <td>0.00136</td>\n",
       "      <td>4.96</td>\n",
       "      <td>0.735</td>\n",
       "      <td>0.001510</td>\n",
       "      <td>1.850000e-06</td>\n",
       "    </tr>\n",
       "    <tr>\n",
       "      <th>4</th>\n",
       "      <td>3.98</td>\n",
       "      <td>3.69</td>\n",
       "      <td>150000.0</td>\n",
       "      <td>500.0</td>\n",
       "      <td>2650.0</td>\n",
       "      <td>0.0</td>\n",
       "      <td>0.0001</td>\n",
       "      <td>1.180000e+09</td>\n",
       "      <td>19.4</td>\n",
       "      <td>2.356200e-08</td>\n",
       "      <td>2.351110e-08</td>\n",
       "      <td>0.002164</td>\n",
       "      <td>0.00175</td>\n",
       "      <td>5.25</td>\n",
       "      <td>0.735</td>\n",
       "      <td>0.001800</td>\n",
       "      <td>2.210000e-07</td>\n",
       "    </tr>\n",
       "  </tbody>\n",
       "</table>\n",
       "</div>"
      ],
      "text/plain": [
       "      k    lu          P0      I   gamma  sgamma       r          Psat  Lsat  \\\n",
       "0  3.89  3.69  12800000.0   80.0  2650.0     0.0  0.0001  1.430000e+08  18.5   \n",
       "1  3.89  3.69     12800.0   80.0  1000.0     0.0  0.0001  9.800000e+07  16.7   \n",
       "2  3.98  3.69    150000.0  500.0  2830.0     0.0  0.0001  1.130000e+09  20.3   \n",
       "3  3.98  3.69   1500000.0  500.0  3160.0     0.0  0.0001  1.100000e+09  18.3   \n",
       "4  3.98  3.69    150000.0  500.0  2650.0     0.0  0.0001  1.180000e+09  19.4   \n",
       "\n",
       "         loptim          lres  loptim/lres  Psat/Pall  Lsat/lu      f  \\\n",
       "0  2.261250e-08  2.257770e-08     0.001542    0.00132     5.01  0.736   \n",
       "1  1.585280e-07  1.580440e-07     0.003065    0.00240     4.52  0.736   \n",
       "2  2.061380e-08  2.057220e-08     0.002024    0.00156     5.49  0.735   \n",
       "3  1.648760e-08  1.645770e-08     0.001814    0.00136     4.96  0.735   \n",
       "4  2.356200e-08  2.351110e-08     0.002164    0.00175     5.25  0.735   \n",
       "\n",
       "        rho       P0/Pall  \n",
       "0  0.000965  1.180000e-04  \n",
       "1  0.002550  3.130000e-07  \n",
       "2  0.001690  2.070000e-07  \n",
       "3  0.001510  1.850000e-06  \n",
       "4  0.001800  2.210000e-07  "
      ]
     },
     "execution_count": 4,
     "metadata": {},
     "output_type": "execute_result"
    }
   ],
   "source": [
    "df.head()"
   ]
  },
  {
   "cell_type": "code",
   "execution_count": 5,
   "id": "ddb4c50f",
   "metadata": {},
   "outputs": [],
   "source": [
    "df = df.dropna()"
   ]
  },
  {
   "cell_type": "markdown",
   "id": "2f5725d9",
   "metadata": {},
   "source": [
    "Look at the power distribution. "
   ]
  },
  {
   "cell_type": "code",
   "execution_count": 6,
   "id": "b4778146",
   "metadata": {},
   "outputs": [
    {
     "data": {
      "text/plain": [
       "Text(0.5, 1.0, 'Power hist')"
      ]
     },
     "execution_count": 6,
     "metadata": {},
     "output_type": "execute_result"
    },
    {
     "data": {
      "image/png": "[encoded data removed]",
      "text/plain": [
       "<Figure size 432x288 with 1 Axes>"
      ]
     },
     "metadata": {
      "needs_background": "light"
     },
     "output_type": "display_data"
    }
   ],
   "source": [
    "sns.histplot(df, x='Psat/Pall')\n",
    "plt.title(\"Power hist\")"
   ]
  },
  {
   "cell_type": "markdown",
   "id": "d54939a0",
   "metadata": {},
   "source": [
    "Delete all the blowout(rho>0.012) "
   ]
  },
  {
   "cell_type": "code",
   "execution_count": 7,
   "id": "059124db",
   "metadata": {},
   "outputs": [],
   "source": [
    "df = df[df['Psat/Pall']<0.012]"
   ]
  },
  {
   "cell_type": "markdown",
   "id": "7d4793dd",
   "metadata": {},
   "source": [
    "Create a new feature log(Psat/Pall)"
   ]
  },
  {
   "cell_type": "code",
   "execution_count": 8,
   "id": "f346dff6",
   "metadata": {},
   "outputs": [],
   "source": [
    "df['log'] = np.log(df[['Psat/Pall']])"
   ]
  },
  {
   "cell_type": "code",
   "execution_count": 9,
   "id": "8609874f",
   "metadata": {},
   "outputs": [],
   "source": [
    "df['log0'] = np.log(df['P0']/df['I']/df['gamma']/511000)"
   ]
  },
  {
   "cell_type": "code",
   "execution_count": 10,
   "id": "577667aa",
   "metadata": {},
   "outputs": [
    {
     "data": {
      "text/plain": [
       "Text(0.5, 1.0, 'Power hist')"
      ]
     },
     "execution_count": 10,
     "metadata": {},
     "output_type": "execute_result"
    },
    {
     "data": {
      "image/png": "[encoded data removed]",
      "text/plain": [
       "<Figure size 432x288 with 1 Axes>"
      ]
     },
     "metadata": {
      "needs_background": "light"
     },
     "output_type": "display_data"
    }
   ],
   "source": [
    "sns.histplot(df, x='log0')\n",
    "plt.title(\"Power hist\")"
   ]
  },
  {
   "cell_type": "code",
   "execution_count": 11,
   "id": "89986f0c",
   "metadata": {},
   "outputs": [
    {
     "data": {
      "text/plain": [
       "Text(0.5, 1.0, 'Power hist')"
      ]
     },
     "execution_count": 11,
     "metadata": {},
     "output_type": "execute_result"
    },
    {
     "data": {
      "image/png": "[encoded data removed]",
      "text/plain": [
       "<Figure size 432x288 with 1 Axes>"
      ]
     },
     "metadata": {
      "needs_background": "light"
     },
     "output_type": "display_data"
    }
   ],
   "source": [
    "sns.histplot(df, x='log')\n",
    "plt.title(\"Power hist\")"
   ]
  },
  {
   "cell_type": "code",
   "execution_count": 12,
   "id": "076ed995",
   "metadata": {},
   "outputs": [
    {
     "data": {
      "text/plain": [
       "Text(0.5, 1.0, 'L_sat hist')"
      ]
     },
     "execution_count": 12,
     "metadata": {},
     "output_type": "execute_result"
    },
    {
     "data": {
      "image/png": "[encoded data removed]",
      "text/plain": [
       "<Figure size 432x288 with 1 Axes>"
      ]
     },
     "metadata": {
      "needs_background": "light"
     },
     "output_type": "display_data"
    }
   ],
   "source": [
    "sns.histplot(df, x='Lsat')\n",
    "plt.title(\"L_sat hist\")"
   ]
  },
  {
   "cell_type": "code",
   "execution_count": 13,
   "id": "ae2a57a8",
   "metadata": {},
   "outputs": [
    {
     "data": {
      "text/plain": [
       "Text(0.5, 1.0, 'L_sat hist')"
      ]
     },
     "execution_count": 13,
     "metadata": {},
     "output_type": "execute_result"
    },
    {
     "data": {
      "image/png": "[encoded data removed]",
      "text/plain": [
       "<Figure size 432x288 with 1 Axes>"
      ]
     },
     "metadata": {
      "needs_background": "light"
     },
     "output_type": "display_data"
    }
   ],
   "source": [
    "sns.histplot(df, x='Lsat/lu')\n",
    "plt.title(\"L_sat hist\")"
   ]
  },
  {
   "cell_type": "code",
   "execution_count": 14,
   "id": "e13d32a5",
   "metadata": {},
   "outputs": [
    {
     "data": {
      "text/plain": [
       "Text(0.5, 1.0, 'lambda')"
      ]
     },
     "execution_count": 14,
     "metadata": {},
     "output_type": "execute_result"
    },
    {
     "data": {
      "image/png": "[encoded data removed]",
      "text/plain": [
       "<Figure size 432x288 with 1 Axes>"
      ]
     },
     "metadata": {
      "needs_background": "light"
     },
     "output_type": "display_data"
    }
   ],
   "source": [
    "sns.histplot(df, x='loptim/lres')\n",
    "plt.title(\"lambda\")"
   ]
  },
  {
   "cell_type": "code",
   "execution_count": 15,
   "id": "fb1fda48",
   "metadata": {},
   "outputs": [
    {
     "data": {
      "text/plain": [
       "Text(0.5, 1.0, 'rho')"
      ]
     },
     "execution_count": 15,
     "metadata": {},
     "output_type": "execute_result"
    },
    {
     "data": {
      "image/png": "[encoded data removed]",
      "text/plain": [
       "<Figure size 432x288 with 1 Axes>"
      ]
     },
     "metadata": {
      "needs_background": "light"
     },
     "output_type": "display_data"
    }
   ],
   "source": [
    "sns.histplot(df, x='rho')\n",
    "plt.title(\"rho\")"
   ]
  },
  {
   "cell_type": "code",
   "execution_count": 16,
   "id": "64f0a843",
   "metadata": {},
   "outputs": [
    {
     "data": {
      "text/plain": [
       "<AxesSubplot:xlabel='optim', ylabel='Count'>"
      ]
     },
     "execution_count": 16,
     "metadata": {},
     "output_type": "execute_result"
    },
    {
     "data": {
      "image/png": "[encoded data removed]",
      "text/plain": [
       "<Figure size 432x288 with 1 Axes>"
      ]
     },
     "metadata": {
      "needs_background": "light"
     },
     "output_type": "display_data"
    }
   ],
   "source": [
    "df['optim'] = df['loptim/lres']/df['rho']\n",
    "sns.histplot(df, x='optim')\n",
    "\n"
   ]
  },
  {
   "cell_type": "code",
   "execution_count": 17,
   "id": "a9debc8f",
   "metadata": {},
   "outputs": [],
   "source": [
    "df = df[df['optim']<2]"
   ]
  },
  {
   "cell_type": "code",
   "execution_count": 18,
   "id": "de7b6675",
   "metadata": {},
   "outputs": [],
   "source": [
    "df1 = df.drop(columns=['P0', 'optim', 'P0/Pall', 'Psat', 'Lsat', 'loptim','lres', 'loptim/lres', 'Psat/Pall', 'Lsat/lu', 'f', 'rho', 'log'])"
   ]
  },
  {
   "cell_type": "code",
   "execution_count": 19,
   "id": "eefd82ea",
   "metadata": {},
   "outputs": [
    {
     "data": {
      "text/html": [
       "<div>\n",
       "<style scoped>\n",
       "    .dataframe tbody tr th:only-of-type {\n",
       "        vertical-align: middle;\n",
       "    }\n",
       "\n",
       "    .dataframe tbody tr th {\n",
       "        vertical-align: top;\n",
       "    }\n",
       "\n",
       "    .dataframe thead th {\n",
       "        text-align: right;\n",
       "    }\n",
       "</style>\n",
       "<table border=\"1\" class=\"dataframe\">\n",
       "  <thead>\n",
       "    <tr style=\"text-align: right;\">\n",
       "      <th></th>\n",
       "      <th>k</th>\n",
       "      <th>lu</th>\n",
       "      <th>I</th>\n",
       "      <th>gamma</th>\n",
       "      <th>sgamma</th>\n",
       "      <th>r</th>\n",
       "      <th>log0</th>\n",
       "    </tr>\n",
       "  </thead>\n",
       "  <tbody>\n",
       "    <tr>\n",
       "      <th>1216</th>\n",
       "      <td>1.81</td>\n",
       "      <td>3.01</td>\n",
       "      <td>8000.0</td>\n",
       "      <td>316.0</td>\n",
       "      <td>0.0005</td>\n",
       "      <td>0.0007</td>\n",
       "      <td>-11.930311</td>\n",
       "    </tr>\n",
       "    <tr>\n",
       "      <th>1217</th>\n",
       "      <td>1.81</td>\n",
       "      <td>3.01</td>\n",
       "      <td>8000.0</td>\n",
       "      <td>1000.0</td>\n",
       "      <td>0.0005</td>\n",
       "      <td>0.0007</td>\n",
       "      <td>-10.779739</td>\n",
       "    </tr>\n",
       "    <tr>\n",
       "      <th>1218</th>\n",
       "      <td>1.81</td>\n",
       "      <td>3.01</td>\n",
       "      <td>8000.0</td>\n",
       "      <td>245.0</td>\n",
       "      <td>0.0005</td>\n",
       "      <td>0.0007</td>\n",
       "      <td>-11.675827</td>\n",
       "    </tr>\n",
       "    <tr>\n",
       "      <th>1219</th>\n",
       "      <td>3.73</td>\n",
       "      <td>3.80</td>\n",
       "      <td>70.0</td>\n",
       "      <td>173.0</td>\n",
       "      <td>0.0005</td>\n",
       "      <td>0.0007</td>\n",
       "      <td>-12.270861</td>\n",
       "    </tr>\n",
       "    <tr>\n",
       "      <th>1220</th>\n",
       "      <td>1.68</td>\n",
       "      <td>3.80</td>\n",
       "      <td>600.0</td>\n",
       "      <td>707.0</td>\n",
       "      <td>0.0005</td>\n",
       "      <td>0.0007</td>\n",
       "      <td>-13.493886</td>\n",
       "    </tr>\n",
       "  </tbody>\n",
       "</table>\n",
       "</div>"
      ],
      "text/plain": [
       "         k    lu       I   gamma  sgamma       r       log0\n",
       "1216  1.81  3.01  8000.0   316.0  0.0005  0.0007 -11.930311\n",
       "1217  1.81  3.01  8000.0  1000.0  0.0005  0.0007 -10.779739\n",
       "1218  1.81  3.01  8000.0   245.0  0.0005  0.0007 -11.675827\n",
       "1219  3.73  3.80    70.0   173.0  0.0005  0.0007 -12.270861\n",
       "1220  1.68  3.80   600.0   707.0  0.0005  0.0007 -13.493886"
      ]
     },
     "execution_count": 19,
     "metadata": {},
     "output_type": "execute_result"
    }
   ],
   "source": [
    "df1.tail()"
   ]
  },
  {
   "cell_type": "code",
   "execution_count": 20,
   "id": "46407fb6",
   "metadata": {},
   "outputs": [],
   "source": [
    "from sklearn.model_selection import train_test_split\n",
    "\n",
    "X_train, X_test, y_train, y_test = train_test_split(df1, df['log'], test_size=0.2, random_state=42)"
   ]
  },
  {
   "cell_type": "code",
   "execution_count": 21,
   "id": "06140b34",
   "metadata": {},
   "outputs": [
    {
     "data": {
      "text/plain": [
       "0.22752824044008943"
      ]
     },
     "execution_count": 21,
     "metadata": {},
     "output_type": "execute_result"
    }
   ],
   "source": [
    "from sklearn.metrics import mean_absolute_percentage_error\n",
    "\n",
    "clf1 = RandomForestRegressor(max_depth=20, random_state=0)\n",
    "clf1.fit(X_train, y_train)\n",
    "mean_absolute_percentage_error(np.exp(y_test), np.exp(clf1.predict(X_test)))"
   ]
  },
  {
   "cell_type": "markdown",
   "id": "87ee52ed",
   "metadata": {},
   "source": [
    "Try to scale the data. It doesn't make sense. "
   ]
  },
  {
   "cell_type": "code",
   "execution_count": 22,
   "id": "5c0a88f6",
   "metadata": {},
   "outputs": [
    {
     "data": {
      "text/plain": [
       "0.2276331308552771"
      ]
     },
     "execution_count": 22,
     "metadata": {},
     "output_type": "execute_result"
    }
   ],
   "source": [
    "from sklearn.preprocessing import MinMaxScaler\n",
    "\n",
    "scaler = MinMaxScaler()\n",
    "scaler.fit(X_train)\n",
    "X_train = scaler.transform(X_train)\n",
    "X_test = scaler.transform(X_test) \n",
    "\n",
    "clf = RandomForestRegressor(max_depth=20, random_state=0)\n",
    "clf.fit(X_train, y_train)\n",
    "mean_absolute_percentage_error(np.exp(y_test), np.exp(clf.predict(X_test)))"
   ]
  },
  {
   "cell_type": "markdown",
   "id": "fdc9bf2d",
   "metadata": {},
   "source": [
    "Train the classificator for the saturation length."
   ]
  },
  {
   "cell_type": "code",
   "execution_count": 23,
   "id": "7665e889",
   "metadata": {
    "scrolled": true
   },
   "outputs": [
    {
     "data": {
      "text/plain": [
       "0.1540227933970587"
      ]
     },
     "execution_count": 23,
     "metadata": {},
     "output_type": "execute_result"
    }
   ],
   "source": [
    "X_train, X_test, y_train, y_test = train_test_split(df1, df['Lsat/lu'], test_size=0.2, random_state=42)\n",
    "\n",
    "\n",
    "clf2 = RandomForestRegressor(max_depth=20, random_state=0)\n",
    "clf2.fit(X_train, y_train)\n",
    "mean_absolute_percentage_error(y_test, clf2.predict(X_test))"
   ]
  },
  {
   "cell_type": "markdown",
   "id": "bfe9bbe7",
   "metadata": {},
   "source": [
    "The classificator for the optimum wavelength."
   ]
  },
  {
   "cell_type": "code",
   "execution_count": 24,
   "id": "2c558a09",
   "metadata": {},
   "outputs": [
    {
     "data": {
      "text/plain": [
       "0.30372942402796366"
      ]
     },
     "execution_count": 24,
     "metadata": {},
     "output_type": "execute_result"
    }
   ],
   "source": [
    "X_train, X_test, y_train, y_test = train_test_split(df1, df['optim'], test_size=0.2, random_state=42)\n",
    "\n",
    "\n",
    "\n",
    "clf3 = RandomForestRegressor(max_depth=20, random_state=0)\n",
    "clf3.fit(X_train, y_train)\n",
    "mean_absolute_percentage_error(y_test, clf3.predict(X_test))"
   ]
  },
  {
   "cell_type": "code",
   "execution_count": 25,
   "id": "2494db6b",
   "metadata": {
    "scrolled": true
   },
   "outputs": [
    {
     "name": "stdout",
     "output_type": "stream",
     "text": [
      "P_sat= 17529922.41497914\n",
      "L_sat= 14.900759999999991\n",
      "l_optim= 5.10706742902477e-07\n",
      "l_res= 5.084255555555554e-07\n"
     ]
    }
   ],
   "source": [
    "from scipy.special import jv\n",
    "\n",
    "X = pd.DataFrame({'k':[2.13], 'lu':[2.8], 'I':[53], 'gamma':[300], 'sgamma':[0.0002], \n",
    "                  'r':[0.00012], 'log0':[2000]})\n",
    "\n",
    "ksi = X['k']**2/(1+X['k']**2/2)/4\n",
    "f = jv(0,ksi)-jv(1,ksi)\n",
    "\n",
    "rho = 1/2/(X['gamma'])*(X['I']/X['r']**2/np.pi/4/np.pi/17000*(X['lu']/100*X['k']*f)**2)**(1/3)\n",
    "X['log0'] = np.log(X['log0']/X['I']/X['gamma']/511000)\n",
    "\n",
    "\n",
    "print('P_sat=', (np.exp(clf1.predict(X))*X['gamma']*511000*X['I'])[0])\n",
    "print('L_sat=', (clf2.predict(X)*X['lu'])[0])\n",
    "print('l_optim=', ((clf3.predict(X)*rho+1)*X['lu']/100/2/X['gamma']/X['gamma']*(1+X['k']*X['k']/2))[0])\n",
    "print('l_res=', (X['lu']/100/2/X['gamma']/X['gamma']*(1+X['k']*X['k']/2))[0])"
   ]
  },
  {
   "cell_type": "code",
   "execution_count": 26,
   "id": "46b8f196",
   "metadata": {},
   "outputs": [
    {
     "data": {
      "text/plain": [
       "238     0.000023\n",
       "593     0.000073\n",
       "493     0.000229\n",
       "286     0.000311\n",
       "1182    0.000512\n",
       "          ...   \n",
       "548     0.831894\n",
       "524     0.900980\n",
       "440     1.024809\n",
       "571     1.138127\n",
       "1129    1.209410\n",
       "Name: Psat/Pall, Length: 1197, dtype: float64"
      ]
     },
     "execution_count": 26,
     "metadata": {},
     "output_type": "execute_result"
    }
   ],
   "source": [
    "y_pred = clf1.predict(df1)\n",
    "err = abs(2*(np.exp(y_pred)-df['Psat/Pall'])/(np.exp(y_pred)+df['Psat/Pall']))\n",
    "err.sort_values()"
   ]
  },
  {
   "cell_type": "code",
   "execution_count": 27,
   "id": "74aef67b",
   "metadata": {},
   "outputs": [
    {
     "data": {
      "text/plain": [
       "698     0.003716\n",
       "950     0.005791\n",
       "948     0.006760\n",
       "771     0.008133\n",
       "426     0.008917\n",
       "          ...   \n",
       "431     1.293019\n",
       "358     1.310833\n",
       "436     1.386725\n",
       "439     1.435021\n",
       "1129    1.480366\n",
       "Name: Lsat, Length: 1197, dtype: float64"
      ]
     },
     "execution_count": 27,
     "metadata": {},
     "output_type": "execute_result"
    }
   ],
   "source": [
    "y_pred = clf2.predict(df1)\n",
    "err = abs(2*(y_pred-df['Lsat'])/(y_pred+df['Lsat']))\n",
    "err.sort_values()"
   ]
  },
  {
   "cell_type": "code",
   "execution_count": 28,
   "id": "0327f982",
   "metadata": {
    "scrolled": true
   },
   "outputs": [
    {
     "data": {
      "text/plain": [
       "154    0.000032\n",
       "839    0.000069\n",
       "153    0.000111\n",
       "112    0.000138\n",
       "883    0.000141\n",
       "         ...   \n",
       "700    0.841993\n",
       "681    1.048434\n",
       "705    1.637918\n",
       "686    1.746801\n",
       "790    1.788841\n",
       "Name: optim, Length: 1197, dtype: float64"
      ]
     },
     "execution_count": 28,
     "metadata": {},
     "output_type": "execute_result"
    }
   ],
   "source": [
    "y_pred = clf3.predict(df1)\n",
    "err = abs(2*(y_pred-df['optim'])/(y_pred+df['optim']))\n",
    "err.sort_values()"
   ]
  },
  {
   "cell_type": "markdown",
   "id": "5a4f4ca9",
   "metadata": {},
   "source": [
    "Do the same with gradient boosting. "
   ]
  },
  {
   "cell_type": "code",
   "execution_count": 29,
   "id": "a74f7750",
   "metadata": {},
   "outputs": [],
   "source": [
    "import optuna\n",
    "import xgboost as xgb\n",
    "from sklearn.metrics import mean_squared_error\n",
    "from sklearn.model_selection import KFold\n",
    "from IPython.display import clear_output"
   ]
  },
  {
   "cell_type": "code",
   "execution_count": 30,
   "id": "92450034",
   "metadata": {},
   "outputs": [],
   "source": [
    "def objective(trial, X_train, y_train, X_test, y_test):\n",
    "    \"\"\"Define the objective function\"\"\"\n",
    "\n",
    "    params = {\n",
    "        'max_depth': trial.suggest_int('max_depth', 1, 30),\n",
    "        'learning_rate': trial.suggest_loguniform('learning_rate', 0.1, 1.0),\n",
    "        'n_estimators': trial.suggest_int('n_estimators', 50, 500),\n",
    "        'min_child_weight': trial.suggest_int('min_child_weight', 1, 10),\n",
    "        'gamma': trial.suggest_loguniform('gamma', 1e-8, 1.0),\n",
    "        'subsample': trial.suggest_loguniform('subsample', 0.01, 1.0),\n",
    "        'colsample_bytree': trial.suggest_loguniform('colsample_bytree', 0.01, 1.0),\n",
    "        'reg_alpha': trial.suggest_loguniform('reg_alpha', 1e-8, 1.0),\n",
    "        'reg_lambda': trial.suggest_loguniform('reg_lambda', 1e-8, 1.0),\n",
    "        'eval_metric': 'rmse',\n",
    "        'use_label_encoder': False\n",
    "    }\n",
    "\n",
    "    # Fit the model\n",
    "    optuna_model = xgb.XGBRegressor(**params)\n",
    "    optuna_model.fit(X_train, y_train)\n",
    "\n",
    "    # Make predictions\n",
    "    y_pred = optuna_model.predict(X_test)\n",
    "\n",
    "    # Evaluate predictions\n",
    "    accuracy = mean_squared_error(y_test, y_pred)\n",
    "    return accuracy\n",
    "\n",
    "\n",
    "def objective_cv(trial):\n",
    "    fold = KFold(n_splits=3, shuffle=True, random_state=0)\n",
    "    scores = []\n",
    "    for i, (train_index, test_index) in enumerate(fold.split(X)):\n",
    "        scores.append(objective(trial, X.iloc[train_index], y.iloc[train_index],  \n",
    "                                X.iloc[test_index], y.iloc[test_index]))\n",
    "        \n",
    "    return np.mean(scores)\n",
    "    "
   ]
  },
  {
   "cell_type": "code",
   "execution_count": 31,
   "id": "c5a614fb",
   "metadata": {},
   "outputs": [],
   "source": [
    "X = df1\n",
    "y = df['log']\n"
   ]
  },
  {
   "cell_type": "code",
   "execution_count": 32,
   "id": "c13697f5",
   "metadata": {},
   "outputs": [
    {
     "name": "stderr",
     "output_type": "stream",
     "text": [
      "\u001b[32m[I 2023-03-10 20:34:36,543]\u001b[0m A new study created in memory with name: no-name-0f319c90-0607-49ff-b3c1-92dd8ba1b9fd\u001b[0m\n"
     ]
    }
   ],
   "source": [
    "study = optuna.create_study(direction='minimize')\n"
   ]
  },
  {
   "cell_type": "code",
   "execution_count": 33,
   "id": "580ceaf4",
   "metadata": {},
   "outputs": [],
   "source": [
    "study.optimize(objective_cv, n_trials=1000)\n",
    "clear_output()\n"
   ]
  },
  {
   "cell_type": "code",
   "execution_count": 34,
   "id": "f878f1f3",
   "metadata": {},
   "outputs": [
    {
     "name": "stdout",
     "output_type": "stream",
     "text": [
      "Number of finished trials: 1000\n",
      "Best trial:\n",
      "  Value: 0.05241160437217746\n",
      "  Params: \n",
      "    max_depth: 2\n",
      "    learning_rate: 0.1823893941082144\n",
      "    n_estimators: 459\n",
      "    min_child_weight: 2\n",
      "    gamma: 2.133217191768405e-06\n",
      "    subsample: 0.485836659654911\n",
      "    colsample_bytree: 0.83863702403042\n",
      "    reg_alpha: 2.6194270045172733e-06\n",
      "    reg_lambda: 0.008441433826614088\n"
     ]
    }
   ],
   "source": [
    "print('Number of finished trials: {}'.format(len(study.trials)))\n",
    "print('Best trial:')\n",
    "trial = study.best_trial\n",
    "\n",
    "print('  Value: {}'.format(trial.value))\n",
    "print('  Params: ')\n",
    "\n",
    "for key, value in trial.params.items():\n",
    "    print('    {}: {}'.format(key, value))\n"
   ]
  },
  {
   "cell_type": "code",
   "execution_count": 35,
   "id": "b14e7eda",
   "metadata": {},
   "outputs": [],
   "source": [
    "params = trial.params\n",
    "model1 = xgb.XGBRegressor(**params)"
   ]
  },
  {
   "cell_type": "code",
   "execution_count": 36,
   "id": "78a8abb9",
   "metadata": {},
   "outputs": [
    {
     "data": {
      "text/plain": [
       "0.1740274109393568"
      ]
     },
     "execution_count": 36,
     "metadata": {},
     "output_type": "execute_result"
    }
   ],
   "source": [
    "X_train, X_test, y_train, y_test = train_test_split(df1, df['log'], test_size=0.2, random_state=42)\n",
    "model1.fit(X_train,y_train)\n",
    "\n",
    "mean_absolute_percentage_error(np.exp(y_test), np.exp(model1.predict(X_test)))\n"
   ]
  },
  {
   "cell_type": "code",
   "execution_count": 37,
   "id": "72f848f0",
   "metadata": {},
   "outputs": [
    {
     "name": "stdout",
     "output_type": "stream",
     "text": [
      "0.16353326844300875\n"
     ]
    }
   ],
   "source": [
    "def scores(trial,X,y):\n",
    "    fold = KFold(n_splits=3, shuffle=True, random_state=0)\n",
    "    scores = []\n",
    "    for i, (train_index, test_index) in enumerate(fold.split(X)):\n",
    "        params = trial.params\n",
    "        model = xgb.XGBRegressor(**params)\n",
    "        model.fit(X.iloc[train_index],y.iloc[train_index])\n",
    "        scores.append(mean_absolute_percentage_error(np.exp(y.iloc[test_index]),\n",
    "                                                     np.exp(model.predict(X.iloc[test_index]))))\n",
    "\n",
    "        \n",
    "    return np.mean(scores)\n",
    "\n",
    "\n",
    "\n",
    "\n",
    "\n",
    "print(scores(trial,X,y))\n",
    "    "
   ]
  },
  {
   "cell_type": "code",
   "execution_count": 38,
   "id": "c2a3c53e",
   "metadata": {},
   "outputs": [],
   "source": [
    "X = df1\n",
    "y = df['Lsat/lu']"
   ]
  },
  {
   "cell_type": "code",
   "execution_count": 39,
   "id": "dae407b2",
   "metadata": {},
   "outputs": [
    {
     "name": "stderr",
     "output_type": "stream",
     "text": [
      "\u001b[32m[I 2023-03-10 20:41:30,106]\u001b[0m A new study created in memory with name: no-name-6fbdc6e2-7b20-4038-bf07-cfcb1edceffe\u001b[0m\n"
     ]
    }
   ],
   "source": [
    "study = optuna.create_study(direction='minimize')"
   ]
  },
  {
   "cell_type": "code",
   "execution_count": 40,
   "id": "c6bbc556",
   "metadata": {},
   "outputs": [],
   "source": [
    "study.optimize(objective_cv, n_trials=1000)\n",
    "clear_output()\n"
   ]
  },
  {
   "cell_type": "code",
   "execution_count": 41,
   "id": "d8f8ed8e",
   "metadata": {},
   "outputs": [
    {
     "name": "stdout",
     "output_type": "stream",
     "text": [
      "Number of finished trials: 1000\n",
      "Best trial:\n",
      "  Value: 0.44464941579551426\n",
      "  Params: \n",
      "    max_depth: 1\n",
      "    learning_rate: 0.9158945618626043\n",
      "    n_estimators: 465\n",
      "    min_child_weight: 1\n",
      "    gamma: 0.3217460754995685\n",
      "    subsample: 0.7871194273831564\n",
      "    colsample_bytree: 0.9359331066437758\n",
      "    reg_alpha: 4.007245289661369e-08\n",
      "    reg_lambda: 0.0004969670582478637\n"
     ]
    }
   ],
   "source": [
    "print('Number of finished trials: {}'.format(len(study.trials)))\n",
    "print('Best trial:')\n",
    "trial = study.best_trial\n",
    "\n",
    "print('  Value: {}'.format(trial.value))\n",
    "print('  Params: ')\n",
    "\n",
    "for key, value in trial.params.items():\n",
    "    print('    {}: {}'.format(key, value))"
   ]
  },
  {
   "cell_type": "code",
   "execution_count": 42,
   "id": "64871ba6",
   "metadata": {},
   "outputs": [],
   "source": [
    "params = trial.params\n",
    "model2 = xgb.XGBRegressor(**params)"
   ]
  },
  {
   "cell_type": "code",
   "execution_count": 43,
   "id": "27661509",
   "metadata": {},
   "outputs": [],
   "source": [
    "X_train, X_test, y_train, y_test = train_test_split(df1, df['Lsat/lu'], test_size=0.2, random_state=42)"
   ]
  },
  {
   "cell_type": "code",
   "execution_count": 44,
   "id": "833ceb33",
   "metadata": {},
   "outputs": [
    {
     "data": {
      "text/plain": [
       "0.17416592806854478"
      ]
     },
     "execution_count": 44,
     "metadata": {},
     "output_type": "execute_result"
    }
   ],
   "source": [
    "model2.fit(X_train, y_train)\n",
    "mean_absolute_percentage_error(y_test, model2.predict(X_test))"
   ]
  },
  {
   "cell_type": "code",
   "execution_count": 45,
   "id": "c922262d",
   "metadata": {},
   "outputs": [
    {
     "name": "stdout",
     "output_type": "stream",
     "text": [
      "0.16512482975320594\n"
     ]
    }
   ],
   "source": [
    "def scores2(trial,X,y):\n",
    "    fold = KFold(n_splits=3, shuffle=True, random_state=0)\n",
    "    scores = []\n",
    "    for i, (train_index, test_index) in enumerate(fold.split(X)):\n",
    "        params = trial.params\n",
    "        model = xgb.XGBRegressor(**params)\n",
    "        model.fit(X.iloc[train_index],y.iloc[train_index])\n",
    "        scores.append(mean_absolute_percentage_error((y.iloc[test_index]),\n",
    "                                                     (model.predict(X.iloc[test_index]))))\n",
    "\n",
    "        \n",
    "    return np.mean(scores)\n",
    "\n",
    "\n",
    "\n",
    "\n",
    "\n",
    "print(scores2(trial,X,y))"
   ]
  },
  {
   "cell_type": "code",
   "execution_count": 46,
   "id": "5740ad3e",
   "metadata": {},
   "outputs": [],
   "source": [
    "X = df1\n",
    "y = df['optim']"
   ]
  },
  {
   "cell_type": "code",
   "execution_count": 47,
   "id": "6863b936",
   "metadata": {},
   "outputs": [
    {
     "name": "stderr",
     "output_type": "stream",
     "text": [
      "\u001b[32m[I 2023-03-10 20:47:59,042]\u001b[0m A new study created in memory with name: no-name-e5573f28-3492-4387-b716-3555d76f8321\u001b[0m\n"
     ]
    }
   ],
   "source": [
    "study = optuna.create_study(direction='minimize')"
   ]
  },
  {
   "cell_type": "code",
   "execution_count": 48,
   "id": "ad48133b",
   "metadata": {},
   "outputs": [],
   "source": [
    "study.optimize(objective_cv, n_trials=1000)\n",
    "clear_output()\n"
   ]
  },
  {
   "cell_type": "code",
   "execution_count": 49,
   "id": "f3efb1ee",
   "metadata": {},
   "outputs": [
    {
     "name": "stdout",
     "output_type": "stream",
     "text": [
      "Number of finished trials: 1000\n",
      "Best trial:\n",
      "  Value: 0.07091909884362509\n",
      "  Params: \n",
      "    max_depth: 3\n",
      "    learning_rate: 0.15568887942405812\n",
      "    n_estimators: 97\n",
      "    min_child_weight: 5\n",
      "    gamma: 0.01504271375338533\n",
      "    subsample: 0.6598550727515756\n",
      "    colsample_bytree: 0.4465710483283971\n",
      "    reg_alpha: 4.885769014500491e-06\n",
      "    reg_lambda: 0.021838130707354325\n"
     ]
    }
   ],
   "source": [
    "print('Number of finished trials: {}'.format(len(study.trials)))\n",
    "print('Best trial:')\n",
    "trial = study.best_trial\n",
    "\n",
    "print('  Value: {}'.format(trial.value))\n",
    "print('  Params: ')\n",
    "\n",
    "for key, value in trial.params.items():\n",
    "    print('    {}: {}'.format(key, value))"
   ]
  },
  {
   "cell_type": "code",
   "execution_count": 50,
   "id": "738b6f7c",
   "metadata": {},
   "outputs": [],
   "source": [
    "params = trial.params\n",
    "model3 = xgb.XGBRegressor(**params)"
   ]
  },
  {
   "cell_type": "code",
   "execution_count": 51,
   "id": "7cf9d587",
   "metadata": {},
   "outputs": [],
   "source": [
    "X_train, X_test, y_train, y_test = train_test_split(df1, df['optim'], test_size=0.2, random_state=42)"
   ]
  },
  {
   "cell_type": "code",
   "execution_count": 52,
   "id": "9cfd2b32",
   "metadata": {},
   "outputs": [
    {
     "data": {
      "text/plain": [
       "0.2958900720480833"
      ]
     },
     "execution_count": 52,
     "metadata": {},
     "output_type": "execute_result"
    }
   ],
   "source": [
    "model3.fit(X_train, y_train)\n",
    "mean_absolute_percentage_error(y_test, model3.predict(X_test))"
   ]
  },
  {
   "cell_type": "code",
   "execution_count": 53,
   "id": "17486c74",
   "metadata": {},
   "outputs": [
    {
     "name": "stdout",
     "output_type": "stream",
     "text": [
      "0.24810655963670644\n"
     ]
    }
   ],
   "source": [
    "def scores2(trial,X,y):\n",
    "    fold = KFold(n_splits=3, shuffle=True, random_state=0)\n",
    "    scores = []\n",
    "    for i, (train_index, test_index) in enumerate(fold.split(X)):\n",
    "        params = trial.params\n",
    "        model = xgb.XGBRegressor(**params)\n",
    "        model.fit(X.iloc[train_index],y.iloc[train_index])\n",
    "        scores.append(mean_absolute_percentage_error((y.iloc[test_index]),\n",
    "                                                     (model.predict(X.iloc[test_index]))))\n",
    "\n",
    "        \n",
    "    return np.mean(scores)\n",
    "\n",
    "\n",
    "\n",
    "\n",
    "\n",
    "print(scores2(trial,X,y))"
   ]
  },
  {
   "cell_type": "code",
   "execution_count": 54,
   "id": "5794dbb8",
   "metadata": {},
   "outputs": [
    {
     "name": "stdout",
     "output_type": "stream",
     "text": [
      "P_sat= 20737657.037191093\n",
      "L_sat= 10.73147325515747\n",
      "l_optim= 5.107075781708019e-07\n",
      "l_res= 5.084255555555554e-07\n"
     ]
    }
   ],
   "source": [
    "from scipy.special import jv\n",
    "\n",
    "X = pd.DataFrame({'k':[2.13], 'lu':[2.8], 'I':[53], 'gamma':[300], 'sgamma':[0.0002], \n",
    "                  'r':[0.00012], 'log0':[2000]})\n",
    "\n",
    "ksi = X['k']**2/(1+X['k']**2/2)/4\n",
    "f = jv(0,ksi)-jv(1,ksi)\n",
    "\n",
    "rho = 1/2/(X['gamma'])*(X['I']/X['r']**2/np.pi/4/np.pi/17000*(X['lu']/100*X['k']*f)**2)**(1/3)\n",
    "X['log0'] = np.log(X['log0']/X['I']/X['gamma']/511000)\n",
    "\n",
    "\n",
    "\n",
    "\n",
    "print('P_sat=', (np.exp(model1.predict(X))*X['gamma']*511000*X['I'])[0])\n",
    "print('L_sat=', (model2.predict(X)*X['lu'])[0])\n",
    "print('l_optim=', ((model3.predict(X)*rho+1)*X['lu']/100/2/X['gamma']/X['gamma']*(1+X['k']*X['k']/2))[0])\n",
    "print('l_res=', (X['lu']/100/2/X['gamma']/X['gamma']*(1+X['k']*X['k']/2))[0])"
   ]
  },
  {
   "cell_type": "code",
   "execution_count": 55,
   "id": "93c9a2ff",
   "metadata": {},
   "outputs": [
    {
     "data": {
      "text/plain": [
       "1197"
      ]
     },
     "execution_count": 55,
     "metadata": {},
     "output_type": "execute_result"
    }
   ],
   "source": [
    "len(df)"
   ]
  },
  {
   "cell_type": "code",
   "execution_count": null,
   "id": "70cf47ac",
   "metadata": {},
   "outputs": [],
   "source": []
  }
 ],
 "metadata": {
  "kernelspec": {
   "display_name": "Python 3 (ipykernel)",
   "language": "python",
   "name": "python3"
  },
  "language_info": {
   "codemirror_mode": {
    "name": "ipython",
    "version": 3
   },
   "file_extension": ".py",
   "mimetype": "text/x-python",
   "name": "python",
   "nbconvert_exporter": "python",
   "pygments_lexer": "ipython3",
   "version": "3.9.16"
  }
 },
 "nbformat": 4,
 "nbformat_minor": 5
}
