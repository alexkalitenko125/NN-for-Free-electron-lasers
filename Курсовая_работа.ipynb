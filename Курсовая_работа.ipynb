{
 "cells": [
  {
   "cell_type": "code",
   "execution_count": 299,
   "id": "0434e645",
   "metadata": {},
   "outputs": [],
   "source": [
    "import pandas as pd\n",
    "from sklearn.ensemble import RandomForestRegressor\n",
    "import numpy as np\n",
    "import seaborn as sns\n",
    "import matplotlib.pyplot as plt"
   ]
  },
  {
   "cell_type": "code",
   "execution_count": 300,
   "id": "44846a8f",
   "metadata": {},
   "outputs": [],
   "source": [
    "np.random.seed(42)\n"
   ]
  },
  {
   "cell_type": "code",
   "execution_count": 301,
   "id": "7d82cd1d",
   "metadata": {},
   "outputs": [],
   "source": [
    "df = pd.read_csv('Данные.csv', sep=';')"
   ]
  },
  {
   "cell_type": "code",
   "execution_count": 302,
   "id": "776d491e",
   "metadata": {},
   "outputs": [
    {
     "data": {
      "text/html": [
       "<div>\n",
       "<style scoped>\n",
       "    .dataframe tbody tr th:only-of-type {\n",
       "        vertical-align: middle;\n",
       "    }\n",
       "\n",
       "    .dataframe tbody tr th {\n",
       "        vertical-align: top;\n",
       "    }\n",
       "\n",
       "    .dataframe thead th {\n",
       "        text-align: right;\n",
       "    }\n",
       "</style>\n",
       "<table border=\"1\" class=\"dataframe\">\n",
       "  <thead>\n",
       "    <tr style=\"text-align: right;\">\n",
       "      <th></th>\n",
       "      <th>k</th>\n",
       "      <th>lu</th>\n",
       "      <th>P0</th>\n",
       "      <th>I</th>\n",
       "      <th>gamma</th>\n",
       "      <th>sgamma</th>\n",
       "      <th>r</th>\n",
       "      <th>Psat</th>\n",
       "      <th>Lsat</th>\n",
       "      <th>loptim</th>\n",
       "      <th>lres</th>\n",
       "      <th>loptim/lres</th>\n",
       "      <th>Psat/Pall</th>\n",
       "      <th>Lsat/lu</th>\n",
       "      <th>f</th>\n",
       "      <th>rho</th>\n",
       "      <th>P0/Pall</th>\n",
       "    </tr>\n",
       "  </thead>\n",
       "  <tbody>\n",
       "    <tr>\n",
       "      <th>0</th>\n",
       "      <td>3.89</td>\n",
       "      <td>3.69</td>\n",
       "      <td>12800000.0</td>\n",
       "      <td>80.0</td>\n",
       "      <td>2650.0</td>\n",
       "      <td>0.0</td>\n",
       "      <td>0.0001</td>\n",
       "      <td>1.430000e+08</td>\n",
       "      <td>18.5</td>\n",
       "      <td>2.261250e-08</td>\n",
       "      <td>2.257770e-08</td>\n",
       "      <td>0.001542</td>\n",
       "      <td>0.00132</td>\n",
       "      <td>5.01</td>\n",
       "      <td>0.736</td>\n",
       "      <td>0.000965</td>\n",
       "      <td>1.180000e-04</td>\n",
       "    </tr>\n",
       "    <tr>\n",
       "      <th>1</th>\n",
       "      <td>3.89</td>\n",
       "      <td>3.69</td>\n",
       "      <td>12800.0</td>\n",
       "      <td>80.0</td>\n",
       "      <td>1000.0</td>\n",
       "      <td>0.0</td>\n",
       "      <td>0.0001</td>\n",
       "      <td>9.800000e+07</td>\n",
       "      <td>16.7</td>\n",
       "      <td>1.585280e-07</td>\n",
       "      <td>1.580440e-07</td>\n",
       "      <td>0.003065</td>\n",
       "      <td>0.00240</td>\n",
       "      <td>4.52</td>\n",
       "      <td>0.736</td>\n",
       "      <td>0.002550</td>\n",
       "      <td>3.130000e-07</td>\n",
       "    </tr>\n",
       "    <tr>\n",
       "      <th>2</th>\n",
       "      <td>3.98</td>\n",
       "      <td>3.69</td>\n",
       "      <td>150000.0</td>\n",
       "      <td>500.0</td>\n",
       "      <td>2830.0</td>\n",
       "      <td>0.0</td>\n",
       "      <td>0.0001</td>\n",
       "      <td>1.130000e+09</td>\n",
       "      <td>20.3</td>\n",
       "      <td>2.061380e-08</td>\n",
       "      <td>2.057220e-08</td>\n",
       "      <td>0.002024</td>\n",
       "      <td>0.00156</td>\n",
       "      <td>5.49</td>\n",
       "      <td>0.735</td>\n",
       "      <td>0.001690</td>\n",
       "      <td>2.070000e-07</td>\n",
       "    </tr>\n",
       "    <tr>\n",
       "      <th>3</th>\n",
       "      <td>3.98</td>\n",
       "      <td>3.69</td>\n",
       "      <td>1500000.0</td>\n",
       "      <td>500.0</td>\n",
       "      <td>3160.0</td>\n",
       "      <td>0.0</td>\n",
       "      <td>0.0001</td>\n",
       "      <td>1.100000e+09</td>\n",
       "      <td>18.3</td>\n",
       "      <td>1.648760e-08</td>\n",
       "      <td>1.645770e-08</td>\n",
       "      <td>0.001814</td>\n",
       "      <td>0.00136</td>\n",
       "      <td>4.96</td>\n",
       "      <td>0.735</td>\n",
       "      <td>0.001510</td>\n",
       "      <td>1.850000e-06</td>\n",
       "    </tr>\n",
       "    <tr>\n",
       "      <th>4</th>\n",
       "      <td>3.98</td>\n",
       "      <td>3.69</td>\n",
       "      <td>150000.0</td>\n",
       "      <td>500.0</td>\n",
       "      <td>2650.0</td>\n",
       "      <td>0.0</td>\n",
       "      <td>0.0001</td>\n",
       "      <td>1.180000e+09</td>\n",
       "      <td>19.4</td>\n",
       "      <td>2.356200e-08</td>\n",
       "      <td>2.351110e-08</td>\n",
       "      <td>0.002164</td>\n",
       "      <td>0.00175</td>\n",
       "      <td>5.25</td>\n",
       "      <td>0.735</td>\n",
       "      <td>0.001800</td>\n",
       "      <td>2.210000e-07</td>\n",
       "    </tr>\n",
       "  </tbody>\n",
       "</table>\n",
       "</div>"
      ],
      "text/plain": [
       "      k    lu          P0      I   gamma  sgamma       r          Psat  Lsat  \\\n",
       "0  3.89  3.69  12800000.0   80.0  2650.0     0.0  0.0001  1.430000e+08  18.5   \n",
       "1  3.89  3.69     12800.0   80.0  1000.0     0.0  0.0001  9.800000e+07  16.7   \n",
       "2  3.98  3.69    150000.0  500.0  2830.0     0.0  0.0001  1.130000e+09  20.3   \n",
       "3  3.98  3.69   1500000.0  500.0  3160.0     0.0  0.0001  1.100000e+09  18.3   \n",
       "4  3.98  3.69    150000.0  500.0  2650.0     0.0  0.0001  1.180000e+09  19.4   \n",
       "\n",
       "         loptim          lres  loptim/lres  Psat/Pall  Lsat/lu      f  \\\n",
       "0  2.261250e-08  2.257770e-08     0.001542    0.00132     5.01  0.736   \n",
       "1  1.585280e-07  1.580440e-07     0.003065    0.00240     4.52  0.736   \n",
       "2  2.061380e-08  2.057220e-08     0.002024    0.00156     5.49  0.735   \n",
       "3  1.648760e-08  1.645770e-08     0.001814    0.00136     4.96  0.735   \n",
       "4  2.356200e-08  2.351110e-08     0.002164    0.00175     5.25  0.735   \n",
       "\n",
       "        rho       P0/Pall  \n",
       "0  0.000965  1.180000e-04  \n",
       "1  0.002550  3.130000e-07  \n",
       "2  0.001690  2.070000e-07  \n",
       "3  0.001510  1.850000e-06  \n",
       "4  0.001800  2.210000e-07  "
      ]
     },
     "execution_count": 302,
     "metadata": {},
     "output_type": "execute_result"
    }
   ],
   "source": [
    "df.head()"
   ]
  },
  {
   "cell_type": "code",
   "execution_count": 303,
   "id": "ddb4c50f",
   "metadata": {},
   "outputs": [],
   "source": [
    "df = df.dropna()"
   ]
  },
  {
   "cell_type": "markdown",
   "id": "2f5725d9",
   "metadata": {},
   "source": [
    "Look at the power distribution. "
   ]
  },
  {
   "cell_type": "code",
   "execution_count": 304,
   "id": "b4778146",
   "metadata": {},
   "outputs": [
    {
     "data": {
      "text/plain": [
       "Text(0.5, 1.0, 'Power hist')"
      ]
     },
     "execution_count": 304,
     "metadata": {},
     "output_type": "execute_result"
    },
    {
     "data": {
      "image/png": "[encoded data removed]",
      "text/plain": [
       "<Figure size 432x288 with 1 Axes>"
      ]
     },
     "metadata": {
      "needs_background": "light"
     },
     "output_type": "display_data"
    }
   ],
   "source": [
    "sns.histplot(df, x='Psat/Pall')\n",
    "plt.title(\"Power hist\")"
   ]
  },
  {
   "cell_type": "markdown",
   "id": "d54939a0",
   "metadata": {},
   "source": [
    "Delete all the blowout(rho>0.012) "
   ]
  },
  {
   "cell_type": "code",
   "execution_count": 305,
   "id": "059124db",
   "metadata": {},
   "outputs": [],
   "source": [
    "df = df[df['Psat/Pall']<0.012]"
   ]
  },
  {
   "cell_type": "markdown",
   "id": "7d4793dd",
   "metadata": {},
   "source": [
    "Create a new feature log(Psat/Pall)"
   ]
  },
  {
   "cell_type": "code",
   "execution_count": 306,
   "id": "f346dff6",
   "metadata": {},
   "outputs": [],
   "source": [
    "df['log'] = np.log(df[['Psat/Pall']])"
   ]
  },
  {
   "cell_type": "code",
   "execution_count": 307,
   "id": "8609874f",
   "metadata": {},
   "outputs": [],
   "source": [
    "df['log0'] = np.log(df['P0']/df['I']/df['gamma']/511000)"
   ]
  },
  {
   "cell_type": "code",
   "execution_count": 308,
   "id": "577667aa",
   "metadata": {},
   "outputs": [
    {
     "data": {
      "text/plain": [
       "Text(0.5, 1.0, 'Power hist')"
      ]
     },
     "execution_count": 308,
     "metadata": {},
     "output_type": "execute_result"
    },
    {
     "data": {
      "image/png": "[encoded data removed]",
      "text/plain": [
       "<Figure size 432x288 with 1 Axes>"
      ]
     },
     "metadata": {
      "needs_background": "light"
     },
     "output_type": "display_data"
    }
   ],
   "source": [
    "sns.histplot(df, x='log0')\n",
    "plt.title(\"Power hist\")"
   ]
  },
  {
   "cell_type": "code",
   "execution_count": 309,
   "id": "89986f0c",
   "metadata": {},
   "outputs": [
    {
     "data": {
      "text/plain": [
       "Text(0.5, 1.0, 'Power hist')"
      ]
     },
     "execution_count": 309,
     "metadata": {},
     "output_type": "execute_result"
    },
    {
     "data": {
      "image/png": "[encoded data removed]",
      "text/plain": [
       "<Figure size 432x288 with 1 Axes>"
      ]
     },
     "metadata": {
      "needs_background": "light"
     },
     "output_type": "display_data"
    }
   ],
   "source": [
    "sns.histplot(df, x='log')\n",
    "plt.title(\"Power hist\")"
   ]
  },
  {
   "cell_type": "code",
   "execution_count": 310,
   "id": "076ed995",
   "metadata": {},
   "outputs": [
    {
     "data": {
      "text/plain": [
       "Text(0.5, 1.0, 'L_sat hist')"
      ]
     },
     "execution_count": 310,
     "metadata": {},
     "output_type": "execute_result"
    },
    {
     "data": {
      "image/png": "[encoded data removed]",
      "text/plain": [
       "<Figure size 432x288 with 1 Axes>"
      ]
     },
     "metadata": {
      "needs_background": "light"
     },
     "output_type": "display_data"
    }
   ],
   "source": [
    "sns.histplot(df, x='Lsat')\n",
    "plt.title(\"L_sat hist\")"
   ]
  },
  {
   "cell_type": "code",
   "execution_count": 311,
   "id": "ae2a57a8",
   "metadata": {},
   "outputs": [
    {
     "data": {
      "text/plain": [
       "Text(0.5, 1.0, 'L_sat hist')"
      ]
     },
     "execution_count": 311,
     "metadata": {},
     "output_type": "execute_result"
    },
    {
     "data": {
      "image/png": "[encoded data removed]",
      "text/plain": [
       "<Figure size 432x288 with 1 Axes>"
      ]
     },
     "metadata": {
      "needs_background": "light"
     },
     "output_type": "display_data"
    }
   ],
   "source": [
    "sns.histplot(df, x='Lsat/lu')\n",
    "plt.title(\"L_sat hist\")"
   ]
  },
  {
   "cell_type": "code",
   "execution_count": 312,
   "id": "e13d32a5",
   "metadata": {},
   "outputs": [
    {
     "data": {
      "text/plain": [
       "Text(0.5, 1.0, 'lambda')"
      ]
     },
     "execution_count": 312,
     "metadata": {},
     "output_type": "execute_result"
    },
    {
     "data": {
      "image/png": "[encoded data removed]",
      "text/plain": [
       "<Figure size 432x288 with 1 Axes>"
      ]
     },
     "metadata": {
      "needs_background": "light"
     },
     "output_type": "display_data"
    }
   ],
   "source": [
    "sns.histplot(df, x='loptim/lres')\n",
    "plt.title(\"lambda\")"
   ]
  },
  {
   "cell_type": "code",
   "execution_count": 313,
   "id": "fb1fda48",
   "metadata": {},
   "outputs": [
    {
     "data": {
      "text/plain": [
       "Text(0.5, 1.0, 'rho')"
      ]
     },
     "execution_count": 313,
     "metadata": {},
     "output_type": "execute_result"
    },
    {
     "data": {
      "image/png": "[encoded data removed]",
      "text/plain": [
       "<Figure size 432x288 with 1 Axes>"
      ]
     },
     "metadata": {
      "needs_background": "light"
     },
     "output_type": "display_data"
    }
   ],
   "source": [
    "sns.histplot(df, x='rho')\n",
    "plt.title(\"rho\")"
   ]
  },
  {
   "cell_type": "code",
   "execution_count": 314,
   "id": "64f0a843",
   "metadata": {},
   "outputs": [
    {
     "data": {
      "text/plain": [
       "<AxesSubplot:xlabel='optim', ylabel='Count'>"
      ]
     },
     "execution_count": 314,
     "metadata": {},
     "output_type": "execute_result"
    },
    {
     "data": {
      "image/png": "[encoded data removed]",
      "text/plain": [
       "<Figure size 432x288 with 1 Axes>"
      ]
     },
     "metadata": {
      "needs_background": "light"
     },
     "output_type": "display_data"
    }
   ],
   "source": [
    "df['optim'] = df['loptim/lres']/df['rho']\n",
    "sns.histplot(df, x='optim')\n",
    "\n"
   ]
  },
  {
   "cell_type": "code",
   "execution_count": 315,
   "id": "a9debc8f",
   "metadata": {},
   "outputs": [],
   "source": [
    "df = df[df['optim']<2]"
   ]
  },
  {
   "cell_type": "code",
   "execution_count": 316,
   "id": "de7b6675",
   "metadata": {},
   "outputs": [],
   "source": [
    "df1 = df.drop(columns=['P0', 'optim', 'P0/Pall', 'Psat', 'Lsat', 'loptim','lres', 'loptim/lres', 'Psat/Pall', 'Lsat/lu', 'f', 'rho', 'log'])"
   ]
  },
  {
   "cell_type": "code",
   "execution_count": 317,
   "id": "eefd82ea",
   "metadata": {},
   "outputs": [
    {
     "data": {
      "text/html": [
       "<div>\n",
       "<style scoped>\n",
       "    .dataframe tbody tr th:only-of-type {\n",
       "        vertical-align: middle;\n",
       "    }\n",
       "\n",
       "    .dataframe tbody tr th {\n",
       "        vertical-align: top;\n",
       "    }\n",
       "\n",
       "    .dataframe thead th {\n",
       "        text-align: right;\n",
       "    }\n",
       "</style>\n",
       "<table border=\"1\" class=\"dataframe\">\n",
       "  <thead>\n",
       "    <tr style=\"text-align: right;\">\n",
       "      <th></th>\n",
       "      <th>k</th>\n",
       "      <th>lu</th>\n",
       "      <th>I</th>\n",
       "      <th>gamma</th>\n",
       "      <th>sgamma</th>\n",
       "      <th>r</th>\n",
       "      <th>log0</th>\n",
       "    </tr>\n",
       "  </thead>\n",
       "  <tbody>\n",
       "    <tr>\n",
       "      <th>1128</th>\n",
       "      <td>1.15</td>\n",
       "      <td>3.80</td>\n",
       "      <td>60.0</td>\n",
       "      <td>1000.0</td>\n",
       "      <td>0.0005</td>\n",
       "      <td>0.00005</td>\n",
       "      <td>-10.797523</td>\n",
       "    </tr>\n",
       "    <tr>\n",
       "      <th>1129</th>\n",
       "      <td>2.38</td>\n",
       "      <td>3.80</td>\n",
       "      <td>800.0</td>\n",
       "      <td>8940.0</td>\n",
       "      <td>0.0005</td>\n",
       "      <td>0.00005</td>\n",
       "      <td>-11.639550</td>\n",
       "    </tr>\n",
       "    <tr>\n",
       "      <th>1130</th>\n",
       "      <td>3.79</td>\n",
       "      <td>3.80</td>\n",
       "      <td>600.0</td>\n",
       "      <td>3160.0</td>\n",
       "      <td>0.0005</td>\n",
       "      <td>0.00005</td>\n",
       "      <td>-12.688598</td>\n",
       "    </tr>\n",
       "    <tr>\n",
       "      <th>1131</th>\n",
       "      <td>1.67</td>\n",
       "      <td>3.67</td>\n",
       "      <td>700.0</td>\n",
       "      <td>707.0</td>\n",
       "      <td>0.0005</td>\n",
       "      <td>0.00005</td>\n",
       "      <td>-14.010943</td>\n",
       "    </tr>\n",
       "    <tr>\n",
       "      <th>1132</th>\n",
       "      <td>1.67</td>\n",
       "      <td>3.67</td>\n",
       "      <td>700.0</td>\n",
       "      <td>775.0</td>\n",
       "      <td>0.0005</td>\n",
       "      <td>0.00005</td>\n",
       "      <td>-11.800190</td>\n",
       "    </tr>\n",
       "  </tbody>\n",
       "</table>\n",
       "</div>"
      ],
      "text/plain": [
       "         k    lu      I   gamma  sgamma        r       log0\n",
       "1128  1.15  3.80   60.0  1000.0  0.0005  0.00005 -10.797523\n",
       "1129  2.38  3.80  800.0  8940.0  0.0005  0.00005 -11.639550\n",
       "1130  3.79  3.80  600.0  3160.0  0.0005  0.00005 -12.688598\n",
       "1131  1.67  3.67  700.0   707.0  0.0005  0.00005 -14.010943\n",
       "1132  1.67  3.67  700.0   775.0  0.0005  0.00005 -11.800190"
      ]
     },
     "execution_count": 317,
     "metadata": {},
     "output_type": "execute_result"
    }
   ],
   "source": [
    "df1.tail()"
   ]
  },
  {
   "cell_type": "code",
   "execution_count": 318,
   "id": "46407fb6",
   "metadata": {},
   "outputs": [],
   "source": [
    "from sklearn.model_selection import train_test_split\n",
    "\n",
    "X_train, X_test, y_train, y_test = train_test_split(df1, df['log'], test_size=0.2, random_state=42)"
   ]
  },
  {
   "cell_type": "code",
   "execution_count": 319,
   "id": "06140b34",
   "metadata": {},
   "outputs": [
    {
     "data": {
      "text/plain": [
       "0.23796141077879504"
      ]
     },
     "execution_count": 319,
     "metadata": {},
     "output_type": "execute_result"
    }
   ],
   "source": [
    "from sklearn.metrics import mean_absolute_percentage_error\n",
    "\n",
    "clf1 = RandomForestRegressor(max_depth=20, random_state=0)\n",
    "clf1.fit(X_train, y_train)\n",
    "mean_absolute_percentage_error(np.exp(y_test), np.exp(clf1.predict(X_test)))"
   ]
  },
  {
   "cell_type": "markdown",
   "id": "87ee52ed",
   "metadata": {},
   "source": [
    "Try to scale the data. It doesn't make sense. "
   ]
  },
  {
   "cell_type": "code",
   "execution_count": 320,
   "id": "5c0a88f6",
   "metadata": {},
   "outputs": [
    {
     "data": {
      "text/plain": [
       "0.23964129505051965"
      ]
     },
     "execution_count": 320,
     "metadata": {},
     "output_type": "execute_result"
    }
   ],
   "source": [
    "from sklearn.preprocessing import MinMaxScaler\n",
    "\n",
    "scaler = MinMaxScaler()\n",
    "scaler.fit(X_train)\n",
    "X_train = scaler.transform(X_train)\n",
    "X_test = scaler.transform(X_test) \n",
    "\n",
    "clf = RandomForestRegressor(max_depth=20, random_state=0)\n",
    "clf.fit(X_train, y_train)\n",
    "mean_absolute_percentage_error(np.exp(y_test), np.exp(clf.predict(X_test)))"
   ]
  },
  {
   "cell_type": "markdown",
   "id": "fdc9bf2d",
   "metadata": {},
   "source": [
    "Train the classificator for the saturation length."
   ]
  },
  {
   "cell_type": "code",
   "execution_count": 321,
   "id": "7665e889",
   "metadata": {
    "scrolled": true
   },
   "outputs": [
    {
     "data": {
      "text/plain": [
       "0.1586336836535758"
      ]
     },
     "execution_count": 321,
     "metadata": {},
     "output_type": "execute_result"
    }
   ],
   "source": [
    "X_train, X_test, y_train, y_test = train_test_split(df1, df['Lsat/lu'], test_size=0.2, random_state=42)\n",
    "\n",
    "\n",
    "clf2 = RandomForestRegressor(max_depth=20, random_state=0)\n",
    "clf2.fit(X_train, y_train)\n",
    "mean_absolute_percentage_error(y_test, clf2.predict(X_test))"
   ]
  },
  {
   "cell_type": "markdown",
   "id": "bfe9bbe7",
   "metadata": {},
   "source": [
    "The classificator for the optimum wavelength."
   ]
  },
  {
   "cell_type": "code",
   "execution_count": 322,
   "id": "2c558a09",
   "metadata": {},
   "outputs": [
    {
     "data": {
      "text/plain": [
       "0.2642061066369756"
      ]
     },
     "execution_count": 322,
     "metadata": {},
     "output_type": "execute_result"
    }
   ],
   "source": [
    "X_train, X_test, y_train, y_test = train_test_split(df1, df['optim'], test_size=0.2, random_state=42)\n",
    "\n",
    "\n",
    "\n",
    "clf3 = RandomForestRegressor(max_depth=20, random_state=0)\n",
    "clf3.fit(X_train, y_train)\n",
    "mean_absolute_percentage_error(y_test, clf3.predict(X_test))"
   ]
  },
  {
   "cell_type": "code",
   "execution_count": 323,
   "id": "2494db6b",
   "metadata": {
    "scrolled": true
   },
   "outputs": [
    {
     "name": "stdout",
     "output_type": "stream",
     "text": [
      "P_sat= 15312332.04510284\n",
      "L_sat= 14.882559999999996\n",
      "l_optim= 5.107559582429715e-07\n",
      "l_res= 5.084255555555554e-07\n"
     ]
    }
   ],
   "source": [
    "from scipy.special import jv\n",
    "\n",
    "X = pd.DataFrame({'k':[2.13], 'lu':[2.8], 'I':[53], 'gamma':[300], 'sgamma':[0.0002], \n",
    "                  'r':[0.00012], 'log0':[2000]})\n",
    "\n",
    "ksi = X['k']**2/(1+X['k']**2/2)/4\n",
    "f = jv(0,ksi)-jv(1,ksi)\n",
    "\n",
    "rho = 1/2/(X['gamma'])*(X['I']/X['r']**2/np.pi/4/np.pi/17000*(X['lu']/100*X['k']*f)**2)**(1/3)\n",
    "X['log0'] = np.log(X['log0']/X['I']/X['gamma']/511000)\n",
    "\n",
    "\n",
    "print('P_sat=', (np.exp(clf1.predict(X))*X['gamma']*511000*X['I'])[0])\n",
    "print('L_sat=', (clf2.predict(X)*X['lu'])[0])\n",
    "print('l_optim=', ((clf3.predict(X)*rho+1)*X['lu']/100/2/X['gamma']/X['gamma']*(1+X['k']*X['k']/2))[0])\n",
    "print('l_res=', (X['lu']/100/2/X['gamma']/X['gamma']*(1+X['k']*X['k']/2))[0])"
   ]
  },
  {
   "cell_type": "code",
   "execution_count": 324,
   "id": "46b8f196",
   "metadata": {},
   "outputs": [
    {
     "data": {
      "text/plain": [
       "1009    0.000041\n",
       "976     0.000125\n",
       "928     0.000145\n",
       "746     0.000195\n",
       "783     0.000242\n",
       "          ...   \n",
       "548     0.902833\n",
       "524     0.952413\n",
       "873     1.031374\n",
       "604     1.194437\n",
       "886     1.351663\n",
       "Name: Psat/Pall, Length: 1109, dtype: float64"
      ]
     },
     "execution_count": 324,
     "metadata": {},
     "output_type": "execute_result"
    }
   ],
   "source": [
    "y_pred = clf1.predict(df1)\n",
    "err = abs(2*(np.exp(y_pred)-df['Psat/Pall'])/(np.exp(y_pred)+df['Psat/Pall']))\n",
    "err.sort_values()"
   ]
  },
  {
   "cell_type": "code",
   "execution_count": 325,
   "id": "74aef67b",
   "metadata": {},
   "outputs": [
    {
     "data": {
      "text/plain": [
       "771     0.001571\n",
       "422     0.001957\n",
       "643     0.002815\n",
       "949     0.003877\n",
       "601     0.004939\n",
       "          ...   \n",
       "1099    1.277567\n",
       "431     1.279848\n",
       "496     1.287771\n",
       "432     1.292844\n",
       "436     1.378529\n",
       "Name: Lsat, Length: 1109, dtype: float64"
      ]
     },
     "execution_count": 325,
     "metadata": {},
     "output_type": "execute_result"
    }
   ],
   "source": [
    "y_pred = clf2.predict(df1)\n",
    "err = abs(2*(y_pred-df['Lsat'])/(y_pred+df['Lsat']))\n",
    "err.sort_values()"
   ]
  },
  {
   "cell_type": "code",
   "execution_count": 326,
   "id": "0327f982",
   "metadata": {
    "scrolled": true
   },
   "outputs": [
    {
     "data": {
      "text/plain": [
       "112    0.000106\n",
       "839    0.000112\n",
       "169    0.000237\n",
       "191    0.000242\n",
       "111    0.000261\n",
       "         ...   \n",
       "464    1.110272\n",
       "790    1.470281\n",
       "681    1.505031\n",
       "705    1.642517\n",
       "686    1.727820\n",
       "Name: optim, Length: 1109, dtype: float64"
      ]
     },
     "execution_count": 326,
     "metadata": {},
     "output_type": "execute_result"
    }
   ],
   "source": [
    "y_pred = clf3.predict(df1)\n",
    "err = abs(2*(y_pred-df['optim'])/(y_pred+df['optim']))\n",
    "err.sort_values()"
   ]
  },
  {
   "cell_type": "markdown",
   "id": "5a4f4ca9",
   "metadata": {},
   "source": [
    "Do the same with gradient boosting. "
   ]
  },
  {
   "cell_type": "code",
   "execution_count": 327,
   "id": "a74f7750",
   "metadata": {},
   "outputs": [],
   "source": [
    "import optuna\n",
    "import xgboost as xgb\n",
    "from sklearn.metrics import mean_squared_error\n",
    "from sklearn.model_selection import KFold\n",
    "from IPython.display import clear_output"
   ]
  },
  {
   "cell_type": "code",
   "execution_count": 328,
   "id": "92450034",
   "metadata": {},
   "outputs": [],
   "source": [
    "def objective(trial, X_train, y_train, X_test, y_test):\n",
    "    \"\"\"Define the objective function\"\"\"\n",
    "\n",
    "    params = {\n",
    "        'max_depth': trial.suggest_int('max_depth', 1, 30),\n",
    "        'learning_rate': trial.suggest_loguniform('learning_rate', 0.1, 1.0),\n",
    "        'n_estimators': trial.suggest_int('n_estimators', 50, 500),\n",
    "        'min_child_weight': trial.suggest_int('min_child_weight', 1, 10),\n",
    "        'gamma': trial.suggest_loguniform('gamma', 1e-8, 1.0),\n",
    "        'subsample': trial.suggest_loguniform('subsample', 0.01, 1.0),\n",
    "        'colsample_bytree': trial.suggest_loguniform('colsample_bytree', 0.01, 1.0),\n",
    "        'reg_alpha': trial.suggest_loguniform('reg_alpha', 1e-8, 1.0),\n",
    "        'reg_lambda': trial.suggest_loguniform('reg_lambda', 1e-8, 1.0),\n",
    "        'eval_metric': 'rmse',\n",
    "        'use_label_encoder': False\n",
    "    }\n",
    "\n",
    "    # Fit the model\n",
    "    optuna_model = xgb.XGBRegressor(**params)\n",
    "    optuna_model.fit(X_train, y_train)\n",
    "\n",
    "    # Make predictions\n",
    "    y_pred = optuna_model.predict(X_test)\n",
    "\n",
    "    # Evaluate predictions\n",
    "    accuracy = mean_squared_error(y_test, y_pred)\n",
    "    return accuracy\n",
    "\n",
    "\n",
    "def objective_cv(trial):\n",
    "    fold = KFold(n_splits=3, shuffle=True, random_state=0)\n",
    "    scores = []\n",
    "    for i, (train_index, test_index) in enumerate(fold.split(X)):\n",
    "        scores.append(objective(trial, X.iloc[train_index], y.iloc[train_index],  \n",
    "                                X.iloc[test_index], y.iloc[test_index]))\n",
    "        \n",
    "    return np.mean(scores)\n",
    "    "
   ]
  },
  {
   "cell_type": "code",
   "execution_count": 329,
   "id": "c5a614fb",
   "metadata": {},
   "outputs": [],
   "source": [
    "X = df1\n",
    "y = df['log']\n"
   ]
  },
  {
   "cell_type": "code",
   "execution_count": 330,
   "id": "c13697f5",
   "metadata": {},
   "outputs": [
    {
     "name": "stderr",
     "output_type": "stream",
     "text": [
      "\u001b[32m[I 2023-03-09 13:01:29,612]\u001b[0m A new study created in memory with name: no-name-7871ce3c-c81a-4983-b5aa-e5a9b8240c4e\u001b[0m\n"
     ]
    }
   ],
   "source": [
    "study = optuna.create_study(direction='minimize')\n"
   ]
  },
  {
   "cell_type": "code",
   "execution_count": 331,
   "id": "580ceaf4",
   "metadata": {},
   "outputs": [],
   "source": [
    "study.optimize(objective_cv, n_trials=300)\n",
    "clear_output()\n"
   ]
  },
  {
   "cell_type": "code",
   "execution_count": 332,
   "id": "f878f1f3",
   "metadata": {},
   "outputs": [
    {
     "name": "stdout",
     "output_type": "stream",
     "text": [
      "Number of finished trials: 300\n",
      "Best trial:\n",
      "  Value: 0.05236555744584311\n",
      "  Params: \n",
      "    max_depth: 2\n",
      "    learning_rate: 0.2462866226242067\n",
      "    n_estimators: 427\n",
      "    min_child_weight: 1\n",
      "    gamma: 0.00021998413973061174\n",
      "    subsample: 0.6573215476207614\n",
      "    colsample_bytree: 0.9366616107200104\n",
      "    reg_alpha: 0.00023464827025715878\n",
      "    reg_lambda: 0.017535087415992096\n"
     ]
    }
   ],
   "source": [
    "print('Number of finished trials: {}'.format(len(study.trials)))\n",
    "print('Best trial:')\n",
    "trial = study.best_trial\n",
    "\n",
    "print('  Value: {}'.format(trial.value))\n",
    "print('  Params: ')\n",
    "\n",
    "for key, value in trial.params.items():\n",
    "    print('    {}: {}'.format(key, value))\n"
   ]
  },
  {
   "cell_type": "code",
   "execution_count": 333,
   "id": "b14e7eda",
   "metadata": {},
   "outputs": [],
   "source": [
    "params = trial.params\n",
    "model1 = xgb.XGBRegressor(**params)"
   ]
  },
  {
   "cell_type": "code",
   "execution_count": 334,
   "id": "78a8abb9",
   "metadata": {},
   "outputs": [
    {
     "data": {
      "text/plain": [
       "0.1794384176585585"
      ]
     },
     "execution_count": 334,
     "metadata": {},
     "output_type": "execute_result"
    }
   ],
   "source": [
    "X_train, X_test, y_train, y_test = train_test_split(df1, df['log'], test_size=0.2, random_state=42)\n",
    "model1.fit(X_train,y_train)\n",
    "\n",
    "mean_absolute_percentage_error(np.exp(y_test), np.exp(model1.predict(X_test)))"
   ]
  },
  {
   "cell_type": "code",
   "execution_count": 335,
   "id": "c2a3c53e",
   "metadata": {},
   "outputs": [],
   "source": [
    "X = df1\n",
    "y = df['Lsat/lu']"
   ]
  },
  {
   "cell_type": "code",
   "execution_count": 336,
   "id": "dae407b2",
   "metadata": {},
   "outputs": [
    {
     "name": "stderr",
     "output_type": "stream",
     "text": [
      "\u001b[32m[I 2023-03-09 13:02:56,675]\u001b[0m A new study created in memory with name: no-name-d54f3f8e-df35-41a3-b836-ef6bd8e47356\u001b[0m\n"
     ]
    }
   ],
   "source": [
    "study = optuna.create_study(direction='minimize')"
   ]
  },
  {
   "cell_type": "code",
   "execution_count": 337,
   "id": "c6bbc556",
   "metadata": {},
   "outputs": [],
   "source": [
    "study.optimize(objective_cv, n_trials=300)\n",
    "clear_output()\n"
   ]
  },
  {
   "cell_type": "code",
   "execution_count": 338,
   "id": "d8f8ed8e",
   "metadata": {},
   "outputs": [
    {
     "name": "stdout",
     "output_type": "stream",
     "text": [
      "Number of finished trials: 300\n",
      "Best trial:\n",
      "  Value: 0.48570492941835813\n",
      "  Params: \n",
      "    max_depth: 2\n",
      "    learning_rate: 0.4205022938859821\n",
      "    n_estimators: 477\n",
      "    min_child_weight: 9\n",
      "    gamma: 2.647391339009773e-07\n",
      "    subsample: 0.73336201081838\n",
      "    colsample_bytree: 0.7061674871241089\n",
      "    reg_alpha: 1.8290199723778425e-08\n",
      "    reg_lambda: 0.0003767610870797067\n"
     ]
    }
   ],
   "source": [
    "print('Number of finished trials: {}'.format(len(study.trials)))\n",
    "print('Best trial:')\n",
    "trial = study.best_trial\n",
    "\n",
    "print('  Value: {}'.format(trial.value))\n",
    "print('  Params: ')\n",
    "\n",
    "for key, value in trial.params.items():\n",
    "    print('    {}: {}'.format(key, value))"
   ]
  },
  {
   "cell_type": "code",
   "execution_count": 339,
   "id": "64871ba6",
   "metadata": {},
   "outputs": [],
   "source": [
    "params = trial.params\n",
    "model2 = xgb.XGBRegressor(**params)"
   ]
  },
  {
   "cell_type": "code",
   "execution_count": 340,
   "id": "27661509",
   "metadata": {},
   "outputs": [],
   "source": [
    "X_train, X_test, y_train, y_test = train_test_split(df1, df['Lsat/lu'], test_size=0.2, random_state=42)"
   ]
  },
  {
   "cell_type": "code",
   "execution_count": 341,
   "id": "833ceb33",
   "metadata": {},
   "outputs": [
    {
     "data": {
      "text/plain": [
       "0.17620834822727624"
      ]
     },
     "execution_count": 341,
     "metadata": {},
     "output_type": "execute_result"
    }
   ],
   "source": [
    "model2.fit(X_train, y_train)\n",
    "mean_absolute_percentage_error(y_test, model2.predict(X_test))"
   ]
  },
  {
   "cell_type": "code",
   "execution_count": 342,
   "id": "5740ad3e",
   "metadata": {},
   "outputs": [],
   "source": [
    "X = df1\n",
    "y = df['optim']"
   ]
  },
  {
   "cell_type": "code",
   "execution_count": 343,
   "id": "6863b936",
   "metadata": {},
   "outputs": [
    {
     "name": "stderr",
     "output_type": "stream",
     "text": [
      "\u001b[32m[I 2023-03-09 13:04:33,419]\u001b[0m A new study created in memory with name: no-name-eb1f8d12-847f-42ec-8027-7a9d051e9105\u001b[0m\n"
     ]
    }
   ],
   "source": [
    "study = optuna.create_study(direction='minimize')"
   ]
  },
  {
   "cell_type": "code",
   "execution_count": 344,
   "id": "ad48133b",
   "metadata": {},
   "outputs": [],
   "source": [
    "study.optimize(objective_cv, n_trials=300)\n",
    "clear_output()\n"
   ]
  },
  {
   "cell_type": "code",
   "execution_count": 345,
   "id": "f3efb1ee",
   "metadata": {},
   "outputs": [
    {
     "name": "stdout",
     "output_type": "stream",
     "text": [
      "Number of finished trials: 300\n",
      "Best trial:\n",
      "  Value: 0.0769830155875863\n",
      "  Params: \n",
      "    max_depth: 2\n",
      "    learning_rate: 0.1601038679542079\n",
      "    n_estimators: 121\n",
      "    min_child_weight: 3\n",
      "    gamma: 4.734523710734847e-07\n",
      "    subsample: 0.5134175185577875\n",
      "    colsample_bytree: 0.019797669272564093\n",
      "    reg_alpha: 0.00022640462613911488\n",
      "    reg_lambda: 3.412654692219869e-08\n"
     ]
    }
   ],
   "source": [
    "print('Number of finished trials: {}'.format(len(study.trials)))\n",
    "print('Best trial:')\n",
    "trial = study.best_trial\n",
    "\n",
    "print('  Value: {}'.format(trial.value))\n",
    "print('  Params: ')\n",
    "\n",
    "for key, value in trial.params.items():\n",
    "    print('    {}: {}'.format(key, value))"
   ]
  },
  {
   "cell_type": "code",
   "execution_count": 346,
   "id": "738b6f7c",
   "metadata": {},
   "outputs": [],
   "source": [
    "params = trial.params\n",
    "model3 = xgb.XGBRegressor(**params)"
   ]
  },
  {
   "cell_type": "code",
   "execution_count": 347,
   "id": "7cf9d587",
   "metadata": {},
   "outputs": [],
   "source": [
    "X_train, X_test, y_train, y_test = train_test_split(df1, df['optim'], test_size=0.2, random_state=42)"
   ]
  },
  {
   "cell_type": "code",
   "execution_count": 348,
   "id": "9cfd2b32",
   "metadata": {},
   "outputs": [
    {
     "data": {
      "text/plain": [
       "0.26867020329908076"
      ]
     },
     "execution_count": 348,
     "metadata": {},
     "output_type": "execute_result"
    }
   ],
   "source": [
    "model3.fit(X_train, y_train)\n",
    "mean_absolute_percentage_error(y_test, model3.predict(X_test))"
   ]
  },
  {
   "cell_type": "code",
   "execution_count": 349,
   "id": "5794dbb8",
   "metadata": {},
   "outputs": [
    {
     "name": "stdout",
     "output_type": "stream",
     "text": [
      "P_sat= 23655169.10108272\n",
      "L_sat= 12.346325302124022\n",
      "l_optim= 5.106433892622312e-07\n",
      "l_res= 5.084255555555554e-07\n"
     ]
    }
   ],
   "source": [
    "from scipy.special import jv\n",
    "\n",
    "X = pd.DataFrame({'k':[2.13], 'lu':[2.8], 'I':[53], 'gamma':[300], 'sgamma':[0.0002], \n",
    "                  'r':[0.00012], 'log0':[2000]})\n",
    "\n",
    "ksi = X['k']**2/(1+X['k']**2/2)/4\n",
    "f = jv(0,ksi)-jv(1,ksi)\n",
    "\n",
    "rho = 1/2/(X['gamma'])*(X['I']/X['r']**2/np.pi/4/np.pi/17000*(X['lu']/100*X['k']*f)**2)**(1/3)\n",
    "X['log0'] = np.log(X['log0']/X['I']/X['gamma']/511000)\n",
    "\n",
    "\n",
    "\n",
    "\n",
    "print('P_sat=', (np.exp(model1.predict(X))*X['gamma']*511000*X['I'])[0])\n",
    "print('L_sat=', (model2.predict(X)*X['lu'])[0])\n",
    "print('l_optim=', ((model3.predict(X)*rho+1)*X['lu']/100/2/X['gamma']/X['gamma']*(1+X['k']*X['k']/2))[0])\n",
    "print('l_res=', (X['lu']/100/2/X['gamma']/X['gamma']*(1+X['k']*X['k']/2))[0])"
   ]
  },
  {
   "cell_type": "code",
   "execution_count": 350,
   "id": "93c9a2ff",
   "metadata": {},
   "outputs": [
    {
     "data": {
      "text/plain": [
       "1109"
      ]
     },
     "execution_count": 350,
     "metadata": {},
     "output_type": "execute_result"
    }
   ],
   "source": [
    "len(df)"
   ]
  },
  {
   "cell_type": "code",
   "execution_count": null,
   "id": "70cf47ac",
   "metadata": {},
   "outputs": [],
   "source": []
  }
 ],
 "metadata": {
  "kernelspec": {
   "display_name": "Python 3 (ipykernel)",
   "language": "python",
   "name": "python3"
  },
  "language_info": {
   "codemirror_mode": {
    "name": "ipython",
    "version": 3
   },
   "file_extension": ".py",
   "mimetype": "text/x-python",
   "name": "python",
   "nbconvert_exporter": "python",
   "pygments_lexer": "ipython3",
   "version": "3.9.7"
  }
 },
 "nbformat": 4,
 "nbformat_minor": 5
}
